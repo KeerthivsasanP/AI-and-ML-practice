{
 "cells": [
  {
   "cell_type": "code",
   "execution_count": 10,
   "id": "9b98d7c2",
   "metadata": {},
   "outputs": [
    {
     "name": "stderr",
     "output_type": "stream",
     "text": [
      "Exception in Tkinter callback\n",
      "Traceback (most recent call last):\n",
      "  File \"C:\\Users\\Admin\\anaconda3\\lib\\tkinter\\__init__.py\", line 1892, in __call__\n",
      "    return self.func(*args)\n",
      "  File \"<ipython-input-10-7fbabcb85cf4>\", line 10, in change_word\n",
      "    print(words_db.French[random.choice(0,words_count-1)])\n",
      "TypeError: choice() takes 2 positional arguments but 3 were given\n"
     ]
    }
   ],
   "source": [
    "from tkinter import *\n",
    "import pandas as pd\n",
    "import random\n",
    "\n",
    "BACKGROUND_COLOR = \"#B1DDC6\"\n",
    "\n",
    "def change_word():\n",
    "    words_db = pd.read_csv(\"data/french_words.csv\")\n",
    "    words_count = words_db.shape[0]\n",
    "    \n",
    "\n",
    "window=Tk()\n",
    "window.title(\"flash card\")\n",
    "window.config(padx=50,pady=50,bg=BACKGROUND_COLOR)\n",
    "\n",
    "canvas=Canvas(width=800,height=526)\n",
    "canvas.config(bg=BACKGROUND_COLOR,highlightthickness=0)\n",
    "card_front_img=PhotoImage(file='images/card_front.png')\n",
    "canvas.create_image(400,263,image=card_front_img)\n",
    "canvas.create_text(400,150,text=\"French\",font=(\"Ariel\",40,\"italic\"))\n",
    "canvas.create_text(400,263,text=\"word\",font=(\"Ariel\",60,\"bold\"))\n",
    "canvas.grid(row=0,column=0,columnspan=2)\n",
    "\n",
    "cross_image=PhotoImage(file='images/wrong.png')\n",
    "unknown_button = Button(image=cross_image,command=change_word)\n",
    "unknown_button.grid(row=1,column=0)\n",
    "\n",
    "check_image = PhotoImage(file='images/right.png')\n",
    "known_button=Button(image=check_image,command=change_word)\n",
    "known_button.grid(row=1,column=1)\n",
    "\n",
    "window.mainloop()\n"
   ]
  },
  {
   "cell_type": "code",
   "execution_count": null,
   "id": "53b9f3c6",
   "metadata": {},
   "outputs": [],
   "source": []
  }
 ],
 "metadata": {
  "kernelspec": {
   "display_name": "Python 3",
   "language": "python",
   "name": "python3"
  },
  "language_info": {
   "codemirror_mode": {
    "name": "ipython",
    "version": 3
   },
   "file_extension": ".py",
   "mimetype": "text/x-python",
   "name": "python",
   "nbconvert_exporter": "python",
   "pygments_lexer": "ipython3",
   "version": "3.8.8"
  }
 },
 "nbformat": 4,
 "nbformat_minor": 5
}
