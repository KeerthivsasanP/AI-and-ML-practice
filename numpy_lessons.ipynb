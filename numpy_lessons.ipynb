{
  "cells": [
    {
      "cell_type": "markdown",
      "metadata": {
        "id": "view-in-github",
        "colab_type": "text"
      },
      "source": [
        "<a href=\"https://colab.research.google.com/github/KeerthivsasanP/Jupyter-notebook/blob/main/numpy_lessons.ipynb\" target=\"_parent\"><img src=\"https://colab.research.google.com/assets/colab-badge.svg\" alt=\"Open In Colab\"/></a>"
      ]
    },
    {
      "cell_type": "markdown",
      "id": "4c2bc7d6",
      "metadata": {
        "id": "4c2bc7d6"
      },
      "source": [
        "# Numpy \n",
        "To handle large array of data. It is of list datatype in python. But the values in a list can vary in datatype in python but the values in the list should be same for numpy. If not it would try to upcast or throw error.\n",
        "\n",
        "To import and check the version of the numpy"
      ]
    },
    {
      "cell_type": "code",
      "execution_count": null,
      "id": "cce0eb45",
      "metadata": {
        "id": "cce0eb45",
        "outputId": "984f91a1-2ebd-4bc1-afec-5611536ce589"
      },
      "outputs": [
        {
          "data": {
            "text/plain": [
              "'1.20.1'"
            ]
          },
          "execution_count": 1,
          "metadata": {},
          "output_type": "execute_result"
        }
      ],
      "source": [
        "import numpy as np\n",
        "np.__version__"
      ]
    },
    {
      "cell_type": "markdown",
      "id": "a71a36b6",
      "metadata": {
        "id": "a71a36b6"
      },
      "source": [
        "To get the documentation of the imported module"
      ]
    },
    {
      "cell_type": "code",
      "execution_count": null,
      "id": "570ef608",
      "metadata": {
        "id": "570ef608"
      },
      "outputs": [],
      "source": [
        "np?"
      ]
    },
    {
      "cell_type": "code",
      "execution_count": null,
      "id": "5ab0bd3e",
      "metadata": {
        "scrolled": true,
        "id": "5ab0bd3e",
        "outputId": "7b0a4de5-6b70-4cf7-a148-e603e35866a6"
      },
      "outputs": [
        {
          "data": {
            "text/plain": [
              "[0, 1, 2, 3, 4]"
            ]
          },
          "execution_count": 3,
          "metadata": {},
          "output_type": "execute_result"
        }
      ],
      "source": [
        "L1=[]\n",
        "for i in range(5):\n",
        "    L1.append(i)\n",
        "L1"
      ]
    },
    {
      "cell_type": "markdown",
      "id": "a78bb9bb",
      "metadata": {
        "id": "a78bb9bb"
      },
      "source": [
        "It tries to upcast the interger to float if possible"
      ]
    },
    {
      "cell_type": "code",
      "execution_count": null,
      "id": "2b72d8ed",
      "metadata": {
        "id": "2b72d8ed",
        "outputId": "ff39b72c-6748-4a06-e39b-a6940e829247"
      },
      "outputs": [
        {
          "data": {
            "text/plain": [
              "array([1., 2., 3., 4.])"
            ]
          },
          "execution_count": 4,
          "metadata": {},
          "output_type": "execute_result"
        }
      ],
      "source": [
        "L2=[1.0,2,3,4]\n",
        "np.array(L2)"
      ]
    },
    {
      "cell_type": "markdown",
      "id": "399af03a",
      "metadata": {
        "id": "399af03a"
      },
      "source": [
        "To specify the datatype explicitly in numpy"
      ]
    },
    {
      "cell_type": "code",
      "execution_count": null,
      "id": "b391f129",
      "metadata": {
        "id": "b391f129",
        "outputId": "e03c60d6-15a7-4325-e121-ab5700b46aee"
      },
      "outputs": [
        {
          "data": {
            "text/plain": [
              "array([1., 2., 3., 4., 5.], dtype=float32)"
            ]
          },
          "execution_count": 5,
          "metadata": {},
          "output_type": "execute_result"
        }
      ],
      "source": [
        "np.array([1,2,3,4,5],dtype=\"float32\")"
      ]
    },
    {
      "cell_type": "markdown",
      "id": "520acb15",
      "metadata": {
        "id": "520acb15"
      },
      "source": [
        "Multidimensional array"
      ]
    },
    {
      "cell_type": "code",
      "execution_count": null,
      "id": "631de9a0",
      "metadata": {
        "id": "631de9a0",
        "outputId": "19e3c436-a7e5-40ce-826c-8cdc7b4029fb"
      },
      "outputs": [
        {
          "data": {
            "text/plain": [
              "array([[2, 3, 4],\n",
              "       [4, 5, 6],\n",
              "       [6, 7, 8]])"
            ]
          },
          "execution_count": 6,
          "metadata": {},
          "output_type": "execute_result"
        }
      ],
      "source": [
        "np.array([range(i,i+3) for i in[2,4,6]])"
      ]
    },
    {
      "cell_type": "raw",
      "id": "17d918cb",
      "metadata": {
        "id": "17d918cb"
      },
      "source": [
        "Creating empty array with builtin functions using numpy"
      ]
    },
    {
      "cell_type": "code",
      "execution_count": null,
      "id": "bed23438",
      "metadata": {
        "id": "bed23438",
        "outputId": "a6b7cb39-bd25-4240-c576-aaa38e311c18"
      },
      "outputs": [
        {
          "data": {
            "text/plain": [
              "array([0, 0, 0, 0, 0, 0, 0, 0, 0, 0])"
            ]
          },
          "execution_count": 7,
          "metadata": {},
          "output_type": "execute_result"
        }
      ],
      "source": [
        "#array filled with 0\n",
        "np.zeros(10, dtype=int)"
      ]
    },
    {
      "cell_type": "code",
      "execution_count": null,
      "id": "bff6ca46",
      "metadata": {
        "id": "bff6ca46",
        "outputId": "772014a4-67d9-4779-bd6e-e99a42842c38"
      },
      "outputs": [
        {
          "data": {
            "text/plain": [
              "array([1., 1., 1., 1., 1.], dtype=float32)"
            ]
          },
          "execution_count": 8,
          "metadata": {},
          "output_type": "execute_result"
        }
      ],
      "source": [
        "#all filled with 1\n",
        "np.ones(5, dtype=\"float32\")"
      ]
    },
    {
      "cell_type": "code",
      "execution_count": null,
      "id": "e088917d",
      "metadata": {
        "id": "e088917d",
        "outputId": "3fc6c464-4e7f-4ee0-8d5d-d1cb15f4582e"
      },
      "outputs": [
        {
          "data": {
            "text/plain": [
              "array([[3.14, 3.14, 3.14, 3.14, 3.14],\n",
              "       [3.14, 3.14, 3.14, 3.14, 3.14],\n",
              "       [3.14, 3.14, 3.14, 3.14, 3.14]])"
            ]
          },
          "execution_count": 9,
          "metadata": {},
          "output_type": "execute_result"
        }
      ],
      "source": [
        "#fill multidimensional array with a particular number\n",
        "np.full((3,5),3.14)"
      ]
    },
    {
      "cell_type": "code",
      "execution_count": null,
      "id": "7bb035e9",
      "metadata": {
        "id": "7bb035e9",
        "outputId": "1244397a-58fb-4f7a-8ff7-4283204f3baa"
      },
      "outputs": [
        {
          "data": {
            "text/plain": [
              "array([[1., 0., 0., 0.],\n",
              "       [0., 1., 0., 0.],\n",
              "       [0., 0., 1., 0.],\n",
              "       [0., 0., 0., 1.]])"
            ]
          },
          "execution_count": 10,
          "metadata": {},
          "output_type": "execute_result"
        }
      ],
      "source": [
        "#identity matrix\n",
        "np.eye(4)"
      ]
    },
    {
      "cell_type": "code",
      "execution_count": null,
      "id": "96942a13",
      "metadata": {
        "id": "96942a13",
        "outputId": "1db3adba-3614-4b88-f9aa-b03c4827ca87"
      },
      "outputs": [
        {
          "name": "stdout",
          "output_type": "stream",
          "text": [
            "[3 5 7 9]\n",
            "[ 0  2  4  6  8 10 12 14 16 18]\n"
          ]
        }
      ],
      "source": [
        "#array with equal intervel\n",
        "arr=np.arange(3,10,2)\n",
        "print(arr)\n",
        "arr1=np.arange(0,20,2)\n",
        "print(arr1)"
      ]
    },
    {
      "cell_type": "code",
      "execution_count": null,
      "id": "8ea79680",
      "metadata": {
        "id": "8ea79680",
        "outputId": "040f7a72-f994-4005-bb33-0585d6e0381b"
      },
      "outputs": [
        {
          "data": {
            "text/plain": [
              "array([0.  , 0.25, 0.5 , 0.75, 1.  ], dtype=float32)"
            ]
          },
          "execution_count": 12,
          "metadata": {},
          "output_type": "execute_result"
        }
      ],
      "source": [
        "#split two numbers into given times\n",
        "np.linspace(0,1,5,dtype='float32') \n",
        "# or use np.<datatype object> eg. np.linspace(0,1,5,dtype=np.int16)"
      ]
    },
    {
      "cell_type": "code",
      "execution_count": null,
      "id": "6b2cc8b0",
      "metadata": {
        "id": "6b2cc8b0",
        "outputId": "10523295-2fec-4ffb-eeef-08a54848f797"
      },
      "outputs": [
        {
          "data": {
            "text/plain": [
              "array([[0.05831545, 0.24475049, 0.66815605],\n",
              "       [0.90472509, 0.66280864, 0.61267288],\n",
              "       [0.94312071, 0.32502828, 0.44592997]])"
            ]
          },
          "execution_count": 13,
          "metadata": {},
          "output_type": "execute_result"
        }
      ],
      "source": [
        "#creates a 3x3 uniformly distributed matrix between 0 to 1.\n",
        "#study for uniform matrix\n",
        "np.random.random((3,3))"
      ]
    },
    {
      "cell_type": "code",
      "execution_count": null,
      "id": "c59626cd",
      "metadata": {
        "id": "c59626cd",
        "outputId": "e1afc8eb-df6c-4c7b-f781-1f9656eb08f3"
      },
      "outputs": [
        {
          "data": {
            "text/plain": [
              "array([[ 6.8022615 , 13.85286305,  9.1812738 ],\n",
              "       [ 9.00679629,  6.75942512, 16.23768938],\n",
              "       [-1.77057675,  7.43236626,  5.52581996]])"
            ]
          },
          "execution_count": 14,
          "metadata": {},
          "output_type": "execute_result"
        }
      ],
      "source": [
        "#create a 3x3 matrix with mean as 4 and standard deviation as 5\n",
        "np.random.normal(4,5,(3,3))"
      ]
    },
    {
      "cell_type": "code",
      "execution_count": null,
      "id": "1e0133d8",
      "metadata": {
        "id": "1e0133d8",
        "outputId": "c85a7941-3760-4bca-d009-11887673f3d7"
      },
      "outputs": [
        {
          "data": {
            "text/plain": [
              "array([[0, 7, 6],\n",
              "       [4, 8, 8],\n",
              "       [9, 3, 3]])"
            ]
          },
          "execution_count": 15,
          "metadata": {},
          "output_type": "execute_result"
        }
      ],
      "source": [
        "#print matrix with random numbers between 0 to 10\n",
        "np.random.randint(0,10,(3,3))"
      ]
    },
    {
      "cell_type": "code",
      "execution_count": null,
      "id": "6f7fbb52",
      "metadata": {
        "id": "6f7fbb52",
        "outputId": "33ecc804-f363-46ca-99a2-c1ad1f5c6283"
      },
      "outputs": [
        {
          "data": {
            "text/plain": [
              "array([3.05175852e-05, 7.81250184e-03])"
            ]
          },
          "execution_count": 16,
          "metadata": {},
          "output_type": "execute_result"
        }
      ],
      "source": [
        "#create an empty uninitialized array with 3 elements with value at the memory location\n",
        "np.empty(2)"
      ]
    },
    {
      "cell_type": "markdown",
      "id": "ad9c6d94",
      "metadata": {
        "id": "ad9c6d94"
      },
      "source": [
        "# Basics of Numpy array \n",
        "\n",
        "We will be using seed() to reproduce the values at any run. If we give a seed value and run the program any number of times, we would be getting the same random numbers generated. A seed can be number like 0,1,20 or string like 'hello','hi'. We use 0 as argument for seed()"
      ]
    },
    {
      "cell_type": "markdown",
      "id": "f8a8d01b",
      "metadata": {
        "id": "f8a8d01b"
      },
      "source": [
        "## Attributes of numpy array\n",
        "Every array has its dimensions, shape, size, memory and datatype."
      ]
    },
    {
      "cell_type": "code",
      "execution_count": null,
      "id": "d9988a34",
      "metadata": {
        "id": "d9988a34",
        "outputId": "11c77d5a-38b5-4c63-ad5c-41732ecd6639"
      },
      "outputs": [
        {
          "name": "stdout",
          "output_type": "stream",
          "text": [
            "no of dimentions of x3 :  3\n",
            "shape of x3 :  (3, 4, 5)\n",
            "size of x3 :  60\n",
            "data type of x3 :  int32\n",
            "each item size of x3 :  4  bytes\n",
            "entire matrix size of x3 :  240 bytes\n"
          ]
        }
      ],
      "source": [
        "np.random.seed(0)\n",
        "x1 = np.random.randint(10,size=6)\n",
        "x2 = np.random.randint(10,size=(3,4))\n",
        "x3 = np.random.randint(10,size=(3,4,5))\n",
        "print(\"no of dimentions of x3 : \",x3.ndim)\n",
        "print(\"shape of x3 : \",x3.shape)\n",
        "print(\"size of x3 : \", x3.size)\n",
        "print(\"data type of x3 : \",x3.dtype)\n",
        "print(\"each item size of x3 : \",x3.itemsize,\" bytes\")\n",
        "print(\"entire matrix size of x3 : \",x3.nbytes,\"bytes\")"
      ]
    },
    {
      "cell_type": "markdown",
      "id": "d64e8d39",
      "metadata": {
        "id": "d64e8d39"
      },
      "source": [
        "## Array indexing"
      ]
    },
    {
      "cell_type": "code",
      "execution_count": null,
      "id": "61051178",
      "metadata": {
        "id": "61051178",
        "outputId": "7ba03695-6e75-4a41-b989-da56c4fb0e90"
      },
      "outputs": [
        {
          "name": "stdout",
          "output_type": "stream",
          "text": [
            "5\n",
            "0\n",
            "9\n",
            "0\n"
          ]
        }
      ],
      "source": [
        "print(x1[0])\n",
        "print(x1[1])\n",
        "print(x1[-1])\n",
        "print(x1[-5])"
      ]
    },
    {
      "cell_type": "code",
      "execution_count": null,
      "id": "e7e7bacc",
      "metadata": {
        "id": "e7e7bacc",
        "outputId": "2aa9fd6a-5616-482a-8830-7dc4346112ff"
      },
      "outputs": [
        {
          "name": "stdout",
          "output_type": "stream",
          "text": [
            "x2 :  [[3 5 2 4]\n",
            " [7 6 8 8]\n",
            " [1 6 7 7]]\n",
            "printing 0th row of a 2d array :  [3 5 2 4]\n",
            "4\n",
            "6\n",
            "modified x2 :  [[9 5 2 4]\n",
            " [7 6 8 8]\n",
            " [1 6 7 7]]\n"
          ]
        }
      ],
      "source": [
        "print(\"x2 : \",x2)\n",
        "print(\"printing 0th row of a 2d array : \", x2[0])\n",
        "print(x2[0,3])\n",
        "print(x2[2,-3])\n",
        "# we can also modify the array using the index\n",
        "x2[0,0] = 9\n",
        "print(\"modified x2 : \",x2)"
      ]
    },
    {
      "cell_type": "markdown",
      "id": "e4f06529",
      "metadata": {
        "id": "e4f06529"
      },
      "source": [
        "Numpy arrays are of same datatype so if we try to add 3.14 in the beginning of the array it silently truncates as 3 !!!"
      ]
    },
    {
      "cell_type": "markdown",
      "id": "f94e2ba3",
      "metadata": {
        "id": "f94e2ba3"
      },
      "source": [
        "## Slicing an array\n",
        "slicing notation (:)\\\n",
        "x[start:stop:step]\\\n",
        "always the start must be lesser than the stop if not it gives [] as result"
      ]
    },
    {
      "cell_type": "code",
      "execution_count": null,
      "id": "391a4352",
      "metadata": {
        "id": "391a4352",
        "outputId": "c274b384-088c-46be-e1c7-a7deefb04689"
      },
      "outputs": [
        {
          "name": "stdout",
          "output_type": "stream",
          "text": [
            "[0 1 2 3 4 5 6 7 8 9]\n",
            "first 5 elements [0 1 2 3 4]\n",
            "5th index to last element [5 6 7 8 9]\n",
            "print 4th index to 6th index  [4 5 6]\n",
            "numbers in even indexed position  [0 2 4 6 8]\n",
            "numbers in odd indexed position  [1 3 5 7 9]\n",
            "print 3 alternate numbers from 2nd index  [2 5 8]\n"
          ]
        }
      ],
      "source": [
        "x1 = np.array(range(10))\n",
        "print(x1)\n",
        "print(\"first 5 elements\",x1[:5])\n",
        "print(\"5th index to last element\",x1[5:])\n",
        "print(\"print 4th index to 6th index \",x1[4:7])\n",
        "print(\"numbers in even indexed position \",x1[::2])\n",
        "print(\"numbers in odd indexed position \",x1[1::2])\n",
        "print(\"print 3 alternate numbers from 2nd index \",x1[2::3])"
      ]
    },
    {
      "cell_type": "markdown",
      "id": "94c54a13",
      "metadata": {
        "id": "94c54a13"
      },
      "source": [
        "Caution when the step value is negative then the start and stop are swapped"
      ]
    },
    {
      "cell_type": "code",
      "execution_count": null,
      "id": "3ab28974",
      "metadata": {
        "id": "3ab28974",
        "outputId": "1f1b65f1-5fcc-4c36-cb77-08cb61986aa6"
      },
      "outputs": [
        {
          "name": "stdout",
          "output_type": "stream",
          "text": [
            "positive step :  [0 1 2 3 4 5 6 7 8 9]\n",
            "negative stpe :  [9 8 7 6 5 4 3 2 1 0]\n"
          ]
        }
      ],
      "source": [
        "print(\"positive step : \",x1[0:10:1])\n",
        "print(\"negative stpe : \",x1[::-1])"
      ]
    },
    {
      "cell_type": "markdown",
      "id": "34778934",
      "metadata": {
        "id": "34778934"
      },
      "source": [
        "Multidimensional array slicing\\\n",
        "Operation validation is done by row,col"
      ]
    },
    {
      "cell_type": "code",
      "execution_count": null,
      "id": "1df2de64",
      "metadata": {
        "id": "1df2de64",
        "outputId": "c3b7be26-6d15-4890-ca8d-85f02909fcaa"
      },
      "outputs": [
        {
          "name": "stdout",
          "output_type": "stream",
          "text": [
            "x2:\n",
            "[[5 0 3 3]\n",
            " [7 9 3 5]\n",
            " [2 4 7 6]]\n",
            "first 3 rows and columns\n",
            "[[5 0]\n",
            " [7 9]\n",
            " [2 4]]\n",
            "print alternate rows\n",
            "[[5 0 3 3]\n",
            " [2 4 7 6]]\n",
            "alternate columns\n",
            "[[5 3]\n",
            " [7 3]\n",
            " [2 7]]\n"
          ]
        }
      ],
      "source": [
        "np.random.seed(0)\n",
        "x2 = np.random.randint(10,size=(3,4))\n",
        "print(\"x2:\",end='\\n')\n",
        "print(x2)\n",
        "print(\"first 3 rows and columns\")\n",
        "print(x2[:3,:2])\n",
        "print(\"print alternate rows\")\n",
        "print(x2[::2,:])\n",
        "print(\"alternate columns\")\n",
        "print(x2[:,::2])"
      ]
    },
    {
      "cell_type": "code",
      "execution_count": null,
      "id": "059dc61e",
      "metadata": {
        "id": "059dc61e",
        "outputId": "10a8e742-f0bf-44fe-f988-1d32d05123b4"
      },
      "outputs": [
        {
          "name": "stdout",
          "output_type": "stream",
          "text": [
            "reverse the row values\n",
            "[[2 4 7 6]\n",
            " [7 9 3 5]\n",
            " [5 0 3 3]]\n",
            "reverse the col values\n",
            "[[3 3 0 5]\n",
            " [5 3 9 7]\n",
            " [6 7 4 2]]\n",
            "extracting 2nd col\n",
            "[0 9 4]\n"
          ]
        }
      ],
      "source": [
        "print(\"reverse the row values\")\n",
        "print(x2[::-1])\n",
        "print(\"reverse the col values\")\n",
        "print(x2[:,::-1])\n",
        "print(\"extracting 2nd col\")\n",
        "print(x2[:,1])"
      ]
    },
    {
      "cell_type": "markdown",
      "id": "96395ab0",
      "metadata": {
        "id": "96395ab0"
      },
      "source": [
        "## Sub-array as no-copy\n",
        "Working without a copy affects the original array even though we work on a subarray."
      ]
    },
    {
      "cell_type": "code",
      "execution_count": null,
      "id": "f7e84fc4",
      "metadata": {
        "id": "f7e84fc4",
        "outputId": "6b4b7cc3-4cd1-460f-89c5-de95b9b6e879"
      },
      "outputs": [
        {
          "name": "stdout",
          "output_type": "stream",
          "text": [
            "Original x2\n",
            "[[5 0 3 3]\n",
            " [7 9 3 5]\n",
            " [2 4 7 6]]\n"
          ]
        }
      ],
      "source": [
        "print(\"Original x2\")\n",
        "print(x2)"
      ]
    },
    {
      "cell_type": "code",
      "execution_count": null,
      "id": "a66f8878",
      "metadata": {
        "id": "a66f8878",
        "outputId": "1ff078f9-60ac-4636-98ba-ab5470b74862"
      },
      "outputs": [
        {
          "name": "stdout",
          "output_type": "stream",
          "text": [
            "sub array x2_sub\n",
            "[[5 0 3]\n",
            " [7 9 3]]\n",
            "On changing the sub array the original array changes\n",
            "[[25  0  3  3]\n",
            " [ 7  9  3  5]\n",
            " [ 2  4  7  6]]\n"
          ]
        }
      ],
      "source": [
        "x2_sub = x2[:2,:3]\n",
        "print(\"sub array x2_sub\")\n",
        "print(x2_sub)\n",
        "# On changing the sub array the original array changes.\n",
        "print(\"On changing the sub array the original array changes\")\n",
        "x2_sub[0,0]=25\n",
        "print(x2)"
      ]
    },
    {
      "cell_type": "markdown",
      "id": "68d1d9bc",
      "metadata": {
        "id": "68d1d9bc"
      },
      "source": [
        "## Creating a copy of an array\n",
        "Working on copy of the array does not affect the original array"
      ]
    },
    {
      "cell_type": "code",
      "execution_count": null,
      "id": "23dd02cd",
      "metadata": {
        "id": "23dd02cd",
        "outputId": "349274ec-85c6-484e-976f-0765fa814008"
      },
      "outputs": [
        {
          "name": "stdout",
          "output_type": "stream",
          "text": [
            "Original x2\n",
            "[[25  0  3  3]\n",
            " [ 7  9  3  5]\n",
            " [ 2  4  7  6]]\n"
          ]
        }
      ],
      "source": [
        "print(\"Original x2\")\n",
        "print(x2)"
      ]
    },
    {
      "cell_type": "code",
      "execution_count": null,
      "id": "4fda5a2f",
      "metadata": {
        "id": "4fda5a2f",
        "outputId": "e7a631f9-9b59-44d8-d162-35d69db319be"
      },
      "outputs": [
        {
          "name": "stdout",
          "output_type": "stream",
          "text": [
            "x2_sub_copy\n",
            "[[25  0  3]\n",
            " [ 7  9  3]]\n",
            "\n",
            "[[25 33  3]\n",
            " [ 7  9  3]]\n",
            "\n",
            "[[25  0  3  3]\n",
            " [ 7  9  3  5]\n",
            " [ 2  4  7  6]]\n"
          ]
        }
      ],
      "source": [
        "x2_sub_copy = x2[:2,:3].copy()\n",
        "print(\"x2_sub_copy\")\n",
        "print(x2_sub_copy,end='\\n\\n')\n",
        "x2_sub_copy[0,1] = 33\n",
        "#on changing the copy the original array is unaffected\n",
        "print(x2_sub_copy,end='\\n\\n')\n",
        "print(x2)"
      ]
    },
    {
      "cell_type": "markdown",
      "id": "3086285f",
      "metadata": {
        "id": "3086285f"
      },
      "source": [
        "# Reshaping an array"
      ]
    },
    {
      "cell_type": "code",
      "execution_count": null,
      "id": "ad67f1af",
      "metadata": {
        "id": "ad67f1af",
        "outputId": "4e9b8273-63c7-4f98-c3d6-f9bf6d9964cd"
      },
      "outputs": [
        {
          "data": {
            "text/plain": [
              "array([8, 8, 1, 6, 7, 7, 8, 1, 5])"
            ]
          },
          "execution_count": 28,
          "metadata": {},
          "output_type": "execute_result"
        }
      ],
      "source": [
        "grid = np.random.randint(9,size=9)\n",
        "grid"
      ]
    },
    {
      "cell_type": "code",
      "execution_count": null,
      "id": "73c16428",
      "metadata": {
        "id": "73c16428",
        "outputId": "f37c1753-ed75-4b0e-8c45-77a635399d5f"
      },
      "outputs": [
        {
          "data": {
            "text/plain": [
              "array([[8, 8, 1],\n",
              "       [6, 7, 7],\n",
              "       [8, 1, 5]])"
            ]
          },
          "execution_count": 29,
          "metadata": {},
          "output_type": "execute_result"
        }
      ],
      "source": [
        "grid.reshape((3,3))"
      ]
    },
    {
      "cell_type": "code",
      "execution_count": null,
      "id": "82073f42",
      "metadata": {
        "id": "82073f42",
        "outputId": "bead1db4-7f78-42dd-bd59-d411c37a0cba"
      },
      "outputs": [
        {
          "data": {
            "text/plain": [
              "array([8, 8, 1, 6, 7, 7, 8, 1, 5])"
            ]
          },
          "execution_count": 30,
          "metadata": {},
          "output_type": "execute_result"
        }
      ],
      "source": [
        "grid.reshape(9)"
      ]
    },
    {
      "cell_type": "markdown",
      "id": "6e500553",
      "metadata": {
        "id": "6e500553"
      },
      "source": [
        "# How to read a 3d matrix \n",
        "Normally a 3d matrix is a collection of 2d matrix. Read the matrix as 2X(3X4)`"
      ]
    },
    {
      "cell_type": "code",
      "execution_count": null,
      "id": "a2f6e0c2",
      "metadata": {
        "id": "a2f6e0c2",
        "outputId": "43524409-b82a-49c9-c08f-1baa2f1b15f4"
      },
      "outputs": [
        {
          "data": {
            "text/plain": [
              "array([[[8, 4, 3, 0],\n",
              "        [3, 5, 0, 2],\n",
              "        [3, 8, 1, 3]],\n",
              "\n",
              "       [[3, 3, 7, 0],\n",
              "        [1, 0, 4, 7],\n",
              "        [3, 2, 7, 2]]])"
            ]
          },
          "execution_count": 31,
          "metadata": {},
          "output_type": "execute_result"
        }
      ],
      "source": [
        "np.random.randint(9,size=(2,3,4))"
      ]
    },
    {
      "cell_type": "code",
      "execution_count": null,
      "id": "a00d8a1e",
      "metadata": {
        "id": "a00d8a1e",
        "outputId": "534355ca-fd6e-4870-d886-148b1df9adda"
      },
      "outputs": [
        {
          "name": "stdout",
          "output_type": "stream",
          "text": [
            "[[[8 8 1 6 7 7 8 1 5]]]\n",
            "\n",
            "[[[8]\n",
            "  [8]\n",
            "  [1]\n",
            "  [6]\n",
            "  [7]\n",
            "  [7]\n",
            "  [8]\n",
            "  [1]\n",
            "  [5]]]\n",
            "\n",
            "[[[8]]\n",
            "\n",
            " [[8]]\n",
            "\n",
            " [[1]]\n",
            "\n",
            " [[6]]\n",
            "\n",
            " [[7]]\n",
            "\n",
            " [[7]]\n",
            "\n",
            " [[8]]\n",
            "\n",
            " [[1]]\n",
            "\n",
            " [[5]]]\n",
            "\n"
          ]
        }
      ],
      "source": [
        "#using reshape to \n",
        "print(grid.reshape(1,1,9),end='\\n\\n')\n",
        "print(grid.reshape(1,9,1),end='\\n\\n')\n",
        "print(grid.reshape(9,1,1),end='\\n\\n')"
      ]
    },
    {
      "cell_type": "markdown",
      "id": "0b1cf768",
      "metadata": {
        "id": "0b1cf768"
      },
      "source": [
        "## New axis in slicing operation\n",
        "Suppose we have a 3d matrix with dimensions 2,3,4 then\\\n",
        "k[:,np.newaxis] makes it as 4d with (2,1,3,4)\\\n",
        "k[np.newaxis,:] makes it as 4d with (1,2,3,4)\\\n",
        "k[:,:,np.newaxis,:] makes it as (2,3,1,4)\\\n",
        "In short it adds a new axis and reshapes the dimension of a matrix where we specify\n"
      ]
    },
    {
      "cell_type": "code",
      "execution_count": null,
      "id": "364a3812",
      "metadata": {
        "id": "364a3812",
        "outputId": "d8f4b9b8-e34f-49ae-cc65-4a8001027bf9"
      },
      "outputs": [
        {
          "data": {
            "text/plain": [
              "(4,)"
            ]
          },
          "execution_count": 33,
          "metadata": {},
          "output_type": "execute_result"
        }
      ],
      "source": [
        "k=np.array([1,2,3,4])\n",
        "k.shape"
      ]
    },
    {
      "cell_type": "code",
      "execution_count": null,
      "id": "b70c773f",
      "metadata": {
        "id": "b70c773f",
        "outputId": "863ad337-bb51-4ab8-99f7-83cef1ed6c71"
      },
      "outputs": [
        {
          "data": {
            "text/plain": [
              "(4,)"
            ]
          },
          "execution_count": 34,
          "metadata": {},
          "output_type": "execute_result"
        }
      ],
      "source": [
        "k[:,np.newaxis]\n",
        "k.shape"
      ]
    },
    {
      "cell_type": "code",
      "execution_count": null,
      "id": "7a354a3e",
      "metadata": {
        "id": "7a354a3e",
        "outputId": "4fdce388-57b5-4b7d-b9c6-6f03b5eedc93"
      },
      "outputs": [
        {
          "data": {
            "text/plain": [
              "(2, 3, 4)"
            ]
          },
          "execution_count": 35,
          "metadata": {},
          "output_type": "execute_result"
        }
      ],
      "source": [
        "k=np.random.randint(9,size=(2,3,4))\n",
        "k.shape"
      ]
    },
    {
      "cell_type": "code",
      "execution_count": null,
      "id": "ee77ba8f",
      "metadata": {
        "id": "ee77ba8f",
        "outputId": "963ea99b-0eb8-4147-ed2d-e19dcb45b350"
      },
      "outputs": [
        {
          "data": {
            "text/plain": [
              "(2, 3, 1, 4)"
            ]
          },
          "execution_count": 36,
          "metadata": {},
          "output_type": "execute_result"
        }
      ],
      "source": [
        "k=k[:,:,np.newaxis,:]\n",
        "k.shape"
      ]
    },
    {
      "cell_type": "code",
      "execution_count": null,
      "id": "28c867ee",
      "metadata": {
        "id": "28c867ee",
        "outputId": "491aea08-b0b6-4d55-e7e7-59a9d9a005d7"
      },
      "outputs": [
        {
          "data": {
            "text/plain": [
              "(2, 3, 1, 1, 4)"
            ]
          },
          "execution_count": 37,
          "metadata": {},
          "output_type": "execute_result"
        }
      ],
      "source": [
        "k=k[:,:,np.newaxis,:]\n",
        "k.shape"
      ]
    },
    {
      "cell_type": "markdown",
      "id": "881c7f18",
      "metadata": {
        "id": "881c7f18"
      },
      "source": [
        "## Array concatenation\n",
        "np.concatenate - mostly prefered for 1d array\\\n",
        "np.hstack(horizontal stack) and np.vstack(vertical stack) - prefered for multidimensional array"
      ]
    },
    {
      "cell_type": "code",
      "execution_count": null,
      "id": "2e2d9ae6",
      "metadata": {
        "id": "2e2d9ae6",
        "outputId": "70c01f19-6d00-44e2-b983-27a981295528"
      },
      "outputs": [
        {
          "data": {
            "text/plain": [
              "array([1, 2, 3, 1, 2, 3])"
            ]
          },
          "execution_count": 44,
          "metadata": {},
          "output_type": "execute_result"
        }
      ],
      "source": [
        "x = np.array([1,2,3])\n",
        "y = np.array([3,4,5])\n",
        "z = np.array([\n",
        "    [11],\n",
        "    [99]\n",
        "])\n",
        "np.concatenate([x, x])"
      ]
    },
    {
      "cell_type": "code",
      "execution_count": null,
      "id": "37a71605",
      "metadata": {
        "id": "37a71605",
        "outputId": "b031cda5-65d5-4f85-834b-49aeb9bf397c"
      },
      "outputs": [
        {
          "data": {
            "text/plain": [
              "array([[1, 2, 3],\n",
              "       [3, 4, 5]])"
            ]
          },
          "execution_count": 47,
          "metadata": {},
          "output_type": "execute_result"
        }
      ],
      "source": [
        "np.vstack([x,y])"
      ]
    },
    {
      "cell_type": "code",
      "execution_count": null,
      "id": "83433361",
      "metadata": {
        "id": "83433361",
        "outputId": "67644713-485e-407b-ce58-8b7f3bd62ffe"
      },
      "outputs": [
        {
          "data": {
            "text/plain": [
              "array([[ 1,  2,  3, 11],\n",
              "       [ 3,  4,  5, 99]])"
            ]
          },
          "execution_count": 48,
          "metadata": {},
          "output_type": "execute_result"
        }
      ],
      "source": [
        "np.hstack([np.vstack([x,y]),z])"
      ]
    },
    {
      "cell_type": "code",
      "execution_count": null,
      "id": "88aedb7e",
      "metadata": {
        "id": "88aedb7e",
        "outputId": "8448deda-0392-4d5f-dd6a-b76783be0930"
      },
      "outputs": [
        {
          "name": "stdout",
          "output_type": "stream",
          "text": [
            "[[1 2 3]\n",
            " [4 5 6]\n",
            " [1 2 3]\n",
            " [4 5 6]]\n",
            "\n",
            "[[1 2 3 1 2 3]\n",
            " [4 5 6 4 5 6]]\n"
          ]
        }
      ],
      "source": [
        "grid = np.array([[1,2,3],[4,5,6]])\n",
        "print(np.concatenate([grid,grid]),end=\"\\n\\n\") #same as vstack\n",
        "print(np.concatenate([grid,grid],axis=1)) #same as hstack"
      ]
    },
    {
      "cell_type": "code",
      "execution_count": null,
      "id": "5b2317a9",
      "metadata": {
        "id": "5b2317a9",
        "outputId": "01e15b8e-c86a-4e0d-a665-6a4c2027f5e6"
      },
      "outputs": [
        {
          "data": {
            "text/plain": [
              "array([[[1, 2, 3],\n",
              "        [1, 2, 3]],\n",
              "\n",
              "       [[4, 5, 6],\n",
              "        [4, 5, 6]]])"
            ]
          },
          "execution_count": 54,
          "metadata": {},
          "output_type": "execute_result"
        }
      ],
      "source": [
        "z = np.array([[[1,2,3],[1,2,3]],[[4,5,6],[4,5,6]]])\n",
        "z"
      ]
    },
    {
      "cell_type": "code",
      "execution_count": null,
      "id": "0ec708e6",
      "metadata": {
        "id": "0ec708e6",
        "outputId": "716e2fe6-6362-4204-a49e-26649ea8d7e7"
      },
      "outputs": [
        {
          "data": {
            "text/plain": [
              "array([[[1, 2, 3, 1, 2, 3],\n",
              "        [1, 2, 3, 1, 2, 3]],\n",
              "\n",
              "       [[4, 5, 6, 4, 5, 6],\n",
              "        [4, 5, 6, 4, 5, 6]]])"
            ]
          },
          "execution_count": 56,
          "metadata": {},
          "output_type": "execute_result"
        }
      ],
      "source": [
        "np.dstack([z,z]) #concatenates along 3rd axis"
      ]
    },
    {
      "cell_type": "code",
      "execution_count": null,
      "id": "36b7f68f",
      "metadata": {
        "id": "36b7f68f",
        "outputId": "dd27541d-5e86-4d90-eb7a-c07d8711b796"
      },
      "outputs": [
        {
          "data": {
            "text/plain": [
              "array([[[1, 2, 3, 1, 2, 3],\n",
              "        [1, 2, 3, 1, 2, 3]],\n",
              "\n",
              "       [[4, 5, 6, 4, 5, 6],\n",
              "        [4, 5, 6, 4, 5, 6]]])"
            ]
          },
          "execution_count": 57,
          "metadata": {},
          "output_type": "execute_result"
        }
      ],
      "source": [
        "np.concatenate([z,z],axis=2) #same as dstack"
      ]
    },
    {
      "cell_type": "code",
      "execution_count": null,
      "id": "fa8d8b8b",
      "metadata": {
        "id": "fa8d8b8b"
      },
      "outputs": [],
      "source": []
    }
  ],
  "metadata": {
    "kernelspec": {
      "display_name": "Python 3",
      "language": "python",
      "name": "python3"
    },
    "language_info": {
      "codemirror_mode": {
        "name": "ipython",
        "version": 3
      },
      "file_extension": ".py",
      "mimetype": "text/x-python",
      "name": "python",
      "nbconvert_exporter": "python",
      "pygments_lexer": "ipython3",
      "version": "3.8.8"
    },
    "colab": {
      "provenance": [],
      "include_colab_link": true
    }
  },
  "nbformat": 4,
  "nbformat_minor": 5
}