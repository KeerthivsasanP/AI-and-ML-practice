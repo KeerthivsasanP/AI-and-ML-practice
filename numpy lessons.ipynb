{
 "cells": [
  {
   "cell_type": "markdown",
   "id": "4c2bc7d6",
   "metadata": {},
   "source": [
    "# Numpy \n",
    "To handle large array of data. It is of list datatype in python. But the values in a list can vary in datatype in python but the values in the list should be same for numpy. If not it would try to upcast or throw error.\n",
    "\n",
    "To import and check the version of the numpy"
   ]
  },
  {
   "cell_type": "code",
   "execution_count": 1,
   "id": "aeba30d8",
   "metadata": {},
   "outputs": [],
   "source": [
    "import numpy as np\n",
    "import pandas as pd\n",
    "import matplotlib.pyplot as plt"
   ]
  },
  {
   "cell_type": "code",
   "execution_count": 2,
   "id": "cce0eb45",
   "metadata": {},
   "outputs": [
    {
     "data": {
      "text/plain": [
       "'1.20.1'"
      ]
     },
     "execution_count": 2,
     "metadata": {},
     "output_type": "execute_result"
    }
   ],
   "source": [
    "np.__version__"
   ]
  },
  {
   "cell_type": "code",
   "execution_count": 3,
   "id": "f0005561",
   "metadata": {},
   "outputs": [
    {
     "data": {
      "text/plain": [
       "'1.2.4'"
      ]
     },
     "execution_count": 3,
     "metadata": {},
     "output_type": "execute_result"
    }
   ],
   "source": [
    "pd.__version__"
   ]
  },
  {
   "cell_type": "markdown",
   "id": "a71a36b6",
   "metadata": {},
   "source": [
    "To get the documentation of the imported module"
   ]
  },
  {
   "cell_type": "code",
   "execution_count": 4,
   "id": "570ef608",
   "metadata": {},
   "outputs": [],
   "source": [
    "np?"
   ]
  },
  {
   "cell_type": "code",
   "execution_count": 5,
   "id": "5ab0bd3e",
   "metadata": {
    "scrolled": true
   },
   "outputs": [
    {
     "data": {
      "text/plain": [
       "[0, 1, 2, 3, 4]"
      ]
     },
     "execution_count": 5,
     "metadata": {},
     "output_type": "execute_result"
    }
   ],
   "source": [
    "L1=[]\n",
    "for i in range(5):\n",
    "    L1.append(i)\n",
    "L1"
   ]
  },
  {
   "cell_type": "markdown",
   "id": "a78bb9bb",
   "metadata": {},
   "source": [
    "It tries to upcast the interger to float if possible"
   ]
  },
  {
   "cell_type": "code",
   "execution_count": 6,
   "id": "2b72d8ed",
   "metadata": {},
   "outputs": [
    {
     "data": {
      "text/plain": [
       "array([1., 2., 3., 4.])"
      ]
     },
     "execution_count": 6,
     "metadata": {},
     "output_type": "execute_result"
    }
   ],
   "source": [
    "L2=[1.0,2,3,4]\n",
    "np.array(L2)"
   ]
  },
  {
   "cell_type": "markdown",
   "id": "399af03a",
   "metadata": {},
   "source": [
    "To specify the datatype explicitly in numpy"
   ]
  },
  {
   "cell_type": "code",
   "execution_count": 7,
   "id": "b391f129",
   "metadata": {},
   "outputs": [
    {
     "data": {
      "text/plain": [
       "array([1., 2., 3., 4., 5.], dtype=float32)"
      ]
     },
     "execution_count": 7,
     "metadata": {},
     "output_type": "execute_result"
    }
   ],
   "source": [
    "np.array([1,2,3,4,5],dtype=\"float32\")"
   ]
  },
  {
   "cell_type": "markdown",
   "id": "520acb15",
   "metadata": {},
   "source": [
    "Multidimensional array"
   ]
  },
  {
   "cell_type": "code",
   "execution_count": 8,
   "id": "631de9a0",
   "metadata": {},
   "outputs": [
    {
     "data": {
      "text/plain": [
       "array([[2, 3, 4],\n",
       "       [4, 5, 6],\n",
       "       [6, 7, 8]])"
      ]
     },
     "execution_count": 8,
     "metadata": {},
     "output_type": "execute_result"
    }
   ],
   "source": [
    "np.array([range(i,i+3) for i in[2,4,6]])"
   ]
  },
  {
   "cell_type": "markdown",
   "id": "6a3c14c9",
   "metadata": {},
   "source": [
    "Creating empty array with builtin functions using numpy"
   ]
  },
  {
   "cell_type": "code",
   "execution_count": 9,
   "id": "bed23438",
   "metadata": {},
   "outputs": [
    {
     "data": {
      "text/plain": [
       "array([0, 0, 0, 0, 0, 0, 0, 0, 0, 0])"
      ]
     },
     "execution_count": 9,
     "metadata": {},
     "output_type": "execute_result"
    }
   ],
   "source": [
    "#array filled with 0\n",
    "np.zeros(10, dtype=int)"
   ]
  },
  {
   "cell_type": "code",
   "execution_count": 10,
   "id": "bff6ca46",
   "metadata": {},
   "outputs": [
    {
     "data": {
      "text/plain": [
       "array([1., 1., 1., 1., 1.], dtype=float32)"
      ]
     },
     "execution_count": 10,
     "metadata": {},
     "output_type": "execute_result"
    }
   ],
   "source": [
    "#all filled with 1\n",
    "np.ones(5, dtype=\"float32\")"
   ]
  },
  {
   "cell_type": "code",
   "execution_count": 11,
   "id": "e088917d",
   "metadata": {},
   "outputs": [
    {
     "data": {
      "text/plain": [
       "array([[3.14, 3.14, 3.14, 3.14, 3.14],\n",
       "       [3.14, 3.14, 3.14, 3.14, 3.14],\n",
       "       [3.14, 3.14, 3.14, 3.14, 3.14]])"
      ]
     },
     "execution_count": 11,
     "metadata": {},
     "output_type": "execute_result"
    }
   ],
   "source": [
    "#fill multidimensional array with a particular number\n",
    "np.full((3,5),3.14)"
   ]
  },
  {
   "cell_type": "code",
   "execution_count": 12,
   "id": "7bb035e9",
   "metadata": {},
   "outputs": [
    {
     "data": {
      "text/plain": [
       "array([[1., 0., 0., 0.],\n",
       "       [0., 1., 0., 0.],\n",
       "       [0., 0., 1., 0.],\n",
       "       [0., 0., 0., 1.]])"
      ]
     },
     "execution_count": 12,
     "metadata": {},
     "output_type": "execute_result"
    }
   ],
   "source": [
    "#identity matrix\n",
    "np.eye(4)"
   ]
  },
  {
   "cell_type": "code",
   "execution_count": 13,
   "id": "96942a13",
   "metadata": {},
   "outputs": [
    {
     "name": "stdout",
     "output_type": "stream",
     "text": [
      "[3 5 7 9]\n",
      "[ 0  2  4  6  8 10 12 14 16 18]\n"
     ]
    }
   ],
   "source": [
    "#array with equal intervel\n",
    "arr=np.arange(3,10,2)\n",
    "print(arr)\n",
    "arr1=np.arange(0,20,2)\n",
    "print(arr1)"
   ]
  },
  {
   "cell_type": "code",
   "execution_count": 14,
   "id": "8ea79680",
   "metadata": {},
   "outputs": [
    {
     "data": {
      "text/plain": [
       "array([0.  , 0.25, 0.5 , 0.75, 1.  ], dtype=float32)"
      ]
     },
     "execution_count": 14,
     "metadata": {},
     "output_type": "execute_result"
    }
   ],
   "source": [
    "#split two numbers into given times\n",
    "np.linspace(0,1,5,dtype='float32') \n",
    "# or use np.<datatype object> eg. np.linspace(0,1,5,dtype=np.int16)"
   ]
  },
  {
   "cell_type": "code",
   "execution_count": 15,
   "id": "6b2cc8b0",
   "metadata": {},
   "outputs": [
    {
     "data": {
      "text/plain": [
       "array([[0.73883063, 0.95212055, 0.69826194],\n",
       "       [0.01290697, 0.02730986, 0.72052003],\n",
       "       [0.14565529, 0.13201754, 0.18912747]])"
      ]
     },
     "execution_count": 15,
     "metadata": {},
     "output_type": "execute_result"
    }
   ],
   "source": [
    "#creates a 3x3 uniformly distributed matrix between 0 to 1.\n",
    "#study for uniform matrix\n",
    "np.random.random((3,3))"
   ]
  },
  {
   "cell_type": "code",
   "execution_count": 16,
   "id": "c59626cd",
   "metadata": {},
   "outputs": [
    {
     "data": {
      "text/plain": [
       "array([[-7.22722485, -1.20957884, -6.74629872],\n",
       "       [-3.23627132,  8.47129656,  3.55854472],\n",
       "       [ 6.34162694, -1.53083633,  1.6846751 ]])"
      ]
     },
     "execution_count": 16,
     "metadata": {},
     "output_type": "execute_result"
    }
   ],
   "source": [
    "#create a 3x3 matrix with mean as 4 and standard deviation as 5\n",
    "np.random.normal(4,5,(3,3))"
   ]
  },
  {
   "cell_type": "code",
   "execution_count": 17,
   "id": "1e0133d8",
   "metadata": {},
   "outputs": [
    {
     "data": {
      "text/plain": [
       "array([[5, 2, 5],\n",
       "       [4, 1, 2],\n",
       "       [3, 3, 8]])"
      ]
     },
     "execution_count": 17,
     "metadata": {},
     "output_type": "execute_result"
    }
   ],
   "source": [
    "#print matrix with random numbers between 0 to 10\n",
    "np.random.randint(0,10,(3,3))"
   ]
  },
  {
   "cell_type": "code",
   "execution_count": 18,
   "id": "6f7fbb52",
   "metadata": {},
   "outputs": [
    {
     "data": {
      "text/plain": [
       "array([3.05175852e-05, 7.81250184e-03])"
      ]
     },
     "execution_count": 18,
     "metadata": {},
     "output_type": "execute_result"
    }
   ],
   "source": [
    "#create an empty uninitialized array with 3 elements with value at the memory location\n",
    "np.empty(2)"
   ]
  },
  {
   "cell_type": "markdown",
   "id": "ad9c6d94",
   "metadata": {},
   "source": [
    "# Basics of Numpy array \n",
    "\n",
    "We will be using seed() to reproduce the values at any run. If we give a seed value and run the program any number of times, we would be getting the same random numbers generated. A seed can be number like 0,1,20 or string like 'hello','hi'. We use 0 as argument for seed()"
   ]
  },
  {
   "cell_type": "markdown",
   "id": "f8a8d01b",
   "metadata": {},
   "source": [
    "## Attributes of numpy array\n",
    "Every array has its dimensions, shape, size, memory and datatype."
   ]
  },
  {
   "cell_type": "code",
   "execution_count": 19,
   "id": "d9988a34",
   "metadata": {},
   "outputs": [
    {
     "name": "stdout",
     "output_type": "stream",
     "text": [
      "no of dimentions of x3 :  3\n",
      "shape of x3 :  (3, 4, 5)\n",
      "size of x3 :  60\n",
      "data type of x3 :  int32\n",
      "each item size of x3 :  4  bytes\n",
      "entire matrix size of x3 :  240 bytes\n"
     ]
    }
   ],
   "source": [
    "np.random.seed(0)\n",
    "x1 = np.random.randint(10,size=6)\n",
    "x2 = np.random.randint(10,size=(3,4))\n",
    "x3 = np.random.randint(10,size=(3,4,5))\n",
    "print(\"no of dimentions of x3 : \",x3.ndim)\n",
    "print(\"shape of x3 : \",x3.shape)\n",
    "print(\"size of x3 : \", x3.size)\n",
    "print(\"data type of x3 : \",x3.dtype)\n",
    "print(\"each item size of x3 : \",x3.itemsize,\" bytes\")\n",
    "print(\"entire matrix size of x3 : \",x3.nbytes,\"bytes\")"
   ]
  },
  {
   "cell_type": "markdown",
   "id": "d64e8d39",
   "metadata": {},
   "source": [
    "## Array indexing"
   ]
  },
  {
   "cell_type": "code",
   "execution_count": 20,
   "id": "61051178",
   "metadata": {},
   "outputs": [
    {
     "name": "stdout",
     "output_type": "stream",
     "text": [
      "array 1 :  [5 0 3 3 7 9]\n",
      "5\n",
      "0\n",
      "9\n",
      "0\n"
     ]
    }
   ],
   "source": [
    "print(\"array 1 : \",x1)\n",
    "print(x1[0])\n",
    "print(x1[1])\n",
    "print(x1[-1])\n",
    "print(x1[-5])"
   ]
  },
  {
   "cell_type": "code",
   "execution_count": 21,
   "id": "e7e7bacc",
   "metadata": {},
   "outputs": [
    {
     "name": "stdout",
     "output_type": "stream",
     "text": [
      "x2 :  [[3 5 2 4]\n",
      " [7 6 8 8]\n",
      " [1 6 7 7]]\n",
      "printing 0th row of a 2d array :  [3 5 2 4]\n",
      "4\n",
      "6\n",
      "modified x2 :  [[9 5 2 4]\n",
      " [7 6 8 8]\n",
      " [1 6 7 7]]\n"
     ]
    }
   ],
   "source": [
    "print(\"x2 : \",x2)\n",
    "print(\"printing 0th row of a 2d array : \", x2[0])\n",
    "print(x2[0,3])\n",
    "print(x2[2,-3])\n",
    "# we can also modify the array using the index\n",
    "x2[0,0] = 9\n",
    "print(\"modified x2 : \",x2)"
   ]
  },
  {
   "cell_type": "markdown",
   "id": "e4f06529",
   "metadata": {},
   "source": [
    "Numpy arrays are of same datatype so if we try to add 3.14 in the beginning of the array it silently truncates as 3 !!!"
   ]
  },
  {
   "cell_type": "markdown",
   "id": "f94e2ba3",
   "metadata": {},
   "source": [
    "## Slicing an array\n",
    "slicing notation (:)\\\n",
    "x[start:stop:step]\\\n",
    "always the start must be lesser than the stop if not it gives [] as result"
   ]
  },
  {
   "cell_type": "code",
   "execution_count": 22,
   "id": "391a4352",
   "metadata": {},
   "outputs": [
    {
     "name": "stdout",
     "output_type": "stream",
     "text": [
      "[0 1 2 3 4 5 6 7 8 9]\n",
      "first 5 elements [0 1 2 3 4]\n",
      "5th index to last element [5 6 7 8 9]\n",
      "print 4th index to 6th index  [4 5 6]\n",
      "numbers in even indexed position  [0 2 4 6 8]\n",
      "numbers in odd indexed position  [1 3 5 7 9]\n",
      "print 3 alternate numbers from 2nd index  [2 5 8]\n"
     ]
    }
   ],
   "source": [
    "x1 = np.array(range(10))\n",
    "print(x1)\n",
    "print(\"first 5 elements\",x1[:5])\n",
    "print(\"5th index to last element\",x1[5:])\n",
    "print(\"print 4th index to 6th index \",x1[4:7])\n",
    "print(\"numbers in even indexed position \",x1[::2])\n",
    "print(\"numbers in odd indexed position \",x1[1::2])\n",
    "print(\"print 3 alternate numbers from 2nd index \",x1[2::3])"
   ]
  },
  {
   "cell_type": "markdown",
   "id": "94c54a13",
   "metadata": {},
   "source": [
    "Caution when the step value is negative then the start and stop are swapped"
   ]
  },
  {
   "cell_type": "code",
   "execution_count": 23,
   "id": "3ab28974",
   "metadata": {},
   "outputs": [
    {
     "name": "stdout",
     "output_type": "stream",
     "text": [
      "positive step :  [0 1 2 3 4 5 6 7 8 9]\n",
      "negative stpe :  [9 8 7 6 5 4 3 2 1 0]\n"
     ]
    }
   ],
   "source": [
    "print(\"positive step : \",x1[0:10:1])\n",
    "print(\"negative stpe : \",x1[::-1])"
   ]
  },
  {
   "cell_type": "markdown",
   "id": "34778934",
   "metadata": {},
   "source": [
    "Multidimensional array slicing\\\n",
    "Operation validation is done by row,col"
   ]
  },
  {
   "cell_type": "code",
   "execution_count": 24,
   "id": "1df2de64",
   "metadata": {},
   "outputs": [
    {
     "name": "stdout",
     "output_type": "stream",
     "text": [
      "x2:\n",
      "[[5 0 3 3]\n",
      " [7 9 3 5]\n",
      " [2 4 7 6]]\n",
      "first 3 rows and 2 columns\n",
      "[[5 0]\n",
      " [7 9]\n",
      " [2 4]]\n",
      "print alternate rows\n",
      "[[5 0 3 3]\n",
      " [2 4 7 6]]\n",
      "alternate columns\n",
      "[[5 3]\n",
      " [7 3]\n",
      " [2 7]]\n"
     ]
    }
   ],
   "source": [
    "np.random.seed(0)\n",
    "x2 = np.random.randint(10,size=(3,4))\n",
    "print(\"x2:\",end='\\n')\n",
    "print(x2)\n",
    "print(\"first 3 rows and 2 columns\")\n",
    "print(x2[:3,:2])\n",
    "print(\"print alternate rows\")\n",
    "print(x2[::2,:])\n",
    "print(\"alternate columns\")\n",
    "print(x2[:,::2])"
   ]
  },
  {
   "cell_type": "code",
   "execution_count": 25,
   "id": "059dc61e",
   "metadata": {},
   "outputs": [
    {
     "name": "stdout",
     "output_type": "stream",
     "text": [
      "reverse the row values\n",
      "[[2 4 7 6]\n",
      " [7 9 3 5]\n",
      " [5 0 3 3]]\n",
      "reverse the col values\n",
      "[[3 3 0 5]\n",
      " [5 3 9 7]\n",
      " [6 7 4 2]]\n",
      "extracting 2nd col\n",
      "[0 9 4]\n"
     ]
    }
   ],
   "source": [
    "print(\"reverse the row values\")\n",
    "print(x2[::-1])\n",
    "print(\"reverse the col values\")\n",
    "print(x2[:,::-1])\n",
    "print(\"extracting 2nd col\")\n",
    "print(x2[:,1])"
   ]
  },
  {
   "cell_type": "markdown",
   "id": "96395ab0",
   "metadata": {},
   "source": [
    "## Sub-array as no-copy\n",
    "Working without a copy affects the original array even though we work on a subarray."
   ]
  },
  {
   "cell_type": "code",
   "execution_count": 26,
   "id": "f7e84fc4",
   "metadata": {},
   "outputs": [
    {
     "name": "stdout",
     "output_type": "stream",
     "text": [
      "Original x2\n",
      "[[5 0 3 3]\n",
      " [7 9 3 5]\n",
      " [2 4 7 6]]\n"
     ]
    }
   ],
   "source": [
    "print(\"Original x2\")\n",
    "print(x2)"
   ]
  },
  {
   "cell_type": "code",
   "execution_count": 27,
   "id": "a66f8878",
   "metadata": {},
   "outputs": [
    {
     "name": "stdout",
     "output_type": "stream",
     "text": [
      "sub array x2_sub\n",
      "[[5 0 3]\n",
      " [7 9 3]]\n",
      "On changing the sub array the original array changes\n",
      "[[25  0  3  3]\n",
      " [ 7  9  3  5]\n",
      " [ 2  4  7  6]]\n"
     ]
    }
   ],
   "source": [
    "x2_sub = x2[:2,:3]\n",
    "print(\"sub array x2_sub\")\n",
    "print(x2_sub)\n",
    "# On changing the sub array the original array changes.\n",
    "print(\"On changing the sub array the original array changes\")\n",
    "x2_sub[0,0]=25\n",
    "print(x2)"
   ]
  },
  {
   "cell_type": "markdown",
   "id": "68d1d9bc",
   "metadata": {},
   "source": [
    "## Creating a copy of an array\n",
    "Working on copy of the array does not affect the original array"
   ]
  },
  {
   "cell_type": "code",
   "execution_count": 28,
   "id": "23dd02cd",
   "metadata": {},
   "outputs": [
    {
     "name": "stdout",
     "output_type": "stream",
     "text": [
      "Original x2\n",
      "[[25  0  3  3]\n",
      " [ 7  9  3  5]\n",
      " [ 2  4  7  6]]\n"
     ]
    }
   ],
   "source": [
    "print(\"Original x2\")\n",
    "print(x2)"
   ]
  },
  {
   "cell_type": "code",
   "execution_count": 29,
   "id": "4fda5a2f",
   "metadata": {},
   "outputs": [
    {
     "name": "stdout",
     "output_type": "stream",
     "text": [
      "x2_sub_copy\n",
      "[[25  0  3]\n",
      " [ 7  9  3]]\n",
      "\n",
      "[[25 33  3]\n",
      " [ 7  9  3]]\n",
      "\n",
      "[[25  0  3  3]\n",
      " [ 7  9  3  5]\n",
      " [ 2  4  7  6]]\n"
     ]
    }
   ],
   "source": [
    "x2_sub_copy = x2[:2,:3].copy()\n",
    "print(\"x2_sub_copy\")\n",
    "print(x2_sub_copy,end='\\n\\n')\n",
    "x2_sub_copy[0,1] = 33\n",
    "#on changing the copy the original array is unaffected\n",
    "print(x2_sub_copy,end='\\n\\n')\n",
    "print(x2)"
   ]
  },
  {
   "cell_type": "markdown",
   "id": "3086285f",
   "metadata": {},
   "source": [
    "# Reshaping an array"
   ]
  },
  {
   "cell_type": "code",
   "execution_count": 30,
   "id": "ad67f1af",
   "metadata": {},
   "outputs": [
    {
     "data": {
      "text/plain": [
       "array([8, 8, 1, 6, 7, 7, 8, 1, 5])"
      ]
     },
     "execution_count": 30,
     "metadata": {},
     "output_type": "execute_result"
    }
   ],
   "source": [
    "grid = np.random.randint(9,size=9)\n",
    "grid"
   ]
  },
  {
   "cell_type": "code",
   "execution_count": 31,
   "id": "73c16428",
   "metadata": {},
   "outputs": [
    {
     "data": {
      "text/plain": [
       "array([[8, 8, 1],\n",
       "       [6, 7, 7],\n",
       "       [8, 1, 5]])"
      ]
     },
     "execution_count": 31,
     "metadata": {},
     "output_type": "execute_result"
    }
   ],
   "source": [
    "grid.reshape((3,3))"
   ]
  },
  {
   "cell_type": "code",
   "execution_count": 32,
   "id": "82073f42",
   "metadata": {},
   "outputs": [
    {
     "data": {
      "text/plain": [
       "array([8, 8, 1, 6, 7, 7, 8, 1, 5])"
      ]
     },
     "execution_count": 32,
     "metadata": {},
     "output_type": "execute_result"
    }
   ],
   "source": [
    "grid.reshape(9)"
   ]
  },
  {
   "cell_type": "markdown",
   "id": "6e500553",
   "metadata": {},
   "source": [
    "# How to read a 3d matrix \n",
    "Normally a 3d matrix is a collection of 2d matrix. Read the matrix as 2X(3X4)`"
   ]
  },
  {
   "cell_type": "code",
   "execution_count": 33,
   "id": "a2f6e0c2",
   "metadata": {},
   "outputs": [
    {
     "data": {
      "text/plain": [
       "array([[[8, 4, 3, 0],\n",
       "        [3, 5, 0, 2],\n",
       "        [3, 8, 1, 3]],\n",
       "\n",
       "       [[3, 3, 7, 0],\n",
       "        [1, 0, 4, 7],\n",
       "        [3, 2, 7, 2]]])"
      ]
     },
     "execution_count": 33,
     "metadata": {},
     "output_type": "execute_result"
    }
   ],
   "source": [
    "np.random.randint(9,size=(2,3,4))"
   ]
  },
  {
   "cell_type": "code",
   "execution_count": 34,
   "id": "a00d8a1e",
   "metadata": {},
   "outputs": [
    {
     "name": "stdout",
     "output_type": "stream",
     "text": [
      "[[[8 8 1 6 7 7 8 1 5]]]\n",
      "\n",
      "[[[8]\n",
      "  [8]\n",
      "  [1]\n",
      "  [6]\n",
      "  [7]\n",
      "  [7]\n",
      "  [8]\n",
      "  [1]\n",
      "  [5]]]\n",
      "\n",
      "[[[8]]\n",
      "\n",
      " [[8]]\n",
      "\n",
      " [[1]]\n",
      "\n",
      " [[6]]\n",
      "\n",
      " [[7]]\n",
      "\n",
      " [[7]]\n",
      "\n",
      " [[8]]\n",
      "\n",
      " [[1]]\n",
      "\n",
      " [[5]]]\n",
      "\n"
     ]
    }
   ],
   "source": [
    "#using reshape to \n",
    "print(grid.reshape(1,1,9),end='\\n\\n')\n",
    "print(grid.reshape(1,9,1),end='\\n\\n')\n",
    "print(grid.reshape(9,1,1),end='\\n\\n')"
   ]
  },
  {
   "cell_type": "markdown",
   "id": "0b1cf768",
   "metadata": {},
   "source": [
    "## New axis in slicing operation\n",
    "Suppose we have a 3d matrix with dimensions 2,3,4 then\\\n",
    "k[:,np.newaxis] makes it as 4d with (2,1,3,4)\\\n",
    "k[np.newaxis,:] makes it as 4d with (1,2,3,4)\\\n",
    "k[:,:,np.newaxis,:] makes it as (2,3,1,4)\\\n",
    "In short it adds a new axis and reshapes the dimension of a matrix where we specify\n"
   ]
  },
  {
   "cell_type": "code",
   "execution_count": 35,
   "id": "364a3812",
   "metadata": {},
   "outputs": [
    {
     "data": {
      "text/plain": [
       "(4,)"
      ]
     },
     "execution_count": 35,
     "metadata": {},
     "output_type": "execute_result"
    }
   ],
   "source": [
    "k1=np.array([1,2,3,4])\n",
    "k1.shape"
   ]
  },
  {
   "cell_type": "code",
   "execution_count": 36,
   "id": "b70c773f",
   "metadata": {},
   "outputs": [
    {
     "data": {
      "text/plain": [
       "(4,)"
      ]
     },
     "execution_count": 36,
     "metadata": {},
     "output_type": "execute_result"
    }
   ],
   "source": [
    "k1[np.newaxis,:]\n",
    "k1.shape"
   ]
  },
  {
   "cell_type": "code",
   "execution_count": 37,
   "id": "7a354a3e",
   "metadata": {},
   "outputs": [
    {
     "data": {
      "text/plain": [
       "(2, 3, 4)"
      ]
     },
     "execution_count": 37,
     "metadata": {},
     "output_type": "execute_result"
    }
   ],
   "source": [
    "k=np.random.randint(9,size=(2,3,4))\n",
    "k.shape"
   ]
  },
  {
   "cell_type": "code",
   "execution_count": 38,
   "id": "ee77ba8f",
   "metadata": {},
   "outputs": [
    {
     "data": {
      "text/plain": [
       "(2, 3, 1, 4)"
      ]
     },
     "execution_count": 38,
     "metadata": {},
     "output_type": "execute_result"
    }
   ],
   "source": [
    "k=k[:,:,np.newaxis,:]\n",
    "k.shape"
   ]
  },
  {
   "cell_type": "code",
   "execution_count": 39,
   "id": "28c867ee",
   "metadata": {},
   "outputs": [
    {
     "data": {
      "text/plain": [
       "(2, 3, 1, 1, 4)"
      ]
     },
     "execution_count": 39,
     "metadata": {},
     "output_type": "execute_result"
    }
   ],
   "source": [
    "k=k[:,:,np.newaxis,:]\n",
    "k.shape"
   ]
  },
  {
   "cell_type": "markdown",
   "id": "881c7f18",
   "metadata": {},
   "source": [
    "## Array concatenation\n",
    "np.concatenate - mostly prefered for 1d array\\\n",
    "np.hstack(horizontal stack) and np.vstack(vertical stack) - prefered for multidimensional array"
   ]
  },
  {
   "cell_type": "code",
   "execution_count": 40,
   "id": "2e2d9ae6",
   "metadata": {},
   "outputs": [
    {
     "data": {
      "text/plain": [
       "array([1, 2, 3, 1, 2, 3, 1, 2, 3])"
      ]
     },
     "execution_count": 40,
     "metadata": {},
     "output_type": "execute_result"
    }
   ],
   "source": [
    "x = np.array([1,2,3])\n",
    "y = np.array([3,4,5])\n",
    "z = np.array([\n",
    "    [11],\n",
    "    [99]\n",
    "])\n",
    "np.concatenate([x, x, x])"
   ]
  },
  {
   "cell_type": "code",
   "execution_count": 41,
   "id": "37a71605",
   "metadata": {},
   "outputs": [
    {
     "data": {
      "text/plain": [
       "array([[1, 2, 3],\n",
       "       [3, 4, 5]])"
      ]
     },
     "execution_count": 41,
     "metadata": {},
     "output_type": "execute_result"
    }
   ],
   "source": [
    "np.vstack([x,y])"
   ]
  },
  {
   "cell_type": "code",
   "execution_count": 42,
   "id": "83433361",
   "metadata": {},
   "outputs": [
    {
     "data": {
      "text/plain": [
       "array([[ 1,  2,  3, 11],\n",
       "       [ 3,  4,  5, 99]])"
      ]
     },
     "execution_count": 42,
     "metadata": {},
     "output_type": "execute_result"
    }
   ],
   "source": [
    "np.hstack([np.vstack([x,y]),z])"
   ]
  },
  {
   "cell_type": "markdown",
   "id": "6acf900f",
   "metadata": {},
   "source": [
    "# axis \n",
    "axis = 0 --> vertical axis\\\n",
    "axis = 1 --> horizontal axis\\\n",
    "axis = 2 --> 3rd axis"
   ]
  },
  {
   "cell_type": "code",
   "execution_count": 43,
   "id": "88aedb7e",
   "metadata": {},
   "outputs": [
    {
     "name": "stdout",
     "output_type": "stream",
     "text": [
      "[[1 2 3]\n",
      " [4 5 6]\n",
      " [1 2 3]\n",
      " [4 5 6]]\n",
      "\n",
      "[[1 2 3 1 2 3]\n",
      " [4 5 6 4 5 6]]\n"
     ]
    }
   ],
   "source": [
    "grid = np.array([[1,2,3],[4,5,6]])\n",
    "print(np.concatenate([grid,grid]),end=\"\\n\\n\") #same as vstack\n",
    "print(np.concatenate([grid,grid],axis=1)) #same as hstack"
   ]
  },
  {
   "cell_type": "code",
   "execution_count": 44,
   "id": "5b2317a9",
   "metadata": {},
   "outputs": [
    {
     "data": {
      "text/plain": [
       "array([[[11, 22, 33],\n",
       "        [11, 22, 33]],\n",
       "\n",
       "       [[44, 55, 66],\n",
       "        [77, 88, 99]]])"
      ]
     },
     "execution_count": 44,
     "metadata": {},
     "output_type": "execute_result"
    }
   ],
   "source": [
    "z = np.array([[[1,2,3],[4,5,6]],[[7,8,9],[10,12,13]]])\n",
    "z\n",
    "z1 = np.array([[[11,22,33],[11,22,33]],[[44,55,66],[77,88,99]]])\n",
    "z1"
   ]
  },
  {
   "cell_type": "code",
   "execution_count": 45,
   "id": "0ec708e6",
   "metadata": {},
   "outputs": [
    {
     "data": {
      "text/plain": [
       "array([[[ 1,  2,  3, 11, 22, 33],\n",
       "        [ 4,  5,  6, 11, 22, 33]],\n",
       "\n",
       "       [[ 7,  8,  9, 44, 55, 66],\n",
       "        [10, 12, 13, 77, 88, 99]]])"
      ]
     },
     "execution_count": 45,
     "metadata": {},
     "output_type": "execute_result"
    }
   ],
   "source": [
    "np.dstack([z,z1]) #concatenates along 3rd axis"
   ]
  },
  {
   "cell_type": "code",
   "execution_count": 46,
   "id": "36b7f68f",
   "metadata": {},
   "outputs": [
    {
     "data": {
      "text/plain": [
       "array([[[ 1,  2,  3, 11, 22, 33],\n",
       "        [ 4,  5,  6, 11, 22, 33]],\n",
       "\n",
       "       [[ 7,  8,  9, 44, 55, 66],\n",
       "        [10, 12, 13, 77, 88, 99]]])"
      ]
     },
     "execution_count": 46,
     "metadata": {},
     "output_type": "execute_result"
    }
   ],
   "source": [
    "np.concatenate([z,z1],axis=2) #same as dstack"
   ]
  },
  {
   "cell_type": "markdown",
   "id": "35c73f35",
   "metadata": {},
   "source": [
    "## Splitting of arrays\n",
    "Opposite of concatenate. Can split using np.split, np.vsplit, np.hsplit, np.dsplit\n"
   ]
  },
  {
   "cell_type": "code",
   "execution_count": 47,
   "id": "0c2b4ed8",
   "metadata": {},
   "outputs": [
    {
     "name": "stdout",
     "output_type": "stream",
     "text": [
      "[1 2 3] [99 99 99] [4 5 6]\n"
     ]
    }
   ],
   "source": [
    "#If array can be split into equal numbers of elements then it works\n",
    "x= np.array([1,2,3,99,99,99,4,5,6])\n",
    "x1, x2, x3 = np.split(x,3)\n",
    "print(x1,x2,x3)"
   ]
  },
  {
   "cell_type": "code",
   "execution_count": 48,
   "id": "36dda578",
   "metadata": {},
   "outputs": [
    {
     "name": "stdout",
     "output_type": "stream",
     "text": [
      "[1 2 3] [99 99] [99  4  5] [6]\n"
     ]
    }
   ],
   "source": [
    "#to split an array in to unequal parts\n",
    "x1,x2,x3,x4 = np.split(x,[3,5,8])\n",
    "print(x1,x2,x3,x4)\n",
    "\n",
    "#note : If we pass n no of split points we get n+1 splits"
   ]
  },
  {
   "cell_type": "code",
   "execution_count": 49,
   "id": "ecd10acf",
   "metadata": {},
   "outputs": [
    {
     "name": "stdout",
     "output_type": "stream",
     "text": [
      "original grid\n",
      "[[ 0  1  2  3]\n",
      " [ 4  5  6  7]\n",
      " [ 8  9 10 11]\n",
      " [12 13 14 15]]\n",
      "upper array\n",
      "[[0 1 2 3]\n",
      " [4 5 6 7]]\n",
      "lower array\n",
      "[[ 8  9 10 11]\n",
      " [12 13 14 15]]\n"
     ]
    }
   ],
   "source": [
    "grid = np.arange(16).reshape(4,4)\n",
    "print(\"original grid\")\n",
    "print(grid)\n",
    "upper,lower = np.vsplit(grid,2) #reverse of vstack\n",
    "print(\"upper array\")\n",
    "print(upper)\n",
    "print(\"lower array\")\n",
    "print(lower)"
   ]
  },
  {
   "cell_type": "code",
   "execution_count": 50,
   "id": "63305505",
   "metadata": {
    "scrolled": true
   },
   "outputs": [
    {
     "name": "stdout",
     "output_type": "stream",
     "text": [
      "left\n",
      "[[ 0]\n",
      " [ 4]\n",
      " [ 8]\n",
      " [12]]\n",
      "mid\n",
      "[[ 1]\n",
      " [ 5]\n",
      " [ 9]\n",
      " [13]]\n",
      "right\n",
      "[[ 2  3]\n",
      " [ 6  7]\n",
      " [10 11]\n",
      " [14 15]]\n"
     ]
    }
   ],
   "source": [
    "left,mid,right = np.hsplit(grid,(1,2)) #reverse of hstack\n",
    "print(\"left\")\n",
    "print(left)\n",
    "print(\"mid\")\n",
    "print(mid)\n",
    "print(\"right\")\n",
    "print(right)"
   ]
  },
  {
   "cell_type": "code",
   "execution_count": 51,
   "id": "f1100961",
   "metadata": {},
   "outputs": [
    {
     "name": "stdout",
     "output_type": "stream",
     "text": [
      "[[[ 1  2]\n",
      "  [ 4  5]]\n",
      "\n",
      " [[ 7  8]\n",
      "  [10 12]]] [] [[[ 3]\n",
      "  [ 6]]\n",
      "\n",
      " [[ 9]\n",
      "  [13]]]\n"
     ]
    }
   ],
   "source": [
    "z1,z2,z3 = np.dsplit(z,(2,2)) #reverse of dstack\n",
    "print(z1,z2,z3)"
   ]
  },
  {
   "cell_type": "markdown",
   "id": "5aee7423",
   "metadata": {},
   "source": [
    "# Ufunctions in numpy\n",
    "\n",
    "Normally doing operations would take longer time in python because they are interpreted. But the nummy's ufunctions minimize the time consumption by compiling the code. So for larger amount of data use the numby's ufuncions.\n",
    "\n",
    "Operator Equivalent ufunc Description\\\n",
    "\\+   np.add Addition (e.g., 1 + 1 = 2)\\\n",
    "\\- np.subtract Subtraction (e.g., 3 - 2 = 1)\\\n",
    "\\- np.negative Unary negation (e.g., -2)\\\n",
    "\\* np.multiply Multiplication (e.g., 2 * 3 = 6)\\\n",
    "\\/ np.divide Division (e.g., 3 / 2 = 1.5)\\\n",
    "\\// np.floor_divide Floor division (e.g., 3 // 2 = 1)\\\n",
    "\\** np.power Exponentiation (e.g., 2 ** 3 = 8)\\\n",
    "\\% np.mod Modulus/remainder (e.g., 9 % 4 = 1)\\\n"
   ]
  },
  {
   "cell_type": "code",
   "execution_count": 52,
   "id": "6fbe96f0",
   "metadata": {},
   "outputs": [
    {
     "name": "stdout",
     "output_type": "stream",
     "text": [
      "add :  7\n",
      "subtract :  -1\n",
      "multiply :  12\n",
      "divide :  0.75\n",
      "negative :  -34\n",
      "power :  81\n",
      "floor :  0\n",
      "modulus :  1\n"
     ]
    }
   ],
   "source": [
    "print(\"add : \",np.add(3,4))\n",
    "print(\"subtract : \",np.subtract(3,4))\n",
    "print(\"multiply : \",np.multiply(3,4))\n",
    "print(\"divide : \",np.divide(3,4))\n",
    "print(\"negative : \",np.negative(34))\n",
    "print(\"power : \",np.power(3,4))\n",
    "print(\"floor : \",np.floor_divide(3,4))\n",
    "print(\"modulus : \",np.mod(4,3))"
   ]
  },
  {
   "cell_type": "markdown",
   "id": "89590e56",
   "metadata": {},
   "source": [
    "### Aggregates\n",
    "Some values can be computed directly from the object. These are called as aggregates.\\\n",
    "reduce"
   ]
  },
  {
   "cell_type": "code",
   "execution_count": 53,
   "id": "bcb31ab0",
   "metadata": {},
   "outputs": [
    {
     "data": {
      "text/plain": [
       "15"
      ]
     },
     "execution_count": 53,
     "metadata": {},
     "output_type": "execute_result"
    }
   ],
   "source": [
    "x = np.array([1,2,3,4,5])\n",
    "np.add.reduce(x)"
   ]
  },
  {
   "cell_type": "code",
   "execution_count": 54,
   "id": "782f94ef",
   "metadata": {},
   "outputs": [
    {
     "data": {
      "text/plain": [
       "120"
      ]
     },
     "execution_count": 54,
     "metadata": {},
     "output_type": "execute_result"
    }
   ],
   "source": [
    "np.multiply.reduce(x)"
   ]
  },
  {
   "cell_type": "code",
   "execution_count": 55,
   "id": "beef34a3",
   "metadata": {},
   "outputs": [
    {
     "data": {
      "text/plain": [
       "-13"
      ]
     },
     "execution_count": 55,
     "metadata": {},
     "output_type": "execute_result"
    }
   ],
   "source": [
    "np.subtract.reduce(x)"
   ]
  },
  {
   "cell_type": "markdown",
   "id": "a6435f60",
   "metadata": {},
   "source": [
    "Accumulate\\\n",
    "To see the operation step by step results"
   ]
  },
  {
   "cell_type": "code",
   "execution_count": 56,
   "id": "958094ae",
   "metadata": {},
   "outputs": [
    {
     "data": {
      "text/plain": [
       "array([ 1,  3,  6, 10, 15], dtype=int32)"
      ]
     },
     "execution_count": 56,
     "metadata": {},
     "output_type": "execute_result"
    }
   ],
   "source": [
    "np.add.accumulate(x)"
   ]
  },
  {
   "cell_type": "code",
   "execution_count": 57,
   "id": "42677627",
   "metadata": {},
   "outputs": [
    {
     "data": {
      "text/plain": [
       "array([  1,  -1,  -4,  -8, -13], dtype=int32)"
      ]
     },
     "execution_count": 57,
     "metadata": {},
     "output_type": "execute_result"
    }
   ],
   "source": [
    "np.subtract.accumulate(x)"
   ]
  },
  {
   "cell_type": "markdown",
   "id": "e99a6112",
   "metadata": {},
   "source": [
    "### Outer products\n",
    "To compute the output of only two different inputs"
   ]
  },
  {
   "cell_type": "code",
   "execution_count": 58,
   "id": "e09d51e6",
   "metadata": {},
   "outputs": [
    {
     "data": {
      "text/plain": [
       "array([[[ 1,  2,  3,  4,  5],\n",
       "        [ 2,  4,  6,  8, 10],\n",
       "        [ 3,  6,  9, 12, 15],\n",
       "        [ 4,  8, 12, 16, 20],\n",
       "        [ 5, 10, 15, 20, 25]],\n",
       "\n",
       "       [[ 1,  2,  3,  4,  5],\n",
       "        [ 2,  4,  6,  8, 10],\n",
       "        [ 3,  6,  9, 12, 15],\n",
       "        [ 4,  8, 12, 16, 20],\n",
       "        [ 5, 10, 15, 20, 25]],\n",
       "\n",
       "       [[ 1,  2,  3,  4,  5],\n",
       "        [ 2,  4,  6,  8, 10],\n",
       "        [ 3,  6,  9, 12, 15],\n",
       "        [ 4,  8, 12, 16, 20],\n",
       "        [ 5, 10, 15, 20, 25]]])"
      ]
     },
     "execution_count": 58,
     "metadata": {},
     "output_type": "execute_result"
    }
   ],
   "source": [
    "np.multiply.outer((x,x,x),x)"
   ]
  },
  {
   "cell_type": "code",
   "execution_count": 59,
   "id": "1bbfbefc",
   "metadata": {},
   "outputs": [
    {
     "data": {
      "text/plain": [
       "array([[ 1,  2,  3,  4,  5],\n",
       "       [ 2,  4,  6,  8, 10],\n",
       "       [ 3,  6,  9, 12, 15],\n",
       "       [ 4,  8, 12, 16, 20],\n",
       "       [ 5, 10, 15, 20, 25]])"
      ]
     },
     "execution_count": 59,
     "metadata": {},
     "output_type": "execute_result"
    }
   ],
   "source": [
    "np.multiply.outer(x,x)"
   ]
  },
  {
   "cell_type": "code",
   "execution_count": 60,
   "id": "fd57f126",
   "metadata": {},
   "outputs": [
    {
     "data": {
      "text/plain": [
       "array([68, 47,  3, 76, 52, 78, 15, 20, 99, 58])"
      ]
     },
     "execution_count": 60,
     "metadata": {},
     "output_type": "execute_result"
    }
   ],
   "source": [
    "L = np.random.randint(100, size=10)\n",
    "L"
   ]
  },
  {
   "cell_type": "code",
   "execution_count": 61,
   "id": "75d3786c",
   "metadata": {},
   "outputs": [
    {
     "data": {
      "text/plain": [
       "3"
      ]
     },
     "execution_count": 61,
     "metadata": {},
     "output_type": "execute_result"
    }
   ],
   "source": [
    "np.min(L)"
   ]
  },
  {
   "cell_type": "code",
   "execution_count": 62,
   "id": "1ebe53ab",
   "metadata": {},
   "outputs": [
    {
     "data": {
      "text/plain": [
       "99"
      ]
     },
     "execution_count": 62,
     "metadata": {},
     "output_type": "execute_result"
    }
   ],
   "source": [
    "np.max(L)"
   ]
  },
  {
   "cell_type": "code",
   "execution_count": 63,
   "id": "8a40478c",
   "metadata": {},
   "outputs": [
    {
     "data": {
      "text/plain": [
       "array([[0.15896958, 0.11037514, 0.65632959, 0.13818295],\n",
       "       [0.19658236, 0.36872517, 0.82099323, 0.09710128],\n",
       "       [0.83794491, 0.09609841, 0.97645947, 0.4686512 ]])"
      ]
     },
     "execution_count": 63,
     "metadata": {},
     "output_type": "execute_result"
    }
   ],
   "source": [
    "x = np.random.random((3,4))\n",
    "x"
   ]
  },
  {
   "cell_type": "markdown",
   "id": "101b39e4",
   "metadata": {},
   "source": [
    "To find the max and min along the axis"
   ]
  },
  {
   "cell_type": "code",
   "execution_count": 64,
   "id": "8804ea40",
   "metadata": {},
   "outputs": [
    {
     "name": "stdout",
     "output_type": "stream",
     "text": [
      "min of x 0.09609840789396307\n",
      "min along the column (axis 0)  [0.15896958 0.09609841 0.65632959 0.09710128]\n",
      "min along the rows (axis 1) [0.11037514 0.09710128 0.09609841]\n"
     ]
    }
   ],
   "source": [
    "print(\"min of x\",np.min(x))\n",
    "print(\"min along the column (axis 0) \",np.min(x,axis=0))\n",
    "print(\"min along the rows (axis 1)\", np.min(x,axis=1))"
   ]
  },
  {
   "cell_type": "code",
   "execution_count": 65,
   "id": "7bd143d2",
   "metadata": {},
   "outputs": [
    {
     "name": "stdout",
     "output_type": "stream",
     "text": [
      "max of x 0.9764594650133958\n",
      "max along the column (axis 0) [0.83794491 0.36872517 0.97645947 0.4686512 ]\n",
      "max along the row (axis 1) [0.65632959 0.82099323 0.97645947]\n"
     ]
    }
   ],
   "source": [
    "print(\"max of x\",np.max(x))\n",
    "print(\"max along the column (axis 0)\",np.max(x,axis=0))\n",
    "print(\"max along the row (axis 1)\",np.max(x,axis=1))"
   ]
  },
  {
   "cell_type": "code",
   "execution_count": 66,
   "id": "2f0c25a0",
   "metadata": {},
   "outputs": [
    {
     "name": "stderr",
     "output_type": "stream",
     "text": [
      "ERROR:root:No traceback has been produced, nothing to debug.\n"
     ]
    }
   ],
   "source": [
    "%debug"
   ]
  },
  {
   "cell_type": "code",
   "execution_count": 67,
   "id": "0383f5d0",
   "metadata": {},
   "outputs": [
    {
     "data": {
      "text/html": [
       "<div>\n",
       "<style scoped>\n",
       "    .dataframe tbody tr th:only-of-type {\n",
       "        vertical-align: middle;\n",
       "    }\n",
       "\n",
       "    .dataframe tbody tr th {\n",
       "        vertical-align: top;\n",
       "    }\n",
       "\n",
       "    .dataframe thead th {\n",
       "        text-align: right;\n",
       "    }\n",
       "</style>\n",
       "<table border=\"1\" class=\"dataframe\">\n",
       "  <thead>\n",
       "    <tr style=\"text-align: right;\">\n",
       "      <th></th>\n",
       "      <th>order</th>\n",
       "      <th>name</th>\n",
       "      <th>height(cm)</th>\n",
       "    </tr>\n",
       "  </thead>\n",
       "  <tbody>\n",
       "    <tr>\n",
       "      <th>0</th>\n",
       "      <td>1</td>\n",
       "      <td>George Washington</td>\n",
       "      <td>189</td>\n",
       "    </tr>\n",
       "    <tr>\n",
       "      <th>1</th>\n",
       "      <td>2</td>\n",
       "      <td>John Adams</td>\n",
       "      <td>170</td>\n",
       "    </tr>\n",
       "    <tr>\n",
       "      <th>2</th>\n",
       "      <td>3</td>\n",
       "      <td>Thomas Jefferson</td>\n",
       "      <td>189</td>\n",
       "    </tr>\n",
       "    <tr>\n",
       "      <th>3</th>\n",
       "      <td>4</td>\n",
       "      <td>James Madison</td>\n",
       "      <td>163</td>\n",
       "    </tr>\n",
       "    <tr>\n",
       "      <th>4</th>\n",
       "      <td>5</td>\n",
       "      <td>James Monroe</td>\n",
       "      <td>183</td>\n",
       "    </tr>\n",
       "  </tbody>\n",
       "</table>\n",
       "</div>"
      ],
      "text/plain": [
       "   order               name  height(cm)\n",
       "0      1  George Washington         189\n",
       "1      2         John Adams         170\n",
       "2      3   Thomas Jefferson         189\n",
       "3      4      James Madison         163\n",
       "4      5       James Monroe         183"
      ]
     },
     "execution_count": 67,
     "metadata": {},
     "output_type": "execute_result"
    }
   ],
   "source": [
    "data = pd.read_csv(\"sample dataset/president_heights.csv\")\n",
    "data.head(5)"
   ]
  },
  {
   "cell_type": "code",
   "execution_count": 68,
   "id": "7c626bf5",
   "metadata": {},
   "outputs": [
    {
     "name": "stdout",
     "output_type": "stream",
     "text": [
      "[189 170 189 163 183 171 185 168 173 183 173 173 175 178 183 193 178 173\n",
      " 174 183 183 168 170 178 182 180 183 178 182 188 175 179 183 193 182 183\n",
      " 177 185 188 188 182 185]\n"
     ]
    }
   ],
   "source": [
    "heights = np.array(data['height(cm)'])\n",
    "print(heights)"
   ]
  },
  {
   "cell_type": "code",
   "execution_count": 69,
   "id": "3deaf9b7",
   "metadata": {},
   "outputs": [
    {
     "name": "stdout",
     "output_type": "stream",
     "text": [
      "[ 1  2  3  4  5  6  7  8  9 10 11 12 13 14 15 16 17 18 19 20 21 23 25 26\n",
      " 27 28 29 30 31 32 33 34 35 36 37 38 39 40 41 42 43 44]\n"
     ]
    }
   ],
   "source": [
    "order = np.array(data['order'])\n",
    "print(order)"
   ]
  },
  {
   "cell_type": "code",
   "execution_count": 70,
   "id": "9aabb008",
   "metadata": {},
   "outputs": [
    {
     "name": "stdout",
     "output_type": "stream",
     "text": [
      "193\n",
      "163\n",
      "2\n",
      "126\n",
      "(42, 3)\n",
      "2\n"
     ]
    }
   ],
   "source": [
    "print(np.max(heights))\n",
    "print(np.min(heights))\n",
    "print(data.ndim)\n",
    "print(data.size)\n",
    "print(data.shape)\n",
    "print(data.ndim)"
   ]
  },
  {
   "cell_type": "code",
   "execution_count": 71,
   "id": "b19381f6",
   "metadata": {},
   "outputs": [
    {
     "name": "stdout",
     "output_type": "stream",
     "text": [
      "Mean of heights :  179.73809523809524\n",
      "median of heights :  182.0\n",
      "standard deviation of standard heights :  6.931843442745892\n"
     ]
    }
   ],
   "source": [
    "print(\"Mean of heights : \",np.mean(heights))\n",
    "print(\"median of heights : \",np.median(heights))\n",
    "print(\"standard deviation of standard heights : \",np.std(heights))"
   ]
  },
  {
   "cell_type": "markdown",
   "id": "be87a088",
   "metadata": {},
   "source": [
    "### percentile\n",
    "0th percentile is the minimum height\n",
    "100th percentile is the max height\n"
   ]
  },
  {
   "cell_type": "code",
   "execution_count": 72,
   "id": "ac1f79bc",
   "metadata": {},
   "outputs": [
    {
     "name": "stdout",
     "output_type": "stream",
     "text": [
      "0th percentile of height :  163.0\n",
      "25th percentile of height :  174.25\n",
      "50th percentile of height(median) :  182.0\n",
      "100th percentile of height :  193.0\n"
     ]
    }
   ],
   "source": [
    "print(\"0th percentile of height : \",np.percentile(heights,0))\n",
    "print(\"25th percentile of height : \",np.percentile(heights,25))\n",
    "print(\"50th percentile of height(median) : \",np.percentile(heights,50))\n",
    "print(\"100th percentile of height : \",np.percentile(heights,100))"
   ]
  },
  {
   "cell_type": "code",
   "execution_count": 73,
   "id": "f3212b44",
   "metadata": {},
   "outputs": [
    {
     "data": {
      "text/plain": [
       "Text(0, 0.5, 'number')"
      ]
     },
     "execution_count": 73,
     "metadata": {},
     "output_type": "execute_result"
    },
    {
     "data": {
      "image/png": "[encoded data removed]",
      "text/plain": [
       "<Figure size 432x288 with 1 Axes>"
      ]
     },
     "metadata": {
      "needs_background": "light"
     },
     "output_type": "display_data"
    }
   ],
   "source": [
    "plt.hist(order)\n",
    "plt.title(\"US president heights\")\n",
    "plt.xlabel('heights')\n",
    "plt.ylabel('number')"
   ]
  },
  {
   "cell_type": "markdown",
   "id": "c7127318",
   "metadata": {},
   "source": [
    "## Broadcasting \n",
    "Earlier we saw that numpies universal function(Ufunctions) could be used to vectorize and reduce the slowness in python loops. Another way to vectorize is broadcasting where in the operations are done on dimension basis. Adding a[0,0] to b[0,0]."
   ]
  },
  {
   "cell_type": "code",
   "execution_count": 74,
   "id": "2a439d40",
   "metadata": {},
   "outputs": [
    {
     "data": {
      "text/plain": [
       "array([3, 5, 7])"
      ]
     },
     "execution_count": 74,
     "metadata": {},
     "output_type": "execute_result"
    }
   ],
   "source": [
    "a=np.array([0,1,2])\n",
    "b = np.array([3,4,5])\n",
    "a+b"
   ]
  },
  {
   "cell_type": "markdown",
   "id": "c404a473",
   "metadata": {},
   "source": [
    "It also allows binary operations to be performed on different sizes using a scalar by considering the scalar has 0 dimension."
   ]
  },
  {
   "cell_type": "code",
   "execution_count": 75,
   "id": "74432d9e",
   "metadata": {},
   "outputs": [
    {
     "data": {
      "text/plain": [
       "array([5, 6, 7])"
      ]
     },
     "execution_count": 75,
     "metadata": {},
     "output_type": "execute_result"
    }
   ],
   "source": [
    "a+5"
   ]
  },
  {
   "cell_type": "code",
   "execution_count": 76,
   "id": "7de37c6f",
   "metadata": {},
   "outputs": [
    {
     "name": "stdout",
     "output_type": "stream",
     "text": [
      "[[1. 1. 1.]\n",
      " [1. 1. 1.]\n",
      " [1. 1. 1.]]\n"
     ]
    },
    {
     "data": {
      "text/plain": [
       "array([[1., 2., 3.],\n",
       "       [1., 2., 3.],\n",
       "       [1., 2., 3.]])"
      ]
     },
     "execution_count": 76,
     "metadata": {},
     "output_type": "execute_result"
    }
   ],
   "source": [
    "M = np.ones((3,3))\n",
    "print(M)\n",
    "M+a"
   ]
  },
  {
   "cell_type": "markdown",
   "id": "ed46f22d",
   "metadata": {},
   "source": [
    "# Rules for broadcasting\n",
    "1. If two arrays differ in the dimensions then the lower one would be padded by 1 by the leading(left) side. \n",
    "2. If two arrays differ in dimension, the array with dimension 1 is stretched to match the other shape.\n",
    "3. If in any dimension the size does not match we get an error."
   ]
  },
  {
   "cell_type": "markdown",
   "id": "94e1f3b6",
   "metadata": {},
   "source": [
    "# Comparison operators as ufunctions\n",
    "As we have seen ufunctions for arithmetic operations, we also have ufunctions for comparison. Normally when we use comparison operators it iterates through every element and makes it slow. In order to prevent that we use the ufunctions\\\n",
    "Operator Equivalent ufunc\\\n",
    "== np.equal\\\n",
    "!= np.not_equal\\\n",
    "< np.less\\\n",
    "<= np.less_equal\\\n",
    "\\> np.greater\\\n",
    "\\>= np.greater_equal"
   ]
  },
  {
   "cell_type": "code",
   "execution_count": 77,
   "id": "3f793470",
   "metadata": {},
   "outputs": [
    {
     "name": "stdout",
     "output_type": "stream",
     "text": [
      "[ True  True False False False]\n",
      "[False False False  True  True]\n",
      "[ True  True  True False False]\n",
      "[False False  True  True  True]\n",
      "[False False  True False False]\n",
      "[ True  True False  True  True]\n"
     ]
    }
   ],
   "source": [
    "x=np.array([1,2,3,4,5])\n",
    "print(x<3)\n",
    "print(x>3)\n",
    "print(x<=3)\n",
    "print(x>=3)\n",
    "print(x==3)\n",
    "print(x!=3)"
   ]
  },
  {
   "cell_type": "code",
   "execution_count": 78,
   "id": "f694e258",
   "metadata": {},
   "outputs": [
    {
     "name": "stdout",
     "output_type": "stream",
     "text": [
      "[ True  True False False False]\n",
      "[False False False  True  True]\n",
      "[False False  True  True  True]\n",
      "[ True  True  True False False]\n",
      "[False False  True False False]\n",
      "[ True  True False  True  True]\n"
     ]
    }
   ],
   "source": [
    "print(np.less(x,3))\n",
    "print(np.greater(x,3))\n",
    "print(np.greater_equal(x,3))\n",
    "print(np.less_equal(x,3))\n",
    "print(np.equal(x,3))\n",
    "print(np.not_equal(x,3))"
   ]
  },
  {
   "cell_type": "markdown",
   "id": "eba1946e",
   "metadata": {},
   "source": [
    "RandomState is same as seed."
   ]
  },
  {
   "cell_type": "code",
   "execution_count": 79,
   "id": "63158d5e",
   "metadata": {},
   "outputs": [
    {
     "name": "stdout",
     "output_type": "stream",
     "text": [
      "RandomState(MT19937)\n"
     ]
    }
   ],
   "source": [
    "rng = np.random.RandomState(0)\n",
    "print(rng)"
   ]
  },
  {
   "cell_type": "markdown",
   "id": "d1f35c31",
   "metadata": {},
   "source": [
    "Comparision Ufunction for 2d array."
   ]
  },
  {
   "cell_type": "code",
   "execution_count": 80,
   "id": "a96bd111",
   "metadata": {},
   "outputs": [
    {
     "name": "stdout",
     "output_type": "stream",
     "text": [
      "[[0 7 5 9]\n",
      " [0 2 7 2]\n",
      " [9 2 3 3]]\n"
     ]
    },
    {
     "data": {
      "text/plain": [
       "array([[ True, False, False, False],\n",
       "       [ True,  True, False,  True],\n",
       "       [False,  True, False, False]])"
      ]
     },
     "execution_count": 80,
     "metadata": {},
     "output_type": "execute_result"
    }
   ],
   "source": [
    "x = np.random.randint(10,size=(3,4))\n",
    "print(x,end='\\n')\n",
    "np.less(x,3)"
   ]
  },
  {
   "cell_type": "markdown",
   "id": "0879b109",
   "metadata": {},
   "source": [
    "count_nonzero() used to count "
   ]
  },
  {
   "cell_type": "code",
   "execution_count": 81,
   "id": "de0b9452",
   "metadata": {},
   "outputs": [
    {
     "data": {
      "text/plain": [
       "5"
      ]
     },
     "execution_count": 81,
     "metadata": {},
     "output_type": "execute_result"
    }
   ],
   "source": [
    "np.count_nonzero(np.less(x,3))"
   ]
  },
  {
   "cell_type": "markdown",
   "id": "160dfa13",
   "metadata": {},
   "source": [
    "We can also do the same with sum. The advantage is it can be used along rows and columns"
   ]
  },
  {
   "cell_type": "code",
   "execution_count": 82,
   "id": "a6624c1d",
   "metadata": {},
   "outputs": [
    {
     "name": "stdout",
     "output_type": "stream",
     "text": [
      "vertical axis :  [2 2 0 1]\n",
      "horizontal axis :  [1 3 1]\n"
     ]
    }
   ],
   "source": [
    "print(\"vertical axis : \",np.sum(np.less(x,3),axis=0),end=\"\\n\")\n",
    "print(\"horizontal axis : \",np.sum(np.less(x,3),axis=1))\n",
    "    "
   ]
  },
  {
   "cell_type": "markdown",
   "id": "fec738c4",
   "metadata": {},
   "source": [
    "np.any() to find if any value satisfies the condition \\\n",
    "np.all() to find if all value satisfies the condition\n",
    "They can be used in particular axis aswell."
   ]
  },
  {
   "cell_type": "code",
   "execution_count": 83,
   "id": "4e02bb7e",
   "metadata": {},
   "outputs": [
    {
     "name": "stdout",
     "output_type": "stream",
     "text": [
      "False\n",
      "False\n",
      "[ True  True False  True]\n",
      "[ True  True  True]\n"
     ]
    }
   ],
   "source": [
    "print(np.any(x>12))\n",
    "print(np.all(x<0))\n",
    "print(np.any(x<3,axis=0))\n",
    "print(np.any(x<3,axis=1))"
   ]
  },
  {
   "cell_type": "code",
   "execution_count": 84,
   "id": "64b32dcb",
   "metadata": {},
   "outputs": [
    {
     "ename": "AttributeError",
     "evalue": "'numpy.ndarray' object has no attribute 'shapepe'",
     "output_type": "error",
     "traceback": [
      "\u001b[1;31m---------------------------------------------------------------------------\u001b[0m",
      "\u001b[1;31mAttributeError\u001b[0m                            Traceback (most recent call last)",
      "\u001b[1;32m<ipython-input-84-13fe4ffe970e>\u001b[0m in \u001b[0;36m<module>\u001b[1;34m\u001b[0m\n\u001b[0;32m      2\u001b[0m \u001b[0mrainfall\u001b[0m\u001b[1;33m.\u001b[0m\u001b[0mshape\u001b[0m\u001b[1;33m\u001b[0m\u001b[1;33m\u001b[0m\u001b[0m\n\u001b[0;32m      3\u001b[0m \u001b[0minches\u001b[0m \u001b[1;33m=\u001b[0m \u001b[0mrainfall\u001b[0m \u001b[1;33m/\u001b[0m \u001b[1;36m254\u001b[0m \u001b[1;31m#1/10mm -> inches\u001b[0m\u001b[1;33m\u001b[0m\u001b[1;33m\u001b[0m\u001b[0m\n\u001b[1;32m----> 4\u001b[1;33m \u001b[0minches\u001b[0m\u001b[1;33m.\u001b[0m\u001b[0mshapepe\u001b[0m\u001b[1;33m\u001b[0m\u001b[1;33m\u001b[0m\u001b[0m\n\u001b[0m",
      "\u001b[1;31mAttributeError\u001b[0m: 'numpy.ndarray' object has no attribute 'shapepe'"
     ]
    }
   ],
   "source": [
    "rainfall = pd.read_csv(\"sample dataset/Seattle2014.csv\")['PRCP'].values\n",
    "rainfall.shape\n",
    "inches = rainfall / 254 #1/10mm -> inches\n",
    "inches.shapepe"
   ]
  },
  {
   "cell_type": "code",
   "execution_count": null,
   "id": "d5604ad4",
   "metadata": {},
   "outputs": [],
   "source": [
    "plt.hist(inches,40)"
   ]
  },
  {
   "cell_type": "code",
   "execution_count": null,
   "id": "938e0e06",
   "metadata": {},
   "outputs": [],
   "source": [
    "print(\"No of days without rain : \",np.sum(inches == 0))\n",
    "print(\"No of days with rain : \",np.sum(inches > 0))\n",
    "print(\"No of days with rain more than 0.5 inch : \",np.sum(inches > 0.5))\n",
    "print(\"No of days with rainfall more than 0.5 inch and less than 1 inch : \",np.sum((inches>0.5)&(inches<1.0)))"
   ]
  },
  {
   "cell_type": "code",
   "execution_count": null,
   "id": "dfd8aadd",
   "metadata": {},
   "outputs": [],
   "source": []
  }
 ],
 "metadata": {
  "kernelspec": {
   "display_name": "Python 3",
   "language": "python",
   "name": "python3"
  },
  "language_info": {
   "codemirror_mode": {
    "name": "ipython",
    "version": 3
   },
   "file_extension": ".py",
   "mimetype": "text/x-python",
   "name": "python",
   "nbconvert_exporter": "python",
   "pygments_lexer": "ipython3",
   "version": "3.8.8"
  }
 },
 "nbformat": 4,
 "nbformat_minor": 5
}
