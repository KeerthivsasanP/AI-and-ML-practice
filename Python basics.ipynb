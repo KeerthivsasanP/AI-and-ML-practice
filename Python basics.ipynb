{
 "cells": [
  {
   "cell_type": "markdown",
   "id": "dec2c033",
   "metadata": {},
   "source": [
    "# Python basics"
   ]
  },
  {
   "cell_type": "markdown",
   "id": "71638362",
   "metadata": {},
   "source": [
    "## String formatting\n",
    "Strings are immutable. That is \\\n",
    "a = 'hello world'\\\n",
    "a[0]='H'\\\n",
    "throws an error"
   ]
  },
  {
   "cell_type": "markdown",
   "id": "370ff4d9",
   "metadata": {},
   "source": [
    "3 types of string formatting\n",
    "1. %s\n",
    "2.{}.format\n",
    "3.f "
   ]
  },
  {
   "cell_type": "code",
   "execution_count": 1,
   "id": "881c281a",
   "metadata": {},
   "outputs": [
    {
     "name": "stdout",
     "output_type": "stream",
     "text": [
      "Hello python\n",
      "Hello python and java\n"
     ]
    }
   ],
   "source": [
    "print(\"Hello %s\"%'python')\n",
    "print(\"Hello %s and %s\"%('python','java'))"
   ]
  },
  {
   "cell_type": "code",
   "execution_count": 2,
   "id": "7e4d6a3d",
   "metadata": {},
   "outputs": [
    {
     "name": "stdout",
     "output_type": "stream",
     "text": [
      "I love programming\n"
     ]
    }
   ],
   "source": [
    "print(\"I love {}\".format('programming'))"
   ]
  },
  {
   "cell_type": "code",
   "execution_count": 3,
   "id": "9e1ef7ba",
   "metadata": {},
   "outputs": [
    {
     "name": "stdout",
     "output_type": "stream",
     "text": [
      "I love python\n"
     ]
    }
   ],
   "source": [
    "a = 'python'\n",
    "print(f\"I love {a}\")"
   ]
  },
  {
   "cell_type": "code",
   "execution_count": 4,
   "id": "3c765631",
   "metadata": {},
   "outputs": [
    {
     "data": {
      "text/plain": [
       "6"
      ]
     },
     "execution_count": 4,
     "metadata": {},
     "output_type": "execute_result"
    }
   ],
   "source": [
    "len(a)"
   ]
  },
  {
   "cell_type": "markdown",
   "id": "87b0c7f6",
   "metadata": {},
   "source": [
    "# Lists\n",
    "Elements can be of different datatype\\\n",
    "indexing starts from 0\\\n",
    "mutable\n",
    "can have duplicates\\\n",
    "uses []"
   ]
  },
  {
   "cell_type": "code",
   "execution_count": 41,
   "id": "c4fd5840",
   "metadata": {},
   "outputs": [
    {
     "data": {
      "text/plain": [
       "[1, 2, 3, 'a', 'string', 1]"
      ]
     },
     "execution_count": 41,
     "metadata": {},
     "output_type": "execute_result"
    }
   ],
   "source": [
    "my_list=[1,2,3,'a','string',1]\n",
    "my_list"
   ]
  },
  {
   "cell_type": "code",
   "execution_count": 6,
   "id": "c9903b75",
   "metadata": {},
   "outputs": [
    {
     "data": {
      "text/plain": [
       "5"
      ]
     },
     "execution_count": 6,
     "metadata": {},
     "output_type": "execute_result"
    }
   ],
   "source": [
    "len(my_list)"
   ]
  },
  {
   "cell_type": "code",
   "execution_count": 7,
   "id": "96b45608",
   "metadata": {},
   "outputs": [
    {
     "data": {
      "text/plain": [
       "'a'"
      ]
     },
     "execution_count": 7,
     "metadata": {},
     "output_type": "execute_result"
    }
   ],
   "source": [
    "my_list[3]"
   ]
  },
  {
   "cell_type": "code",
   "execution_count": 8,
   "id": "af72820d",
   "metadata": {},
   "outputs": [
    {
     "data": {
      "text/plain": [
       "['a', 'string']"
      ]
     },
     "execution_count": 8,
     "metadata": {},
     "output_type": "execute_result"
    }
   ],
   "source": [
    "my_list[3:]"
   ]
  },
  {
   "cell_type": "markdown",
   "id": "1eb817c2",
   "metadata": {},
   "source": [
    "To concat a list. This value doesn't get saved to the list"
   ]
  },
  {
   "cell_type": "code",
   "execution_count": 9,
   "id": "c239d7f3",
   "metadata": {},
   "outputs": [
    {
     "data": {
      "text/plain": [
       "[1, 2, 3, 'a', 'string', 99]"
      ]
     },
     "execution_count": 9,
     "metadata": {},
     "output_type": "execute_result"
    }
   ],
   "source": [
    "my_list+[99]"
   ]
  },
  {
   "cell_type": "code",
   "execution_count": 10,
   "id": "aa9d605f",
   "metadata": {},
   "outputs": [
    {
     "data": {
      "text/plain": [
       "[1, 2, 3, 'a', 'string', 1, 2, 3, 'a', 'string']"
      ]
     },
     "execution_count": 10,
     "metadata": {},
     "output_type": "execute_result"
    }
   ],
   "source": [
    "my_list*2"
   ]
  },
  {
   "cell_type": "markdown",
   "id": "6c106c8c",
   "metadata": {},
   "source": [
    "To save the value to the list "
   ]
  },
  {
   "cell_type": "code",
   "execution_count": 11,
   "id": "9a555357",
   "metadata": {},
   "outputs": [
    {
     "data": {
      "text/plain": [
       "[1, 2, 3, 'a', 'string', '99']"
      ]
     },
     "execution_count": 11,
     "metadata": {},
     "output_type": "execute_result"
    }
   ],
   "source": [
    "my_list += ['99']\n",
    "my_list"
   ]
  },
  {
   "cell_type": "code",
   "execution_count": 12,
   "id": "7fd74526",
   "metadata": {},
   "outputs": [
    {
     "data": {
      "text/plain": [
       "[1, 2, 3, 'a', 'string', '99', 1, 2, 3, 'a', 'string', '99']"
      ]
     },
     "execution_count": 12,
     "metadata": {},
     "output_type": "execute_result"
    }
   ],
   "source": [
    "my_list*2"
   ]
  },
  {
   "cell_type": "markdown",
   "id": "009f7323",
   "metadata": {},
   "source": [
    "Or we can use the append()"
   ]
  },
  {
   "cell_type": "code",
   "execution_count": 13,
   "id": "00acb392",
   "metadata": {},
   "outputs": [
    {
     "data": {
      "text/plain": [
       "[1, 2, 3, 'a', 'string', '99', 'python']"
      ]
     },
     "execution_count": 13,
     "metadata": {},
     "output_type": "execute_result"
    }
   ],
   "source": [
    "my_list.append('python')\n",
    "my_list"
   ]
  },
  {
   "cell_type": "markdown",
   "id": "d686bf5c",
   "metadata": {},
   "source": [
    "To remove last element from list"
   ]
  },
  {
   "cell_type": "code",
   "execution_count": 14,
   "id": "67b08345",
   "metadata": {},
   "outputs": [
    {
     "data": {
      "text/plain": [
       "'python'"
      ]
     },
     "execution_count": 14,
     "metadata": {},
     "output_type": "execute_result"
    }
   ],
   "source": [
    "my_list.pop()"
   ]
  },
  {
   "cell_type": "code",
   "execution_count": 15,
   "id": "423c81fa",
   "metadata": {},
   "outputs": [
    {
     "data": {
      "text/plain": [
       "[1, 2, 3, 'a', 'string', '99']"
      ]
     },
     "execution_count": 15,
     "metadata": {},
     "output_type": "execute_result"
    }
   ],
   "source": [
    "my_list"
   ]
  },
  {
   "cell_type": "markdown",
   "id": "50508c31",
   "metadata": {},
   "source": [
    "sort() - can be used to sort the list is ascending order and list should have same datatype"
   ]
  },
  {
   "cell_type": "code",
   "execution_count": 16,
   "id": "fdf626ab",
   "metadata": {},
   "outputs": [
    {
     "data": {
      "text/plain": [
       "[1, 2, 3, 5, 9]"
      ]
     },
     "execution_count": 16,
     "metadata": {},
     "output_type": "execute_result"
    }
   ],
   "source": [
    "b = [1,3,2,9,5]\n",
    "b.sort()\n",
    "b"
   ]
  },
  {
   "cell_type": "markdown",
   "id": "81c9088c",
   "metadata": {},
   "source": [
    "To reverse the list"
   ]
  },
  {
   "cell_type": "code",
   "execution_count": 17,
   "id": "74be993c",
   "metadata": {},
   "outputs": [
    {
     "data": {
      "text/plain": [
       "[9, 5, 3, 2, 1]"
      ]
     },
     "execution_count": 17,
     "metadata": {},
     "output_type": "execute_result"
    }
   ],
   "source": [
    "b.reverse()\n",
    "b\n"
   ]
  },
  {
   "cell_type": "markdown",
   "id": "d069ec27",
   "metadata": {},
   "source": [
    "Nested list - like a matrix"
   ]
  },
  {
   "cell_type": "code",
   "execution_count": 39,
   "id": "2c6753f4",
   "metadata": {},
   "outputs": [
    {
     "data": {
      "text/plain": [
       "[[1, 2, 3], [4, 5, 6], [7, 8, 10]]"
      ]
     },
     "execution_count": 39,
     "metadata": {},
     "output_type": "execute_result"
    }
   ],
   "source": [
    "a=[1,2,3]\n",
    "b=[4,5,6]\n",
    "c=[7,8,10]\n",
    "matrix = [a,b,c]\n",
    "matrix"
   ]
  },
  {
   "cell_type": "markdown",
   "id": "a1a49558",
   "metadata": {},
   "source": [
    "index() - To find the index of an element\\\n",
    "if 5 is in b and b is in matrix. Trying to print the index of b would work but not the index of 5"
   ]
  },
  {
   "cell_type": "code",
   "execution_count": 40,
   "id": "32c8e01e",
   "metadata": {},
   "outputs": [
    {
     "name": "stdout",
     "output_type": "stream",
     "text": [
      "1\n",
      "1\n"
     ]
    }
   ],
   "source": [
    "print(matrix.index(b))\n",
    "matrix = [[1,2],[3,4]]\n",
    "print(matrix.index([3,4]))"
   ]
  },
  {
   "cell_type": "code",
   "execution_count": 45,
   "id": "d2931d68",
   "metadata": {},
   "outputs": [
    {
     "name": "stdout",
     "output_type": "stream",
     "text": [
      "1\n",
      "0\n"
     ]
    }
   ],
   "source": [
    "print(matrix.count([1,2]))\n",
    "print(matrix.count(1))"
   ]
  },
  {
   "cell_type": "markdown",
   "id": "0be583d5",
   "metadata": {},
   "source": [
    "# Tuples\n",
    "Similar to list but immutable\\\n",
    "can have duplicates\\\n",
    "tuples uses ( )"
   ]
  },
  {
   "cell_type": "code",
   "execution_count": 42,
   "id": "fc979e13",
   "metadata": {},
   "outputs": [
    {
     "data": {
      "text/plain": [
       "(1, 4, 5, 5, 6)"
      ]
     },
     "execution_count": 42,
     "metadata": {},
     "output_type": "execute_result"
    }
   ],
   "source": [
    "t=(1,4,5,5,6)\n",
    "t"
   ]
  },
  {
   "cell_type": "code",
   "execution_count": 20,
   "id": "04c37568",
   "metadata": {},
   "outputs": [
    {
     "data": {
      "text/plain": [
       "(1, 'a', 'python')"
      ]
     },
     "execution_count": 20,
     "metadata": {},
     "output_type": "execute_result"
    }
   ],
   "source": [
    "t=(1,'a','python')\n",
    "t"
   ]
  },
  {
   "cell_type": "code",
   "execution_count": 22,
   "id": "08c40cfd",
   "metadata": {},
   "outputs": [
    {
     "data": {
      "text/plain": [
       "0"
      ]
     },
     "execution_count": 22,
     "metadata": {},
     "output_type": "execute_result"
    }
   ],
   "source": [
    "a.index(1)"
   ]
  },
  {
   "cell_type": "code",
   "execution_count": 43,
   "id": "1ee2eabe",
   "metadata": {},
   "outputs": [
    {
     "data": {
      "text/plain": [
       "2"
      ]
     },
     "execution_count": 43,
     "metadata": {},
     "output_type": "execute_result"
    }
   ],
   "source": [
    "t.count(5)"
   ]
  },
  {
   "cell_type": "markdown",
   "id": "8a8e4ba3",
   "metadata": {},
   "source": [
    "# Dictionaries\n",
    "similar to hash table - works on key value pairs\\\n",
    "uses { }\\\n",
    "can use any datatype"
   ]
  },
  {
   "cell_type": "code",
   "execution_count": 49,
   "id": "9fdbdcb9",
   "metadata": {},
   "outputs": [
    {
     "data": {
      "text/plain": [
       "{1: 'hello', '2': 'world'}"
      ]
     },
     "execution_count": 49,
     "metadata": {},
     "output_type": "execute_result"
    }
   ],
   "source": [
    "dict = {1:\"hello\",'2':\"world\"}\n",
    "dict"
   ]
  },
  {
   "cell_type": "code",
   "execution_count": 52,
   "id": "87b7f7c6",
   "metadata": {},
   "outputs": [
    {
     "name": "stdout",
     "output_type": "stream",
     "text": [
      "world\n",
      "hello\n"
     ]
    }
   ],
   "source": [
    "print(dict['2'])\n",
    "print(dict[1])"
   ]
  },
  {
   "cell_type": "code",
   "execution_count": 59,
   "id": "d91bbded",
   "metadata": {},
   "outputs": [
    {
     "name": "stdout",
     "output_type": "stream",
     "text": [
      "b\n"
     ]
    }
   ],
   "source": [
    "dict={'k1':\"abcd\",'k2':\"asdf\"}\n",
    "print(dict['k1'][1])"
   ]
  },
  {
   "cell_type": "code",
   "execution_count": 61,
   "id": "4d86265b",
   "metadata": {},
   "outputs": [
    {
     "data": {
      "text/plain": [
       "3"
      ]
     },
     "execution_count": 61,
     "metadata": {},
     "output_type": "execute_result"
    }
   ],
   "source": [
    "dict2 = {1:5,2:6}\n",
    "dict2[2]-3"
   ]
  },
  {
   "cell_type": "code",
   "execution_count": 63,
   "id": "9c1a0068",
   "metadata": {},
   "outputs": [
    {
     "data": {
      "text/plain": [
       "{'k1': 'keerthi', 'k2': 'vasan'}"
      ]
     },
     "execution_count": 63,
     "metadata": {},
     "output_type": "execute_result"
    }
   ],
   "source": [
    "d={}\n",
    "d['k1']='keerthi'\n",
    "d['k2']='vasan'\n",
    "d"
   ]
  },
  {
   "cell_type": "code",
   "execution_count": 73,
   "id": "1961affd",
   "metadata": {},
   "outputs": [
    {
     "data": {
      "text/plain": [
       "dict_keys(['k1', 'k2'])"
      ]
     },
     "execution_count": 73,
     "metadata": {},
     "output_type": "execute_result"
    }
   ],
   "source": [
    "dict.keys()"
   ]
  },
  {
   "cell_type": "code",
   "execution_count": 71,
   "id": "6dff03ad",
   "metadata": {},
   "outputs": [
    {
     "data": {
      "text/plain": [
       "dict_values(['abcd', 'asdf'])"
      ]
     },
     "execution_count": 71,
     "metadata": {},
     "output_type": "execute_result"
    }
   ],
   "source": [
    "dict.values()"
   ]
  },
  {
   "cell_type": "markdown",
   "id": "620253c3",
   "metadata": {},
   "source": [
    "# Sets\n",
    "unordered collection of unique element"
   ]
  },
  {
   "cell_type": "code",
   "execution_count": 75,
   "id": "4d3ce4ab",
   "metadata": {},
   "outputs": [
    {
     "name": "stdout",
     "output_type": "stream",
     "text": [
      "<class 'tuple'>\n",
      "<class 'set'>\n"
     ]
    }
   ],
   "source": [
    "x=(1,2)\n",
    "print(type(x))\n",
    "x=set()\n",
    "x.add(5)\n",
    "x.add(7)\n",
    "print(type(x))"
   ]
  },
  {
   "cell_type": "markdown",
   "id": "eef39fd5",
   "metadata": {},
   "source": [
    "Removes the duplicates"
   ]
  },
  {
   "cell_type": "code",
   "execution_count": 80,
   "id": "2431344a",
   "metadata": {},
   "outputs": [
    {
     "name": "stdout",
     "output_type": "stream",
     "text": [
      "{1, 3, 5, 6}\n",
      "[1, 3, 5, 5, 5, 6]\n"
     ]
    },
    {
     "data": {
      "text/plain": [
       "4"
      ]
     },
     "execution_count": 80,
     "metadata": {},
     "output_type": "execute_result"
    }
   ],
   "source": [
    "list = [1,3,5,5,5,6]\n",
    "print(set(list))\n",
    "print(list)\n",
    "len(set(list))"
   ]
  },
  {
   "cell_type": "markdown",
   "id": "d2abf92f",
   "metadata": {},
   "source": [
    "# None(Placeholder)"
   ]
  },
  {
   "cell_type": "code",
   "execution_count": 81,
   "id": "ef50e299",
   "metadata": {},
   "outputs": [
    {
     "name": "stdout",
     "output_type": "stream",
     "text": [
      "None\n"
     ]
    }
   ],
   "source": [
    "b=None\n",
    "print(b)"
   ]
  },
  {
   "cell_type": "code",
   "execution_count": 82,
   "id": "7c8c4d9a",
   "metadata": {},
   "outputs": [],
   "source": [
    "b"
   ]
  },
  {
   "cell_type": "markdown",
   "id": "f53305b9",
   "metadata": {},
   "source": [
    "# Conditional Statement\n",
    "1.if\\\n",
    "2.else\\\n",
    "3.elif\\\n",
    "Every conditional statements and loops ends with :"
   ]
  },
  {
   "cell_type": "code",
   "execution_count": 2,
   "id": "f1faafa2",
   "metadata": {},
   "outputs": [
    {
     "name": "stdout",
     "output_type": "stream",
     "text": [
      "no\n"
     ]
    }
   ],
   "source": [
    "if (5<3):\n",
    "    print(\"yes\")\n",
    "else:\n",
    "    print(\"no\")"
   ]
  },
  {
   "cell_type": "code",
   "execution_count": 5,
   "id": "c9282bf1",
   "metadata": {},
   "outputs": [
    {
     "name": "stdout",
     "output_type": "stream",
     "text": [
      "a=1\n"
     ]
    }
   ],
   "source": [
    "a=1\n",
    "b=2\n",
    "c=3\n",
    "if(a == 5):\n",
    "    print(\"a=5\")\n",
    "elif (a == 1):\n",
    "    print (\"a=1\")\n",
    "else:\n",
    "    print(\"a is \",a)"
   ]
  },
  {
   "cell_type": "markdown",
   "id": "34d979c4",
   "metadata": {},
   "source": [
    "# For loop"
   ]
  },
  {
   "cell_type": "code",
   "execution_count": 10,
   "id": "555e29ed",
   "metadata": {},
   "outputs": [
    {
     "name": "stdout",
     "output_type": "stream",
     "text": [
      "0\n",
      "1\n",
      "2\n",
      "3\n",
      "4\n",
      "5\n",
      "6\n",
      "7\n",
      "8\n",
      "9\n"
     ]
    }
   ],
   "source": [
    "a=[1,2,3,4,5,6,7,8,9,10]\n",
    "for i in a:\n",
    "    print(a.index(i))"
   ]
  },
  {
   "cell_type": "code",
   "execution_count": 11,
   "id": "7a85d575",
   "metadata": {},
   "outputs": [
    {
     "data": {
      "text/plain": [
       "[0, 1, 2, 3, 4, 5, 6, 7, 8, 9]"
      ]
     },
     "execution_count": 11,
     "metadata": {},
     "output_type": "execute_result"
    }
   ],
   "source": [
    "l=[]\n",
    "for i in range(10):\n",
    "    l.append(i)\n",
    "l"
   ]
  },
  {
   "cell_type": "code",
   "execution_count": 13,
   "id": "4ddea1c7",
   "metadata": {},
   "outputs": [
    {
     "name": "stdout",
     "output_type": "stream",
     "text": [
      "even\n",
      "odd\n",
      "even\n",
      "odd\n",
      "even\n",
      "odd\n",
      "even\n",
      "odd\n",
      "even\n",
      "odd\n"
     ]
    }
   ],
   "source": [
    "for i in l:\n",
    "    if(i%2 == 0):\n",
    "        print(\"even\")\n",
    "    else:\n",
    "        print(\"odd\")"
   ]
  },
  {
   "cell_type": "markdown",
   "id": "faf42548",
   "metadata": {},
   "source": [
    "# While loop"
   ]
  },
  {
   "cell_type": "code",
   "execution_count": 16,
   "id": "e15ca1c2",
   "metadata": {},
   "outputs": [
    {
     "name": "stdout",
     "output_type": "stream",
     "text": [
      "x =  0\n",
      "x =  1\n",
      "x =  2\n",
      "x =  3\n",
      "x =  4\n"
     ]
    }
   ],
   "source": [
    "x=0\n",
    "while (x<5):\n",
    "    print(\"x = \",x)\n",
    "    x += 1"
   ]
  },
  {
   "cell_type": "markdown",
   "id": "890174af",
   "metadata": {},
   "source": [
    "# Functions\n",
    "Python function can return more than one value"
   ]
  },
  {
   "cell_type": "code",
   "execution_count": 25,
   "id": "6defe58d",
   "metadata": {},
   "outputs": [],
   "source": [
    "def say_hello(name1,name2):\n",
    "    return \"hello \"+name1, \"hello \"+name2"
   ]
  },
  {
   "cell_type": "code",
   "execution_count": 26,
   "id": "ced74513",
   "metadata": {},
   "outputs": [
    {
     "data": {
      "text/plain": [
       "('hello vasan', 'hello keerthi')"
      ]
     },
     "execution_count": 26,
     "metadata": {},
     "output_type": "execute_result"
    }
   ],
   "source": [
    "say_hello(\"vasan\",\"keerthi\")"
   ]
  },
  {
   "cell_type": "markdown",
   "id": "ddd97261",
   "metadata": {},
   "source": [
    "# Decorators\n",
    "Assigning a function to a variable and this variable name can be used instead of the function name with same parameters to call the same function"
   ]
  },
  {
   "cell_type": "code",
   "execution_count": 27,
   "id": "ce2d6e30",
   "metadata": {},
   "outputs": [],
   "source": [
    "greet = say_hello"
   ]
  },
  {
   "cell_type": "code",
   "execution_count": 28,
   "id": "3b719413",
   "metadata": {},
   "outputs": [
    {
     "data": {
      "text/plain": [
       "<function __main__.say_hello(name1, name2)>"
      ]
     },
     "execution_count": 28,
     "metadata": {},
     "output_type": "execute_result"
    }
   ],
   "source": [
    "greet"
   ]
  },
  {
   "cell_type": "code",
   "execution_count": 30,
   "id": "4b25576d",
   "metadata": {},
   "outputs": [
    {
     "data": {
      "text/plain": [
       "('hello ram', 'hello sita')"
      ]
     },
     "execution_count": 30,
     "metadata": {},
     "output_type": "execute_result"
    }
   ],
   "source": [
    "greet(\"ram\",\"sita\")"
   ]
  },
  {
   "cell_type": "markdown",
   "id": "5eb5d44d",
   "metadata": {},
   "source": [
    "# Lambda\n",
    "A small anonymous(without name) function which can take any number of arguments but can have only one expression\\\n",
    "lambda arguments : expression"
   ]
  },
  {
   "cell_type": "code",
   "execution_count": 31,
   "id": "06da3b2d",
   "metadata": {},
   "outputs": [
    {
     "data": {
      "text/plain": [
       "15"
      ]
     },
     "execution_count": 31,
     "metadata": {},
     "output_type": "execute_result"
    }
   ],
   "source": [
    "x= lambda a: a+10\n",
    "x(5)"
   ]
  },
  {
   "cell_type": "code",
   "execution_count": 32,
   "id": "0202418c",
   "metadata": {},
   "outputs": [
    {
     "data": {
      "text/plain": [
       "30"
      ]
     },
     "execution_count": 32,
     "metadata": {},
     "output_type": "execute_result"
    }
   ],
   "source": [
    "x= lambda a,b: a*b\n",
    "x(5,6)"
   ]
  },
  {
   "cell_type": "code",
   "execution_count": 42,
   "id": "6375b1eb",
   "metadata": {},
   "outputs": [
    {
     "name": "stdout",
     "output_type": "stream",
     "text": [
      "20\n"
     ]
    }
   ],
   "source": [
    "def multiplier(n):\n",
    "    return lambda a:a*n\n",
    "doubler = multiplier(2)\n",
    "tripler = multiplier(3)\n",
    "print(doubler(10))\n",
    "print(tripler(1))"
   ]
  },
  {
   "cell_type": "code",
   "execution_count": null,
   "id": "b1222dff",
   "metadata": {},
   "outputs": [],
   "source": []
  }
 ],
 "metadata": {
  "kernelspec": {
   "display_name": "Python 3",
   "language": "python",
   "name": "python3"
  },
  "language_info": {
   "codemirror_mode": {
    "name": "ipython",
    "version": 3
   },
   "file_extension": ".py",
   "mimetype": "text/x-python",
   "name": "python",
   "nbconvert_exporter": "python",
   "pygments_lexer": "ipython3",
   "version": "3.8.8"
  }
 },
 "nbformat": 4,
 "nbformat_minor": 5
}
