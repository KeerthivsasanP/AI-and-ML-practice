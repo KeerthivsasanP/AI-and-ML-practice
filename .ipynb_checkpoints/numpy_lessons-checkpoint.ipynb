{
 "cells": [
  {
   "cell_type": "markdown",
   "id": "e027a03e",
   "metadata": {
    "colab_type": "text",
    "id": "view-in-github"
   },
   "source": [
    "<a href=\"https://colab.research.google.com/github/KeerthivsasanP/Jupyter-notebook/blob/main/numpy_lessons.ipynb\" target=\"_parent\"><img src=\"https://colab.research.google.com/assets/colab-badge.svg\" alt=\"Open In Colab\"/></a>"
   ]
  },
  {
   "cell_type": "markdown",
   "id": "4c2bc7d6",
   "metadata": {
    "id": "4c2bc7d6"
   },
   "source": [
    "# Numpy\n",
    "To handle large array of data. It is of list datatype in python. But the values in a list can vary in datatype in python but the values in the list should be same for numpy. If not it would try to upcast or throw error.\n",
    "\n",
    "To import and check the version of the numpy"
   ]
  },
  {
   "cell_type": "code",
   "execution_count": 1,
   "id": "aeba30d8",
   "metadata": {
    "id": "aeba30d8"
   },
   "outputs": [],
   "source": [
    "import numpy as np\n",
    "import pandas as pd\n",
    "import matplotlib.pyplot as plt"
   ]
  },
  {
   "cell_type": "code",
   "execution_count": 2,
   "id": "cce0eb45",
   "metadata": {
    "colab": {
     "base_uri": "https://localhost:8080/",
     "height": 36
    },
    "id": "cce0eb45",
    "outputId": "63488527-a4f0-4c72-e789-e354b114e394"
   },
   "outputs": [
    {
     "data": {
      "text/plain": [
       "'1.20.1'"
      ]
     },
     "execution_count": 2,
     "metadata": {},
     "output_type": "execute_result"
    }
   ],
   "source": [
    "np.__version__"
   ]
  },
  {
   "cell_type": "code",
   "execution_count": 3,
   "id": "f0005561",
   "metadata": {
    "colab": {
     "base_uri": "https://localhost:8080/",
     "height": 36
    },
    "id": "f0005561",
    "outputId": "0d286399-9fe1-4fa3-ba2c-5a98492aea82"
   },
   "outputs": [
    {
     "data": {
      "text/plain": [
       "'1.2.4'"
      ]
     },
     "execution_count": 3,
     "metadata": {},
     "output_type": "execute_result"
    }
   ],
   "source": [
    "pd.__version__"
   ]
  },
  {
   "cell_type": "markdown",
   "id": "a71a36b6",
   "metadata": {
    "id": "a71a36b6"
   },
   "source": [
    "To get the documentation of the imported module"
   ]
  },
  {
   "cell_type": "code",
   "execution_count": 4,
   "id": "570ef608",
   "metadata": {
    "id": "570ef608"
   },
   "outputs": [],
   "source": [
    "np?"
   ]
  },
  {
   "cell_type": "code",
   "execution_count": 5,
   "id": "5ab0bd3e",
   "metadata": {
    "colab": {
     "base_uri": "https://localhost:8080/"
    },
    "id": "5ab0bd3e",
    "outputId": "fe6e7104-6a7f-4dbb-a50f-1cede8d535af",
    "scrolled": true
   },
   "outputs": [
    {
     "data": {
      "text/plain": [
       "[0, 1, 2, 3, 4]"
      ]
     },
     "execution_count": 5,
     "metadata": {},
     "output_type": "execute_result"
    }
   ],
   "source": [
    "L1=[]\n",
    "for i in range(5):\n",
    "    L1.append(i)\n",
    "L1"
   ]
  },
  {
   "cell_type": "markdown",
   "id": "a78bb9bb",
   "metadata": {
    "id": "a78bb9bb"
   },
   "source": [
    "It tries to upcast the interger to float if possible"
   ]
  },
  {
   "cell_type": "code",
   "execution_count": 6,
   "id": "2b72d8ed",
   "metadata": {
    "colab": {
     "base_uri": "https://localhost:8080/"
    },
    "id": "2b72d8ed",
    "outputId": "22b4171f-a8b7-4e54-badd-a8a700b19888"
   },
   "outputs": [
    {
     "data": {
      "text/plain": [
       "array([1., 2., 3., 4.])"
      ]
     },
     "execution_count": 6,
     "metadata": {},
     "output_type": "execute_result"
    }
   ],
   "source": [
    "L2=[1.0,2,3,4]\n",
    "np.array(L2)"
   ]
  },
  {
   "cell_type": "markdown",
   "id": "399af03a",
   "metadata": {
    "id": "399af03a"
   },
   "source": [
    "To specify the datatype explicitly in numpy"
   ]
  },
  {
   "cell_type": "code",
   "execution_count": 7,
   "id": "b391f129",
   "metadata": {
    "colab": {
     "base_uri": "https://localhost:8080/"
    },
    "id": "b391f129",
    "outputId": "cdb668f9-7602-4124-e6c5-150391ee86ad"
   },
   "outputs": [
    {
     "data": {
      "text/plain": [
       "array([1., 2., 3., 4., 5.], dtype=float32)"
      ]
     },
     "execution_count": 7,
     "metadata": {},
     "output_type": "execute_result"
    }
   ],
   "source": [
    "np.array([1,2,3,4,5],dtype=\"float32\")"
   ]
  },
  {
   "cell_type": "markdown",
   "id": "520acb15",
   "metadata": {
    "id": "520acb15"
   },
   "source": [
    "Multidimensional array"
   ]
  },
  {
   "cell_type": "code",
   "execution_count": 8,
   "id": "631de9a0",
   "metadata": {
    "colab": {
     "base_uri": "https://localhost:8080/"
    },
    "id": "631de9a0",
    "outputId": "71a931e1-f67e-414c-d39b-3e9da3d33a82"
   },
   "outputs": [
    {
     "data": {
      "text/plain": [
       "array([[2, 3, 4],\n",
       "       [4, 5, 6],\n",
       "       [6, 7, 8]])"
      ]
     },
     "execution_count": 8,
     "metadata": {},
     "output_type": "execute_result"
    }
   ],
   "source": [
    "np.array([range(i,i+3) for i in[2,4,6]])"
   ]
  },
  {
   "cell_type": "markdown",
   "id": "6a3c14c9",
   "metadata": {
    "id": "6a3c14c9"
   },
   "source": [
    "Creating empty array with builtin functions using numpy"
   ]
  },
  {
   "cell_type": "code",
   "execution_count": 9,
   "id": "bed23438",
   "metadata": {
    "colab": {
     "base_uri": "https://localhost:8080/"
    },
    "id": "bed23438",
    "outputId": "d1fda563-51b5-4424-b23b-3aabe86400d7"
   },
   "outputs": [
    {
     "data": {
      "text/plain": [
       "array([0, 0, 0, 0, 0, 0, 0, 0, 0, 0])"
      ]
     },
     "execution_count": 9,
     "metadata": {},
     "output_type": "execute_result"
    }
   ],
   "source": [
    "#array filled with 0\n",
    "np.zeros(10, dtype=int)"
   ]
  },
  {
   "cell_type": "code",
   "execution_count": 10,
   "id": "bff6ca46",
   "metadata": {
    "colab": {
     "base_uri": "https://localhost:8080/"
    },
    "id": "bff6ca46",
    "outputId": "99d7d1fe-5b5c-44c3-a54b-18d60ba8dadf"
   },
   "outputs": [
    {
     "data": {
      "text/plain": [
       "array([1., 1., 1., 1., 1.], dtype=float32)"
      ]
     },
     "execution_count": 10,
     "metadata": {},
     "output_type": "execute_result"
    }
   ],
   "source": [
    "#all filled with 1\n",
    "np.ones(5, dtype=\"float32\")"
   ]
  },
  {
   "cell_type": "code",
   "execution_count": 11,
   "id": "e088917d",
   "metadata": {
    "colab": {
     "base_uri": "https://localhost:8080/"
    },
    "id": "e088917d",
    "outputId": "9c9c00bf-d6af-42cc-cdb6-f5b2b0ff6311"
   },
   "outputs": [
    {
     "data": {
      "text/plain": [
       "array([[3.14, 3.14, 3.14, 3.14, 3.14],\n",
       "       [3.14, 3.14, 3.14, 3.14, 3.14],\n",
       "       [3.14, 3.14, 3.14, 3.14, 3.14]])"
      ]
     },
     "execution_count": 11,
     "metadata": {},
     "output_type": "execute_result"
    }
   ],
   "source": [
    "#fill multidimensional array with a particular number\n",
    "np.full((3,5),3.14)"
   ]
  },
  {
   "cell_type": "code",
   "execution_count": 12,
   "id": "7bb035e9",
   "metadata": {
    "colab": {
     "base_uri": "https://localhost:8080/"
    },
    "id": "7bb035e9",
    "outputId": "3cac1c7c-bf20-4425-ce2d-ba992e4052a5"
   },
   "outputs": [
    {
     "data": {
      "text/plain": [
       "array([[1., 0., 0., 0.],\n",
       "       [0., 1., 0., 0.],\n",
       "       [0., 0., 1., 0.],\n",
       "       [0., 0., 0., 1.]])"
      ]
     },
     "execution_count": 12,
     "metadata": {},
     "output_type": "execute_result"
    }
   ],
   "source": [
    "#identity matrix\n",
    "np.eye(4)"
   ]
  },
  {
   "cell_type": "code",
   "execution_count": 13,
   "id": "96942a13",
   "metadata": {
    "colab": {
     "base_uri": "https://localhost:8080/"
    },
    "id": "96942a13",
    "outputId": "fe26aa7f-4900-4d46-c7db-597cd45cdfdb"
   },
   "outputs": [
    {
     "name": "stdout",
     "output_type": "stream",
     "text": [
      "[3 5 7 9]\n",
      "[ 0  2  4  6  8 10 12 14 16 18]\n"
     ]
    }
   ],
   "source": [
    "#array with equal intervel\n",
    "arr=np.arange(3,10,2)\n",
    "print(arr)\n",
    "arr1=np.arange(0,20,2)\n",
    "print(arr1)"
   ]
  },
  {
   "cell_type": "code",
   "execution_count": 14,
   "id": "8ea79680",
   "metadata": {
    "colab": {
     "base_uri": "https://localhost:8080/"
    },
    "id": "8ea79680",
    "outputId": "7ea7255f-2854-4b1d-ea63-ef8048313383"
   },
   "outputs": [
    {
     "data": {
      "text/plain": [
       "array([0.  , 0.25, 0.5 , 0.75, 1.  ], dtype=float32)"
      ]
     },
     "execution_count": 14,
     "metadata": {},
     "output_type": "execute_result"
    }
   ],
   "source": [
    "#split two numbers into given times\n",
    "np.linspace(0,1,5,dtype='float32')\n",
    "# or use np.<datatype object> eg. np.linspace(0,1,5,dtype=np.int16)"
   ]
  },
  {
   "cell_type": "code",
   "execution_count": 15,
   "id": "6b2cc8b0",
   "metadata": {
    "colab": {
     "base_uri": "https://localhost:8080/"
    },
    "id": "6b2cc8b0",
    "outputId": "167371e4-e5f9-4e96-e36d-35b747ef3766"
   },
   "outputs": [
    {
     "data": {
      "text/plain": [
       "array([[0.34009545, 0.79418933, 0.00627764],\n",
       "       [0.24609512, 0.20648432, 0.98663971],\n",
       "       [0.56880085, 0.24040201, 0.9118045 ]])"
      ]
     },
     "execution_count": 15,
     "metadata": {},
     "output_type": "execute_result"
    }
   ],
   "source": [
    "#creates a 3x3 uniformly distributed matrix between 0 to 1.\n",
    "#study for uniform matrix\n",
    "np.random.random((3,3))"
   ]
  },
  {
   "cell_type": "code",
   "execution_count": 16,
   "id": "c59626cd",
   "metadata": {
    "colab": {
     "base_uri": "https://localhost:8080/"
    },
    "id": "c59626cd",
    "outputId": "46964f78-d5f7-4c8c-8443-183f5750f2b5"
   },
   "outputs": [
    {
     "data": {
      "text/plain": [
       "array([[-1.57498135,  3.05188276,  7.60322155],\n",
       "       [ 1.93174593, 11.86311613,  1.54725283],\n",
       "       [12.49646348, -2.30658252, 14.56605909]])"
      ]
     },
     "execution_count": 16,
     "metadata": {},
     "output_type": "execute_result"
    }
   ],
   "source": [
    "#create a 3x3 matrix with mean as 4 and standard deviation as 5\n",
    "np.random.normal(4,5,(3,3))"
   ]
  },
  {
   "cell_type": "code",
   "execution_count": 17,
   "id": "1e0133d8",
   "metadata": {
    "colab": {
     "base_uri": "https://localhost:8080/"
    },
    "id": "1e0133d8",
    "outputId": "231dea95-8d72-482d-d890-7f6fc5bc3421"
   },
   "outputs": [
    {
     "data": {
      "text/plain": [
       "array([[4, 4, 3],\n",
       "       [8, 5, 8],\n",
       "       [9, 8, 8]])"
      ]
     },
     "execution_count": 17,
     "metadata": {},
     "output_type": "execute_result"
    }
   ],
   "source": [
    "#print matrix with random numbers between 0 to 10\n",
    "np.random.randint(0,10,(3,3))"
   ]
  },
  {
   "cell_type": "code",
   "execution_count": 18,
   "id": "6f7fbb52",
   "metadata": {
    "colab": {
     "base_uri": "https://localhost:8080/"
    },
    "id": "6f7fbb52",
    "outputId": "24401db4-f64c-4489-9a8c-108b1ef7791b"
   },
   "outputs": [
    {
     "data": {
      "text/plain": [
       "array([3.05175852e-05, 7.81250184e-03])"
      ]
     },
     "execution_count": 18,
     "metadata": {},
     "output_type": "execute_result"
    }
   ],
   "source": [
    "#create an empty uninitialized array with 3 elements with value at the memory location\n",
    "np.empty(2)"
   ]
  },
  {
   "cell_type": "markdown",
   "id": "ad9c6d94",
   "metadata": {
    "id": "ad9c6d94"
   },
   "source": [
    "# Basics of Numpy array\n",
    "\n",
    "We will be using seed() to reproduce the values at any run. If we give a seed value and run the program any number of times, we would be getting the same random numbers generated. A seed can be number like 0,1,20 or string like 'hello','hi'. We use 0 as argument for seed()"
   ]
  },
  {
   "cell_type": "markdown",
   "id": "f8a8d01b",
   "metadata": {
    "id": "f8a8d01b"
   },
   "source": [
    "## Attributes of numpy array\n",
    "Every array has its dimensions, shape, size, memory and datatype."
   ]
  },
  {
   "cell_type": "code",
   "execution_count": 19,
   "id": "d9988a34",
   "metadata": {
    "colab": {
     "base_uri": "https://localhost:8080/"
    },
    "id": "d9988a34",
    "outputId": "84eac0e1-dceb-439d-bb1b-10aa934b1756"
   },
   "outputs": [
    {
     "name": "stdout",
     "output_type": "stream",
     "text": [
      "no of dimentions of x3 :  3\n",
      "shape of x3 :  (3, 4, 5)\n",
      "size of x3 :  60\n",
      "data type of x3 :  int32\n",
      "each item size of x3 :  4  bytes\n",
      "entire matrix size of x3 :  240 bytes\n"
     ]
    }
   ],
   "source": [
    "np.random.seed(0)\n",
    "x1 = np.random.randint(10,size=6)\n",
    "x2 = np.random.randint(10,size=(3,4))\n",
    "x3 = np.random.randint(10,size=(3,4,5))\n",
    "print(\"no of dimentions of x3 : \",x3.ndim)\n",
    "print(\"shape of x3 : \",x3.shape)\n",
    "print(\"size of x3 : \", x3.size)\n",
    "print(\"data type of x3 : \",x3.dtype)\n",
    "print(\"each item size of x3 : \",x3.itemsize,\" bytes\")\n",
    "print(\"entire matrix size of x3 : \",x3.nbytes,\"bytes\")"
   ]
  },
  {
   "cell_type": "markdown",
   "id": "d64e8d39",
   "metadata": {
    "id": "d64e8d39"
   },
   "source": [
    "## Array indexing"
   ]
  },
  {
   "cell_type": "code",
   "execution_count": 20,
   "id": "61051178",
   "metadata": {
    "colab": {
     "base_uri": "https://localhost:8080/"
    },
    "id": "61051178",
    "outputId": "0f928d72-7929-4779-e139-6d60c6d22542"
   },
   "outputs": [
    {
     "name": "stdout",
     "output_type": "stream",
     "text": [
      "array 1 :  [5 0 3 3 7 9]\n",
      "5\n",
      "0\n",
      "9\n",
      "0\n"
     ]
    }
   ],
   "source": [
    "print(\"array 1 : \",x1)\n",
    "print(x1[0])\n",
    "print(x1[1])\n",
    "print(x1[-1])\n",
    "print(x1[-5])"
   ]
  },
  {
   "cell_type": "code",
   "execution_count": 21,
   "id": "e7e7bacc",
   "metadata": {
    "colab": {
     "base_uri": "https://localhost:8080/"
    },
    "id": "e7e7bacc",
    "outputId": "6a336be5-df13-4549-bb85-ff8fe3d32545"
   },
   "outputs": [
    {
     "name": "stdout",
     "output_type": "stream",
     "text": [
      "x2 :  [[3 5 2 4]\n",
      " [7 6 8 8]\n",
      " [1 6 7 7]]\n",
      "printing 0th row of a 2d array :  [3 5 2 4]\n",
      "4\n",
      "6\n",
      "modified x2 :  [[9 5 2 4]\n",
      " [7 6 8 8]\n",
      " [1 6 7 7]]\n"
     ]
    }
   ],
   "source": [
    "print(\"x2 : \",x2)\n",
    "print(\"printing 0th row of a 2d array : \", x2[0])\n",
    "print(x2[0,3])\n",
    "print(x2[2,-3])\n",
    "# we can also modify the array using the index\n",
    "x2[0,0] = 9\n",
    "print(\"modified x2 : \",x2)"
   ]
  },
  {
   "cell_type": "markdown",
   "id": "e4f06529",
   "metadata": {
    "id": "e4f06529"
   },
   "source": [
    "Numpy arrays are of same datatype so if we try to add 3.14 in the beginning of the array it silently truncates as 3 !!!"
   ]
  },
  {
   "cell_type": "markdown",
   "id": "f94e2ba3",
   "metadata": {
    "id": "f94e2ba3"
   },
   "source": [
    "## Slicing an array\n",
    "slicing notation (:)\\\n",
    "x[start:stop:step]\\\n",
    "always the start must be lesser than the stop if not it gives [] as result"
   ]
  },
  {
   "cell_type": "code",
   "execution_count": 22,
   "id": "391a4352",
   "metadata": {
    "colab": {
     "base_uri": "https://localhost:8080/"
    },
    "id": "391a4352",
    "outputId": "a6887827-4652-4b32-fc4c-88e733f95330"
   },
   "outputs": [
    {
     "name": "stdout",
     "output_type": "stream",
     "text": [
      "[0 1 2 3 4 5 6 7 8 9]\n",
      "first 5 elements [0 1 2 3 4]\n",
      "5th index to last element [5 6 7 8 9]\n",
      "print 4th index to 6th index  [4 5 6]\n",
      "numbers in even indexed position  [0 2 4 6 8]\n",
      "numbers in odd indexed position  [1 3 5 7 9]\n",
      "print 3 alternate numbers from 2nd index  [2 5 8]\n"
     ]
    }
   ],
   "source": [
    "x1 = np.array(range(10))\n",
    "print(x1)\n",
    "print(\"first 5 elements\",x1[:5])\n",
    "print(\"5th index to last element\",x1[5:])\n",
    "print(\"print 4th index to 6th index \",x1[4:7])\n",
    "print(\"numbers in even indexed position \",x1[::2])\n",
    "print(\"numbers in odd indexed position \",x1[1::2])\n",
    "print(\"print 3 alternate numbers from 2nd index \",x1[2::3])"
   ]
  },
  {
   "cell_type": "markdown",
   "id": "94c54a13",
   "metadata": {
    "id": "94c54a13"
   },
   "source": [
    "Caution when the step value is negative then the start and stop are swapped"
   ]
  },
  {
   "cell_type": "code",
   "execution_count": 23,
   "id": "3ab28974",
   "metadata": {
    "colab": {
     "base_uri": "https://localhost:8080/"
    },
    "id": "3ab28974",
    "outputId": "e2b7e13d-2e86-4406-c087-d57085e5fce2"
   },
   "outputs": [
    {
     "name": "stdout",
     "output_type": "stream",
     "text": [
      "positive step :  [0 1 2 3 4 5 6 7 8 9]\n",
      "negative stpe :  [9 8 7 6 5 4 3 2 1 0]\n"
     ]
    }
   ],
   "source": [
    "print(\"positive step : \",x1[0:10:1])\n",
    "print(\"negative stpe : \",x1[::-1])"
   ]
  },
  {
   "cell_type": "markdown",
   "id": "34778934",
   "metadata": {
    "id": "34778934"
   },
   "source": [
    "Multidimensional array slicing\\\n",
    "Operation validation is done by row,col"
   ]
  },
  {
   "cell_type": "code",
   "execution_count": 24,
   "id": "1df2de64",
   "metadata": {
    "colab": {
     "base_uri": "https://localhost:8080/"
    },
    "id": "1df2de64",
    "outputId": "37f631ba-173f-49e6-b641-4708fc17764e"
   },
   "outputs": [
    {
     "name": "stdout",
     "output_type": "stream",
     "text": [
      "x2:\n",
      "[[5 0 3 3]\n",
      " [7 9 3 5]\n",
      " [2 4 7 6]]\n",
      "first 3 rows and 2 columns\n",
      "[[5 0]\n",
      " [7 9]\n",
      " [2 4]]\n",
      "print alternate rows\n",
      "[[5 0 3 3]\n",
      " [2 4 7 6]]\n",
      "alternate columns\n",
      "[[5 3]\n",
      " [7 3]\n",
      " [2 7]]\n"
     ]
    }
   ],
   "source": [
    "np.random.seed(0)\n",
    "x2 = np.random.randint(10,size=(3,4))\n",
    "print(\"x2:\",end='\\n')\n",
    "print(x2)\n",
    "print(\"first 3 rows and 2 columns\")\n",
    "print(x2[:3,:2])\n",
    "print(\"print alternate rows\")\n",
    "print(x2[::2,:])\n",
    "print(\"alternate columns\")\n",
    "print(x2[:,::2])"
   ]
  },
  {
   "cell_type": "code",
   "execution_count": 25,
   "id": "059dc61e",
   "metadata": {
    "colab": {
     "base_uri": "https://localhost:8080/"
    },
    "id": "059dc61e",
    "outputId": "7556dfcc-ef35-45cc-d893-468416ecf791"
   },
   "outputs": [
    {
     "name": "stdout",
     "output_type": "stream",
     "text": [
      "reverse the row values\n",
      "[[2 4 7 6]\n",
      " [7 9 3 5]\n",
      " [5 0 3 3]]\n",
      "reverse the col values\n",
      "[[3 3 0 5]\n",
      " [5 3 9 7]\n",
      " [6 7 4 2]]\n",
      "extracting 2nd col\n",
      "[0 9 4]\n"
     ]
    }
   ],
   "source": [
    "print(\"reverse the row values\")\n",
    "print(x2[::-1])\n",
    "print(\"reverse the col values\")\n",
    "print(x2[:,::-1])\n",
    "print(\"extracting 2nd col\")\n",
    "print(x2[:,1])"
   ]
  },
  {
   "cell_type": "markdown",
   "id": "96395ab0",
   "metadata": {
    "id": "96395ab0"
   },
   "source": [
    "## Sub-array as no-copy\n",
    "Working without a copy affects the original array even though we work on a subarray."
   ]
  },
  {
   "cell_type": "code",
   "execution_count": 26,
   "id": "f7e84fc4",
   "metadata": {
    "colab": {
     "base_uri": "https://localhost:8080/"
    },
    "id": "f7e84fc4",
    "outputId": "dab1696a-9424-4d35-8c66-ffe187dcc91b"
   },
   "outputs": [
    {
     "name": "stdout",
     "output_type": "stream",
     "text": [
      "Original x2\n",
      "[[5 0 3 3]\n",
      " [7 9 3 5]\n",
      " [2 4 7 6]]\n"
     ]
    }
   ],
   "source": [
    "print(\"Original x2\")\n",
    "print(x2)"
   ]
  },
  {
   "cell_type": "code",
   "execution_count": 27,
   "id": "a66f8878",
   "metadata": {
    "colab": {
     "base_uri": "https://localhost:8080/"
    },
    "id": "a66f8878",
    "outputId": "33069c9b-60ed-4955-cc14-94695b220abb"
   },
   "outputs": [
    {
     "name": "stdout",
     "output_type": "stream",
     "text": [
      "sub array x2_sub\n",
      "[[5 0 3]\n",
      " [7 9 3]]\n",
      "On changing the sub array the original array changes\n",
      "[[25  0  3  3]\n",
      " [ 7  9  3  5]\n",
      " [ 2  4  7  6]]\n"
     ]
    }
   ],
   "source": [
    "x2_sub = x2[:2,:3]\n",
    "print(\"sub array x2_sub\")\n",
    "print(x2_sub)\n",
    "# On changing the sub array the original array changes.\n",
    "print(\"On changing the sub array the original array changes\")\n",
    "x2_sub[0,0]=25\n",
    "print(x2)"
   ]
  },
  {
   "cell_type": "markdown",
   "id": "68d1d9bc",
   "metadata": {
    "id": "68d1d9bc"
   },
   "source": [
    "## Creating a copy of an array\n",
    "Working on copy of the array does not affect the original array"
   ]
  },
  {
   "cell_type": "code",
   "execution_count": 28,
   "id": "23dd02cd",
   "metadata": {
    "colab": {
     "base_uri": "https://localhost:8080/"
    },
    "id": "23dd02cd",
    "outputId": "3727e1be-b3ab-4de8-eaa7-b53850540a33"
   },
   "outputs": [
    {
     "name": "stdout",
     "output_type": "stream",
     "text": [
      "Original x2\n",
      "[[25  0  3  3]\n",
      " [ 7  9  3  5]\n",
      " [ 2  4  7  6]]\n"
     ]
    }
   ],
   "source": [
    "print(\"Original x2\")\n",
    "print(x2)"
   ]
  },
  {
   "cell_type": "code",
   "execution_count": 29,
   "id": "4fda5a2f",
   "metadata": {
    "colab": {
     "base_uri": "https://localhost:8080/"
    },
    "id": "4fda5a2f",
    "outputId": "6a4f4803-7274-4a9f-fa22-f2bff6d65a0d"
   },
   "outputs": [
    {
     "name": "stdout",
     "output_type": "stream",
     "text": [
      "x2_sub_copy\n",
      "[[25  0  3]\n",
      " [ 7  9  3]]\n",
      "\n",
      "[[25 33  3]\n",
      " [ 7  9  3]]\n",
      "\n",
      "[[25  0  3  3]\n",
      " [ 7  9  3  5]\n",
      " [ 2  4  7  6]]\n"
     ]
    }
   ],
   "source": [
    "x2_sub_copy = x2[:2,:3].copy()\n",
    "print(\"x2_sub_copy\")\n",
    "print(x2_sub_copy,end='\\n\\n')\n",
    "x2_sub_copy[0,1] = 33\n",
    "#on changing the copy the original array is unaffected\n",
    "print(x2_sub_copy,end='\\n\\n')\n",
    "print(x2)"
   ]
  },
  {
   "cell_type": "markdown",
   "id": "3086285f",
   "metadata": {
    "id": "3086285f"
   },
   "source": [
    "# Reshaping an array"
   ]
  },
  {
   "cell_type": "code",
   "execution_count": 30,
   "id": "ad67f1af",
   "metadata": {
    "colab": {
     "base_uri": "https://localhost:8080/"
    },
    "id": "ad67f1af",
    "outputId": "03d65ece-7308-45cf-aa76-6411eba85c02"
   },
   "outputs": [
    {
     "data": {
      "text/plain": [
       "array([8, 8, 1, 6, 7, 7, 8, 1, 5])"
      ]
     },
     "execution_count": 30,
     "metadata": {},
     "output_type": "execute_result"
    }
   ],
   "source": [
    "grid = np.random.randint(9,size=9)\n",
    "grid"
   ]
  },
  {
   "cell_type": "code",
   "execution_count": 31,
   "id": "73c16428",
   "metadata": {
    "colab": {
     "base_uri": "https://localhost:8080/"
    },
    "id": "73c16428",
    "outputId": "e34398b8-f4bc-4b1c-af8e-6550c103c763"
   },
   "outputs": [
    {
     "data": {
      "text/plain": [
       "array([[8, 8, 1],\n",
       "       [6, 7, 7],\n",
       "       [8, 1, 5]])"
      ]
     },
     "execution_count": 31,
     "metadata": {},
     "output_type": "execute_result"
    }
   ],
   "source": [
    "grid.reshape((3,3))"
   ]
  },
  {
   "cell_type": "code",
   "execution_count": 32,
   "id": "82073f42",
   "metadata": {
    "colab": {
     "base_uri": "https://localhost:8080/"
    },
    "id": "82073f42",
    "outputId": "070fc3f3-8e67-47fd-81ac-cf230411efff"
   },
   "outputs": [
    {
     "data": {
      "text/plain": [
       "array([8, 8, 1, 6, 7, 7, 8, 1, 5])"
      ]
     },
     "execution_count": 32,
     "metadata": {},
     "output_type": "execute_result"
    }
   ],
   "source": [
    "grid.reshape(9)"
   ]
  },
  {
   "cell_type": "markdown",
   "id": "6e500553",
   "metadata": {
    "id": "6e500553"
   },
   "source": [
    "# How to read a 3d matrix\n",
    "Normally a 3d matrix is a collection of 2d matrix. Read the matrix as 2X(3X4)`"
   ]
  },
  {
   "cell_type": "code",
   "execution_count": 33,
   "id": "a2f6e0c2",
   "metadata": {
    "colab": {
     "base_uri": "https://localhost:8080/"
    },
    "id": "a2f6e0c2",
    "outputId": "2dd3e232-a954-461e-8d76-48c88ad2cce2"
   },
   "outputs": [
    {
     "data": {
      "text/plain": [
       "array([[[8, 4, 3, 0],\n",
       "        [3, 5, 0, 2],\n",
       "        [3, 8, 1, 3]],\n",
       "\n",
       "       [[3, 3, 7, 0],\n",
       "        [1, 0, 4, 7],\n",
       "        [3, 2, 7, 2]]])"
      ]
     },
     "execution_count": 33,
     "metadata": {},
     "output_type": "execute_result"
    }
   ],
   "source": [
    "np.random.randint(9,size=(2,3,4))"
   ]
  },
  {
   "cell_type": "code",
   "execution_count": 34,
   "id": "a00d8a1e",
   "metadata": {
    "colab": {
     "base_uri": "https://localhost:8080/"
    },
    "id": "a00d8a1e",
    "outputId": "4a7068cc-6673-4040-ac2c-0d7bf7c75baa"
   },
   "outputs": [
    {
     "name": "stdout",
     "output_type": "stream",
     "text": [
      "[[[8 8 1 6 7 7 8 1 5]]]\n",
      "\n",
      "[[[8]\n",
      "  [8]\n",
      "  [1]\n",
      "  [6]\n",
      "  [7]\n",
      "  [7]\n",
      "  [8]\n",
      "  [1]\n",
      "  [5]]]\n",
      "\n",
      "[[[8]]\n",
      "\n",
      " [[8]]\n",
      "\n",
      " [[1]]\n",
      "\n",
      " [[6]]\n",
      "\n",
      " [[7]]\n",
      "\n",
      " [[7]]\n",
      "\n",
      " [[8]]\n",
      "\n",
      " [[1]]\n",
      "\n",
      " [[5]]]\n",
      "\n"
     ]
    }
   ],
   "source": [
    "#using reshape to\n",
    "print(grid.reshape(1,1,9),end='\\n\\n')\n",
    "print(grid.reshape(1,9,1),end='\\n\\n')\n",
    "print(grid.reshape(9,1,1),end='\\n\\n')"
   ]
  },
  {
   "cell_type": "markdown",
   "id": "0b1cf768",
   "metadata": {
    "id": "0b1cf768"
   },
   "source": [
    "## New axis in slicing operation\n",
    "Suppose we have a 3d matrix with dimensions 2,3,4 then\\\n",
    "k[:,np.newaxis] makes it as 4d with (2,1,3,4)\\\n",
    "k[np.newaxis,:] makes it as 4d with (1,2,3,4)\\\n",
    "k[:,:,np.newaxis,:] makes it as (2,3,1,4)\\\n",
    "In short it adds a new axis and reshapes the dimension of a matrix where we specify\n"
   ]
  },
  {
   "cell_type": "code",
   "execution_count": 35,
   "id": "364a3812",
   "metadata": {
    "colab": {
     "base_uri": "https://localhost:8080/"
    },
    "id": "364a3812",
    "outputId": "c44cac35-850e-4eab-bb26-164fda9ac50d"
   },
   "outputs": [
    {
     "data": {
      "text/plain": [
       "(4,)"
      ]
     },
     "execution_count": 35,
     "metadata": {},
     "output_type": "execute_result"
    }
   ],
   "source": [
    "k1=np.array([1,2,3,4])\n",
    "k1.shape"
   ]
  },
  {
   "cell_type": "code",
   "execution_count": 36,
   "id": "b70c773f",
   "metadata": {
    "colab": {
     "base_uri": "https://localhost:8080/"
    },
    "id": "b70c773f",
    "outputId": "710937c4-3975-4c61-d0b1-5c46fe818a2c"
   },
   "outputs": [
    {
     "data": {
      "text/plain": [
       "(4,)"
      ]
     },
     "execution_count": 36,
     "metadata": {},
     "output_type": "execute_result"
    }
   ],
   "source": [
    "k1[np.newaxis,:]\n",
    "k1.shape"
   ]
  },
  {
   "cell_type": "code",
   "execution_count": 37,
   "id": "7a354a3e",
   "metadata": {
    "colab": {
     "base_uri": "https://localhost:8080/"
    },
    "id": "7a354a3e",
    "outputId": "45e06f47-c27a-426c-f0ea-ff718a9e0dea"
   },
   "outputs": [
    {
     "data": {
      "text/plain": [
       "(2, 3, 4)"
      ]
     },
     "execution_count": 37,
     "metadata": {},
     "output_type": "execute_result"
    }
   ],
   "source": [
    "k=np.random.randint(9,size=(2,3,4))\n",
    "k.shape"
   ]
  },
  {
   "cell_type": "code",
   "execution_count": 38,
   "id": "ee77ba8f",
   "metadata": {
    "colab": {
     "base_uri": "https://localhost:8080/"
    },
    "id": "ee77ba8f",
    "outputId": "6c516536-0689-4570-9a7c-56d85bbc358c"
   },
   "outputs": [
    {
     "data": {
      "text/plain": [
       "(2, 3, 1, 4)"
      ]
     },
     "execution_count": 38,
     "metadata": {},
     "output_type": "execute_result"
    }
   ],
   "source": [
    "k=k[:,:,np.newaxis,:]\n",
    "k.shape"
   ]
  },
  {
   "cell_type": "code",
   "execution_count": 39,
   "id": "28c867ee",
   "metadata": {
    "colab": {
     "base_uri": "https://localhost:8080/"
    },
    "id": "28c867ee",
    "outputId": "44d02f1a-608d-4f37-daeb-4d70a154ffcc"
   },
   "outputs": [
    {
     "data": {
      "text/plain": [
       "(2, 3, 1, 1, 4)"
      ]
     },
     "execution_count": 39,
     "metadata": {},
     "output_type": "execute_result"
    }
   ],
   "source": [
    "k=k[:,:,np.newaxis,:]\n",
    "k.shape"
   ]
  },
  {
   "cell_type": "markdown",
   "id": "881c7f18",
   "metadata": {
    "id": "881c7f18"
   },
   "source": [
    "## Array concatenation\n",
    "np.concatenate - mostly prefered for 1d array\\\n",
    "np.hstack(horizontal stack) and np.vstack(vertical stack) - prefered for multidimensional array"
   ]
  },
  {
   "cell_type": "code",
   "execution_count": 40,
   "id": "2e2d9ae6",
   "metadata": {
    "colab": {
     "base_uri": "https://localhost:8080/"
    },
    "id": "2e2d9ae6",
    "outputId": "3286061c-0b36-47f5-d15c-ddf5c0536b0e"
   },
   "outputs": [
    {
     "data": {
      "text/plain": [
       "array([1, 2, 3, 1, 2, 3, 1, 2, 3])"
      ]
     },
     "execution_count": 40,
     "metadata": {},
     "output_type": "execute_result"
    }
   ],
   "source": [
    "x = np.array([1,2,3])\n",
    "y = np.array([3,4,5])\n",
    "z = np.array([\n",
    "    [11],\n",
    "    [99]\n",
    "])\n",
    "np.concatenate([x, x, x])"
   ]
  },
  {
   "cell_type": "code",
   "execution_count": 41,
   "id": "37a71605",
   "metadata": {
    "colab": {
     "base_uri": "https://localhost:8080/"
    },
    "id": "37a71605",
    "outputId": "8eb08ca4-e278-443a-ab8f-660efc3aa4a2"
   },
   "outputs": [
    {
     "data": {
      "text/plain": [
       "array([[1, 2, 3],\n",
       "       [3, 4, 5]])"
      ]
     },
     "execution_count": 41,
     "metadata": {},
     "output_type": "execute_result"
    }
   ],
   "source": [
    "np.vstack([x,y])"
   ]
  },
  {
   "cell_type": "code",
   "execution_count": 42,
   "id": "83433361",
   "metadata": {
    "colab": {
     "base_uri": "https://localhost:8080/"
    },
    "id": "83433361",
    "outputId": "ca6599d9-73f2-4bde-cdf5-a4649bab7ebc"
   },
   "outputs": [
    {
     "data": {
      "text/plain": [
       "array([[ 1,  2,  3, 11],\n",
       "       [ 3,  4,  5, 99]])"
      ]
     },
     "execution_count": 42,
     "metadata": {},
     "output_type": "execute_result"
    }
   ],
   "source": [
    "np.hstack([np.vstack([x,y]),z])"
   ]
  },
  {
   "cell_type": "markdown",
   "id": "6acf900f",
   "metadata": {
    "id": "6acf900f"
   },
   "source": [
    "# axis\n",
    "axis = 0 --> vertical axis\\\n",
    "axis = 1 --> horizontal axis\\\n",
    "axis = 2 --> 3rd axis"
   ]
  },
  {
   "cell_type": "code",
   "execution_count": 43,
   "id": "88aedb7e",
   "metadata": {
    "colab": {
     "base_uri": "https://localhost:8080/"
    },
    "id": "88aedb7e",
    "outputId": "7e889157-b7e8-450e-f5c4-562d0920fa79"
   },
   "outputs": [
    {
     "name": "stdout",
     "output_type": "stream",
     "text": [
      "[[1 2 3]\n",
      " [4 5 6]\n",
      " [1 2 3]\n",
      " [4 5 6]]\n",
      "\n",
      "[[1 2 3 1 2 3]\n",
      " [4 5 6 4 5 6]]\n"
     ]
    }
   ],
   "source": [
    "grid = np.array([[1,2,3],[4,5,6]])\n",
    "print(np.concatenate([grid,grid]),end=\"\\n\\n\") #same as vstack\n",
    "print(np.concatenate([grid,grid],axis=1)) #same as hstack"
   ]
  },
  {
   "cell_type": "code",
   "execution_count": 44,
   "id": "5b2317a9",
   "metadata": {
    "colab": {
     "base_uri": "https://localhost:8080/"
    },
    "id": "5b2317a9",
    "outputId": "3b059c80-2055-4618-e85c-b498c118807d"
   },
   "outputs": [
    {
     "data": {
      "text/plain": [
       "array([[[11, 22, 33],\n",
       "        [11, 22, 33]],\n",
       "\n",
       "       [[44, 55, 66],\n",
       "        [77, 88, 99]]])"
      ]
     },
     "execution_count": 44,
     "metadata": {},
     "output_type": "execute_result"
    }
   ],
   "source": [
    "z = np.array([[[1,2,3],[4,5,6]],[[7,8,9],[10,12,13]]])\n",
    "z\n",
    "z1 = np.array([[[11,22,33],[11,22,33]],[[44,55,66],[77,88,99]]])\n",
    "z1"
   ]
  },
  {
   "cell_type": "code",
   "execution_count": 45,
   "id": "0ec708e6",
   "metadata": {
    "colab": {
     "base_uri": "https://localhost:8080/"
    },
    "id": "0ec708e6",
    "outputId": "6a0c7baf-64e6-4cee-fe1b-7b440fbedcfe"
   },
   "outputs": [
    {
     "data": {
      "text/plain": [
       "array([[[ 1,  2,  3, 11, 22, 33],\n",
       "        [ 4,  5,  6, 11, 22, 33]],\n",
       "\n",
       "       [[ 7,  8,  9, 44, 55, 66],\n",
       "        [10, 12, 13, 77, 88, 99]]])"
      ]
     },
     "execution_count": 45,
     "metadata": {},
     "output_type": "execute_result"
    }
   ],
   "source": [
    "np.dstack([z,z1]) #concatenates along 3rd axis"
   ]
  },
  {
   "cell_type": "code",
   "execution_count": 46,
   "id": "36b7f68f",
   "metadata": {
    "colab": {
     "base_uri": "https://localhost:8080/"
    },
    "id": "36b7f68f",
    "outputId": "ef5725c4-a33b-433a-e9ba-cfc058ca5c7b"
   },
   "outputs": [
    {
     "data": {
      "text/plain": [
       "array([[[ 1,  2,  3, 11, 22, 33],\n",
       "        [ 4,  5,  6, 11, 22, 33]],\n",
       "\n",
       "       [[ 7,  8,  9, 44, 55, 66],\n",
       "        [10, 12, 13, 77, 88, 99]]])"
      ]
     },
     "execution_count": 46,
     "metadata": {},
     "output_type": "execute_result"
    }
   ],
   "source": [
    "np.concatenate([z,z1],axis=2) #same as dstack"
   ]
  },
  {
   "cell_type": "markdown",
   "id": "35c73f35",
   "metadata": {
    "id": "35c73f35"
   },
   "source": [
    "## Splitting of arrays\n",
    "Opposite of concatenate. Can split using np.split, np.vsplit, np.hsplit, np.dsplit\n"
   ]
  },
  {
   "cell_type": "code",
   "execution_count": 47,
   "id": "0c2b4ed8",
   "metadata": {
    "colab": {
     "base_uri": "https://localhost:8080/"
    },
    "id": "0c2b4ed8",
    "outputId": "9648234e-94c1-42bd-af15-42e4b6e32e54"
   },
   "outputs": [
    {
     "name": "stdout",
     "output_type": "stream",
     "text": [
      "[1 2 3] [99 99 99] [4 5 6]\n"
     ]
    }
   ],
   "source": [
    "#If array can be split into equal numbers of elements then it works\n",
    "x= np.array([1,2,3,99,99,99,4,5,6])\n",
    "x1, x2, x3 = np.split(x,3)\n",
    "print(x1,x2,x3)"
   ]
  },
  {
   "cell_type": "code",
   "execution_count": 48,
   "id": "36dda578",
   "metadata": {
    "colab": {
     "base_uri": "https://localhost:8080/"
    },
    "id": "36dda578",
    "outputId": "f845bb25-8766-4a14-8f8d-27f801bade16"
   },
   "outputs": [
    {
     "name": "stdout",
     "output_type": "stream",
     "text": [
      "[1 2 3] [99 99] [99  4  5] [6]\n"
     ]
    }
   ],
   "source": [
    "#to split an array in to unequal parts\n",
    "x1,x2,x3,x4 = np.split(x,[3,5,8])\n",
    "print(x1,x2,x3,x4)\n",
    "\n",
    "#note : If we pass n no of split points we get n+1 splits"
   ]
  },
  {
   "cell_type": "code",
   "execution_count": 49,
   "id": "ecd10acf",
   "metadata": {
    "colab": {
     "base_uri": "https://localhost:8080/"
    },
    "id": "ecd10acf",
    "outputId": "eff5e046-8811-47b1-c167-aa4cf1a24db6"
   },
   "outputs": [
    {
     "name": "stdout",
     "output_type": "stream",
     "text": [
      "original grid\n",
      "[[ 0  1  2  3]\n",
      " [ 4  5  6  7]\n",
      " [ 8  9 10 11]\n",
      " [12 13 14 15]]\n",
      "upper array\n",
      "[[0 1 2 3]\n",
      " [4 5 6 7]]\n",
      "lower array\n",
      "[[ 8  9 10 11]\n",
      " [12 13 14 15]]\n"
     ]
    }
   ],
   "source": [
    "grid = np.arange(16).reshape(4,4)\n",
    "print(\"original grid\")\n",
    "print(grid)\n",
    "upper,lower = np.vsplit(grid,2) #reverse of vstack\n",
    "print(\"upper array\")\n",
    "print(upper)\n",
    "print(\"lower array\")\n",
    "print(lower)"
   ]
  },
  {
   "cell_type": "code",
   "execution_count": 50,
   "id": "63305505",
   "metadata": {
    "colab": {
     "base_uri": "https://localhost:8080/"
    },
    "id": "63305505",
    "outputId": "5eccdbfa-411b-45a4-8873-82d810d78856",
    "scrolled": true
   },
   "outputs": [
    {
     "name": "stdout",
     "output_type": "stream",
     "text": [
      "left\n",
      "[[ 0]\n",
      " [ 4]\n",
      " [ 8]\n",
      " [12]]\n",
      "mid\n",
      "[[ 1]\n",
      " [ 5]\n",
      " [ 9]\n",
      " [13]]\n",
      "right\n",
      "[[ 2  3]\n",
      " [ 6  7]\n",
      " [10 11]\n",
      " [14 15]]\n"
     ]
    }
   ],
   "source": [
    "left,mid,right = np.hsplit(grid,(1,2)) #reverse of hstack\n",
    "print(\"left\")\n",
    "print(left)\n",
    "print(\"mid\")\n",
    "print(mid)\n",
    "print(\"right\")\n",
    "print(right)"
   ]
  },
  {
   "cell_type": "code",
   "execution_count": 51,
   "id": "f1100961",
   "metadata": {
    "colab": {
     "base_uri": "https://localhost:8080/"
    },
    "id": "f1100961",
    "outputId": "55053ff1-bb25-48e3-950f-699f31939034"
   },
   "outputs": [
    {
     "name": "stdout",
     "output_type": "stream",
     "text": [
      "[[[ 1  2]\n",
      "  [ 4  5]]\n",
      "\n",
      " [[ 7  8]\n",
      "  [10 12]]] [] [[[ 3]\n",
      "  [ 6]]\n",
      "\n",
      " [[ 9]\n",
      "  [13]]]\n"
     ]
    }
   ],
   "source": [
    "z1,z2,z3 = np.dsplit(z,(2,2)) #reverse of dstack\n",
    "print(z1,z2,z3)"
   ]
  },
  {
   "cell_type": "markdown",
   "id": "5aee7423",
   "metadata": {
    "id": "5aee7423"
   },
   "source": [
    "# Ufunctions in numpy\n",
    "\n",
    "Normally doing operations would take longer time in python because they are interpreted. But the nummy's ufunctions minimize the time consumption by compiling the code. So for larger amount of data use the numby's ufuncions.\n",
    "\n",
    "Operator Equivalent ufunc Description\\\n",
    "\\+   np.add Addition (e.g., 1 + 1 = 2)\\\n",
    "\\- np.subtract Subtraction (e.g., 3 - 2 = 1)\\\n",
    "\\- np.negative Unary negation (e.g., -2)\\\n",
    "\\* np.multiply Multiplication (e.g., 2 * 3 = 6)\\\n",
    "\\/ np.divide Division (e.g., 3 / 2 = 1.5)\\\n",
    "\\// np.floor_divide Floor division (e.g., 3 // 2 = 1)\\\n",
    "\\** np.power Exponentiation (e.g., 2 ** 3 = 8)\\\n",
    "\\% np.mod Modulus/remainder (e.g., 9 % 4 = 1)\\\n"
   ]
  },
  {
   "cell_type": "code",
   "execution_count": 52,
   "id": "6fbe96f0",
   "metadata": {
    "colab": {
     "base_uri": "https://localhost:8080/"
    },
    "id": "6fbe96f0",
    "outputId": "0863560c-c65f-4537-ce4a-75774f416d6e"
   },
   "outputs": [
    {
     "name": "stdout",
     "output_type": "stream",
     "text": [
      "add :  7\n",
      "subtract :  -1\n",
      "multiply :  12\n",
      "divide :  0.75\n",
      "negative :  -34\n",
      "power :  81\n",
      "floor :  0\n",
      "modulus :  1\n"
     ]
    }
   ],
   "source": [
    "print(\"add : \",np.add(3,4))\n",
    "print(\"subtract : \",np.subtract(3,4))\n",
    "print(\"multiply : \",np.multiply(3,4))\n",
    "print(\"divide : \",np.divide(3,4))\n",
    "print(\"negative : \",np.negative(34))\n",
    "print(\"power : \",np.power(3,4))\n",
    "print(\"floor : \",np.floor_divide(3,4))\n",
    "print(\"modulus : \",np.mod(4,3))"
   ]
  },
  {
   "cell_type": "markdown",
   "id": "89590e56",
   "metadata": {
    "id": "89590e56"
   },
   "source": [
    "### Aggregates\n",
    "Some values can be computed directly from the object. These are called as aggregates.\\\n",
    "reduce"
   ]
  },
  {
   "cell_type": "code",
   "execution_count": 53,
   "id": "bcb31ab0",
   "metadata": {
    "colab": {
     "base_uri": "https://localhost:8080/"
    },
    "id": "bcb31ab0",
    "outputId": "a1a8eaba-4c90-4bdd-cd3a-9109280867ee"
   },
   "outputs": [
    {
     "data": {
      "text/plain": [
       "15"
      ]
     },
     "execution_count": 53,
     "metadata": {},
     "output_type": "execute_result"
    }
   ],
   "source": [
    "x = np.array([1,2,3,4,5])\n",
    "np.add.reduce(x)"
   ]
  },
  {
   "cell_type": "code",
   "execution_count": 54,
   "id": "782f94ef",
   "metadata": {
    "colab": {
     "base_uri": "https://localhost:8080/"
    },
    "id": "782f94ef",
    "outputId": "bd862640-caa5-480c-dd86-48f0857681fe"
   },
   "outputs": [
    {
     "data": {
      "text/plain": [
       "120"
      ]
     },
     "execution_count": 54,
     "metadata": {},
     "output_type": "execute_result"
    }
   ],
   "source": [
    "np.multiply.reduce(x)"
   ]
  },
  {
   "cell_type": "code",
   "execution_count": 55,
   "id": "beef34a3",
   "metadata": {
    "colab": {
     "base_uri": "https://localhost:8080/"
    },
    "id": "beef34a3",
    "outputId": "ef6884dc-cbca-43d8-a860-3f451e3269d3"
   },
   "outputs": [
    {
     "data": {
      "text/plain": [
       "-13"
      ]
     },
     "execution_count": 55,
     "metadata": {},
     "output_type": "execute_result"
    }
   ],
   "source": [
    "np.subtract.reduce(x)"
   ]
  },
  {
   "cell_type": "markdown",
   "id": "a6435f60",
   "metadata": {
    "id": "a6435f60"
   },
   "source": [
    "Accumulate\\\n",
    "To see the operation step by step results"
   ]
  },
  {
   "cell_type": "code",
   "execution_count": 56,
   "id": "958094ae",
   "metadata": {
    "colab": {
     "base_uri": "https://localhost:8080/"
    },
    "id": "958094ae",
    "outputId": "e039edb0-fc12-4178-a200-88ebfe4e021d"
   },
   "outputs": [
    {
     "data": {
      "text/plain": [
       "array([ 1,  3,  6, 10, 15], dtype=int32)"
      ]
     },
     "execution_count": 56,
     "metadata": {},
     "output_type": "execute_result"
    }
   ],
   "source": [
    "np.add.accumulate(x)"
   ]
  },
  {
   "cell_type": "code",
   "execution_count": 57,
   "id": "42677627",
   "metadata": {
    "colab": {
     "base_uri": "https://localhost:8080/"
    },
    "id": "42677627",
    "outputId": "9c9e3fc3-b426-4a35-aae3-ae0f27953f2a"
   },
   "outputs": [
    {
     "data": {
      "text/plain": [
       "array([  1,  -1,  -4,  -8, -13], dtype=int32)"
      ]
     },
     "execution_count": 57,
     "metadata": {},
     "output_type": "execute_result"
    }
   ],
   "source": [
    "np.subtract.accumulate(x)"
   ]
  },
  {
   "cell_type": "markdown",
   "id": "e99a6112",
   "metadata": {
    "id": "e99a6112"
   },
   "source": [
    "### Outer products\n",
    "To compute the output of only two different inputs"
   ]
  },
  {
   "cell_type": "code",
   "execution_count": 58,
   "id": "e09d51e6",
   "metadata": {
    "colab": {
     "base_uri": "https://localhost:8080/"
    },
    "id": "e09d51e6",
    "outputId": "4cf5dc89-641a-4d3d-8637-724fa89db1b3"
   },
   "outputs": [
    {
     "data": {
      "text/plain": [
       "array([[[ 1,  2,  3,  4,  5],\n",
       "        [ 2,  4,  6,  8, 10],\n",
       "        [ 3,  6,  9, 12, 15],\n",
       "        [ 4,  8, 12, 16, 20],\n",
       "        [ 5, 10, 15, 20, 25]],\n",
       "\n",
       "       [[ 1,  2,  3,  4,  5],\n",
       "        [ 2,  4,  6,  8, 10],\n",
       "        [ 3,  6,  9, 12, 15],\n",
       "        [ 4,  8, 12, 16, 20],\n",
       "        [ 5, 10, 15, 20, 25]],\n",
       "\n",
       "       [[ 1,  2,  3,  4,  5],\n",
       "        [ 2,  4,  6,  8, 10],\n",
       "        [ 3,  6,  9, 12, 15],\n",
       "        [ 4,  8, 12, 16, 20],\n",
       "        [ 5, 10, 15, 20, 25]]])"
      ]
     },
     "execution_count": 58,
     "metadata": {},
     "output_type": "execute_result"
    }
   ],
   "source": [
    "np.multiply.outer((x,x,x),x)"
   ]
  },
  {
   "cell_type": "code",
   "execution_count": 59,
   "id": "1bbfbefc",
   "metadata": {
    "colab": {
     "base_uri": "https://localhost:8080/"
    },
    "id": "1bbfbefc",
    "outputId": "a95fb2fc-62e3-42db-f431-a60d572b027b"
   },
   "outputs": [
    {
     "data": {
      "text/plain": [
       "array([[ 1,  2,  3,  4,  5],\n",
       "       [ 2,  4,  6,  8, 10],\n",
       "       [ 3,  6,  9, 12, 15],\n",
       "       [ 4,  8, 12, 16, 20],\n",
       "       [ 5, 10, 15, 20, 25]])"
      ]
     },
     "execution_count": 59,
     "metadata": {},
     "output_type": "execute_result"
    }
   ],
   "source": [
    "np.multiply.outer(x,x)"
   ]
  },
  {
   "cell_type": "code",
   "execution_count": 60,
   "id": "fd57f126",
   "metadata": {
    "colab": {
     "base_uri": "https://localhost:8080/"
    },
    "id": "fd57f126",
    "outputId": "247c7b79-6d36-4a02-c932-e2647074834a"
   },
   "outputs": [
    {
     "data": {
      "text/plain": [
       "array([68, 47,  3, 76, 52, 78, 15, 20, 99, 58])"
      ]
     },
     "execution_count": 60,
     "metadata": {},
     "output_type": "execute_result"
    }
   ],
   "source": [
    "L = np.random.randint(100, size=10)\n",
    "L"
   ]
  },
  {
   "cell_type": "code",
   "execution_count": 61,
   "id": "75d3786c",
   "metadata": {
    "colab": {
     "base_uri": "https://localhost:8080/"
    },
    "id": "75d3786c",
    "outputId": "bded9053-d521-4e62-d0b6-4cca7867ae74"
   },
   "outputs": [
    {
     "data": {
      "text/plain": [
       "3"
      ]
     },
     "execution_count": 61,
     "metadata": {},
     "output_type": "execute_result"
    }
   ],
   "source": [
    "np.min(L)"
   ]
  },
  {
   "cell_type": "code",
   "execution_count": 62,
   "id": "1ebe53ab",
   "metadata": {
    "colab": {
     "base_uri": "https://localhost:8080/"
    },
    "id": "1ebe53ab",
    "outputId": "c3bf330f-d16a-4c89-c6bc-583201c9aae6"
   },
   "outputs": [
    {
     "data": {
      "text/plain": [
       "99"
      ]
     },
     "execution_count": 62,
     "metadata": {},
     "output_type": "execute_result"
    }
   ],
   "source": [
    "np.max(L)"
   ]
  },
  {
   "cell_type": "code",
   "execution_count": 63,
   "id": "8a40478c",
   "metadata": {
    "colab": {
     "base_uri": "https://localhost:8080/"
    },
    "id": "8a40478c",
    "outputId": "2fd46cce-01b9-4068-85ce-5240de1d81b5"
   },
   "outputs": [
    {
     "data": {
      "text/plain": [
       "array([[0.15896958, 0.11037514, 0.65632959, 0.13818295],\n",
       "       [0.19658236, 0.36872517, 0.82099323, 0.09710128],\n",
       "       [0.83794491, 0.09609841, 0.97645947, 0.4686512 ]])"
      ]
     },
     "execution_count": 63,
     "metadata": {},
     "output_type": "execute_result"
    }
   ],
   "source": [
    "x = np.random.random((3,4))\n",
    "x"
   ]
  },
  {
   "cell_type": "markdown",
   "id": "101b39e4",
   "metadata": {
    "id": "101b39e4"
   },
   "source": [
    "To find the max and min along the axis"
   ]
  },
  {
   "cell_type": "code",
   "execution_count": 64,
   "id": "8804ea40",
   "metadata": {
    "colab": {
     "base_uri": "https://localhost:8080/"
    },
    "id": "8804ea40",
    "outputId": "6bd42272-f13e-4dc0-cb3b-815d2b67a2d0"
   },
   "outputs": [
    {
     "name": "stdout",
     "output_type": "stream",
     "text": [
      "min of x 0.09609840789396307\n",
      "min along the column (axis 0)  [0.15896958 0.09609841 0.65632959 0.09710128]\n",
      "min along the rows (axis 1) [0.11037514 0.09710128 0.09609841]\n"
     ]
    }
   ],
   "source": [
    "print(\"min of x\",np.min(x))\n",
    "print(\"min along the column (axis 0) \",np.min(x,axis=0))\n",
    "print(\"min along the rows (axis 1)\", np.min(x,axis=1))"
   ]
  },
  {
   "cell_type": "code",
   "execution_count": 65,
   "id": "7bd143d2",
   "metadata": {
    "colab": {
     "base_uri": "https://localhost:8080/"
    },
    "id": "7bd143d2",
    "outputId": "93c908e1-74b6-4239-95e8-e5cc70184572"
   },
   "outputs": [
    {
     "name": "stdout",
     "output_type": "stream",
     "text": [
      "max of x 0.9764594650133958\n",
      "max along the column (axis 0) [0.83794491 0.36872517 0.97645947 0.4686512 ]\n",
      "max along the row (axis 1) [0.65632959 0.82099323 0.97645947]\n"
     ]
    }
   ],
   "source": [
    "print(\"max of x\",np.max(x))\n",
    "print(\"max along the column (axis 0)\",np.max(x,axis=0))\n",
    "print(\"max along the row (axis 1)\",np.max(x,axis=1))"
   ]
  },
  {
   "cell_type": "code",
   "execution_count": 66,
   "id": "2f0c25a0",
   "metadata": {
    "colab": {
     "base_uri": "https://localhost:8080/"
    },
    "id": "2f0c25a0",
    "outputId": "8f473ae4-cb98-4cbd-8e58-3a99e0b36ed9"
   },
   "outputs": [
    {
     "name": "stderr",
     "output_type": "stream",
     "text": [
      "ERROR:root:No traceback has been produced, nothing to debug.\n"
     ]
    }
   ],
   "source": [
    "%debug"
   ]
  },
  {
   "cell_type": "code",
   "execution_count": 67,
   "id": "0383f5d0",
   "metadata": {
    "colab": {
     "base_uri": "https://localhost:8080/",
     "height": 206
    },
    "id": "0383f5d0",
    "outputId": "c2420bdd-178a-49c8-cd67-a0e5a3e064ed"
   },
   "outputs": [
    {
     "ename": "FileNotFoundError",
     "evalue": "[Errno 2] No such file or directory: 'sample dataset/president_heights.csv'",
     "output_type": "error",
     "traceback": [
      "\u001b[1;31m---------------------------------------------------------------------------\u001b[0m",
      "\u001b[1;31mFileNotFoundError\u001b[0m                         Traceback (most recent call last)",
      "\u001b[1;32m<ipython-input-67-a2395f7a29f8>\u001b[0m in \u001b[0;36m<module>\u001b[1;34m\u001b[0m\n\u001b[1;32m----> 1\u001b[1;33m \u001b[0mdata\u001b[0m \u001b[1;33m=\u001b[0m \u001b[0mpd\u001b[0m\u001b[1;33m.\u001b[0m\u001b[0mread_csv\u001b[0m\u001b[1;33m(\u001b[0m\u001b[1;34m\"sample dataset/president_heights.csv\"\u001b[0m\u001b[1;33m)\u001b[0m\u001b[1;33m\u001b[0m\u001b[1;33m\u001b[0m\u001b[0m\n\u001b[0m\u001b[0;32m      2\u001b[0m \u001b[0mdata\u001b[0m\u001b[1;33m.\u001b[0m\u001b[0mhead\u001b[0m\u001b[1;33m(\u001b[0m\u001b[1;36m5\u001b[0m\u001b[1;33m)\u001b[0m\u001b[1;33m\u001b[0m\u001b[1;33m\u001b[0m\u001b[0m\n",
      "\u001b[1;32m~\\anaconda3\\lib\\site-packages\\pandas\\io\\parsers.py\u001b[0m in \u001b[0;36mread_csv\u001b[1;34m(filepath_or_buffer, sep, delimiter, header, names, index_col, usecols, squeeze, prefix, mangle_dupe_cols, dtype, engine, converters, true_values, false_values, skipinitialspace, skiprows, skipfooter, nrows, na_values, keep_default_na, na_filter, verbose, skip_blank_lines, parse_dates, infer_datetime_format, keep_date_col, date_parser, dayfirst, cache_dates, iterator, chunksize, compression, thousands, decimal, lineterminator, quotechar, quoting, doublequote, escapechar, comment, encoding, dialect, error_bad_lines, warn_bad_lines, delim_whitespace, low_memory, memory_map, float_precision, storage_options)\u001b[0m\n\u001b[0;32m    608\u001b[0m     \u001b[0mkwds\u001b[0m\u001b[1;33m.\u001b[0m\u001b[0mupdate\u001b[0m\u001b[1;33m(\u001b[0m\u001b[0mkwds_defaults\u001b[0m\u001b[1;33m)\u001b[0m\u001b[1;33m\u001b[0m\u001b[1;33m\u001b[0m\u001b[0m\n\u001b[0;32m    609\u001b[0m \u001b[1;33m\u001b[0m\u001b[0m\n\u001b[1;32m--> 610\u001b[1;33m     \u001b[1;32mreturn\u001b[0m \u001b[0m_read\u001b[0m\u001b[1;33m(\u001b[0m\u001b[0mfilepath_or_buffer\u001b[0m\u001b[1;33m,\u001b[0m \u001b[0mkwds\u001b[0m\u001b[1;33m)\u001b[0m\u001b[1;33m\u001b[0m\u001b[1;33m\u001b[0m\u001b[0m\n\u001b[0m\u001b[0;32m    611\u001b[0m \u001b[1;33m\u001b[0m\u001b[0m\n\u001b[0;32m    612\u001b[0m \u001b[1;33m\u001b[0m\u001b[0m\n",
      "\u001b[1;32m~\\anaconda3\\lib\\site-packages\\pandas\\io\\parsers.py\u001b[0m in \u001b[0;36m_read\u001b[1;34m(filepath_or_buffer, kwds)\u001b[0m\n\u001b[0;32m    460\u001b[0m \u001b[1;33m\u001b[0m\u001b[0m\n\u001b[0;32m    461\u001b[0m     \u001b[1;31m# Create the parser.\u001b[0m\u001b[1;33m\u001b[0m\u001b[1;33m\u001b[0m\u001b[1;33m\u001b[0m\u001b[0m\n\u001b[1;32m--> 462\u001b[1;33m     \u001b[0mparser\u001b[0m \u001b[1;33m=\u001b[0m \u001b[0mTextFileReader\u001b[0m\u001b[1;33m(\u001b[0m\u001b[0mfilepath_or_buffer\u001b[0m\u001b[1;33m,\u001b[0m \u001b[1;33m**\u001b[0m\u001b[0mkwds\u001b[0m\u001b[1;33m)\u001b[0m\u001b[1;33m\u001b[0m\u001b[1;33m\u001b[0m\u001b[0m\n\u001b[0m\u001b[0;32m    463\u001b[0m \u001b[1;33m\u001b[0m\u001b[0m\n\u001b[0;32m    464\u001b[0m     \u001b[1;32mif\u001b[0m \u001b[0mchunksize\u001b[0m \u001b[1;32mor\u001b[0m \u001b[0miterator\u001b[0m\u001b[1;33m:\u001b[0m\u001b[1;33m\u001b[0m\u001b[1;33m\u001b[0m\u001b[0m\n",
      "\u001b[1;32m~\\anaconda3\\lib\\site-packages\\pandas\\io\\parsers.py\u001b[0m in \u001b[0;36m__init__\u001b[1;34m(self, f, engine, **kwds)\u001b[0m\n\u001b[0;32m    817\u001b[0m             \u001b[0mself\u001b[0m\u001b[1;33m.\u001b[0m\u001b[0moptions\u001b[0m\u001b[1;33m[\u001b[0m\u001b[1;34m\"has_index_names\"\u001b[0m\u001b[1;33m]\u001b[0m \u001b[1;33m=\u001b[0m \u001b[0mkwds\u001b[0m\u001b[1;33m[\u001b[0m\u001b[1;34m\"has_index_names\"\u001b[0m\u001b[1;33m]\u001b[0m\u001b[1;33m\u001b[0m\u001b[1;33m\u001b[0m\u001b[0m\n\u001b[0;32m    818\u001b[0m \u001b[1;33m\u001b[0m\u001b[0m\n\u001b[1;32m--> 819\u001b[1;33m         \u001b[0mself\u001b[0m\u001b[1;33m.\u001b[0m\u001b[0m_engine\u001b[0m \u001b[1;33m=\u001b[0m \u001b[0mself\u001b[0m\u001b[1;33m.\u001b[0m\u001b[0m_make_engine\u001b[0m\u001b[1;33m(\u001b[0m\u001b[0mself\u001b[0m\u001b[1;33m.\u001b[0m\u001b[0mengine\u001b[0m\u001b[1;33m)\u001b[0m\u001b[1;33m\u001b[0m\u001b[1;33m\u001b[0m\u001b[0m\n\u001b[0m\u001b[0;32m    820\u001b[0m \u001b[1;33m\u001b[0m\u001b[0m\n\u001b[0;32m    821\u001b[0m     \u001b[1;32mdef\u001b[0m \u001b[0mclose\u001b[0m\u001b[1;33m(\u001b[0m\u001b[0mself\u001b[0m\u001b[1;33m)\u001b[0m\u001b[1;33m:\u001b[0m\u001b[1;33m\u001b[0m\u001b[1;33m\u001b[0m\u001b[0m\n",
      "\u001b[1;32m~\\anaconda3\\lib\\site-packages\\pandas\\io\\parsers.py\u001b[0m in \u001b[0;36m_make_engine\u001b[1;34m(self, engine)\u001b[0m\n\u001b[0;32m   1048\u001b[0m             )\n\u001b[0;32m   1049\u001b[0m         \u001b[1;31m# error: Too many arguments for \"ParserBase\"\u001b[0m\u001b[1;33m\u001b[0m\u001b[1;33m\u001b[0m\u001b[1;33m\u001b[0m\u001b[0m\n\u001b[1;32m-> 1050\u001b[1;33m         \u001b[1;32mreturn\u001b[0m \u001b[0mmapping\u001b[0m\u001b[1;33m[\u001b[0m\u001b[0mengine\u001b[0m\u001b[1;33m]\u001b[0m\u001b[1;33m(\u001b[0m\u001b[0mself\u001b[0m\u001b[1;33m.\u001b[0m\u001b[0mf\u001b[0m\u001b[1;33m,\u001b[0m \u001b[1;33m**\u001b[0m\u001b[0mself\u001b[0m\u001b[1;33m.\u001b[0m\u001b[0moptions\u001b[0m\u001b[1;33m)\u001b[0m  \u001b[1;31m# type: ignore[call-arg]\u001b[0m\u001b[1;33m\u001b[0m\u001b[1;33m\u001b[0m\u001b[0m\n\u001b[0m\u001b[0;32m   1051\u001b[0m \u001b[1;33m\u001b[0m\u001b[0m\n\u001b[0;32m   1052\u001b[0m     \u001b[1;32mdef\u001b[0m \u001b[0m_failover_to_python\u001b[0m\u001b[1;33m(\u001b[0m\u001b[0mself\u001b[0m\u001b[1;33m)\u001b[0m\u001b[1;33m:\u001b[0m\u001b[1;33m\u001b[0m\u001b[1;33m\u001b[0m\u001b[0m\n",
      "\u001b[1;32m~\\anaconda3\\lib\\site-packages\\pandas\\io\\parsers.py\u001b[0m in \u001b[0;36m__init__\u001b[1;34m(self, src, **kwds)\u001b[0m\n\u001b[0;32m   1865\u001b[0m \u001b[1;33m\u001b[0m\u001b[0m\n\u001b[0;32m   1866\u001b[0m         \u001b[1;31m# open handles\u001b[0m\u001b[1;33m\u001b[0m\u001b[1;33m\u001b[0m\u001b[1;33m\u001b[0m\u001b[0m\n\u001b[1;32m-> 1867\u001b[1;33m         \u001b[0mself\u001b[0m\u001b[1;33m.\u001b[0m\u001b[0m_open_handles\u001b[0m\u001b[1;33m(\u001b[0m\u001b[0msrc\u001b[0m\u001b[1;33m,\u001b[0m \u001b[0mkwds\u001b[0m\u001b[1;33m)\u001b[0m\u001b[1;33m\u001b[0m\u001b[1;33m\u001b[0m\u001b[0m\n\u001b[0m\u001b[0;32m   1868\u001b[0m         \u001b[1;32massert\u001b[0m \u001b[0mself\u001b[0m\u001b[1;33m.\u001b[0m\u001b[0mhandles\u001b[0m \u001b[1;32mis\u001b[0m \u001b[1;32mnot\u001b[0m \u001b[1;32mNone\u001b[0m\u001b[1;33m\u001b[0m\u001b[1;33m\u001b[0m\u001b[0m\n\u001b[0;32m   1869\u001b[0m         \u001b[1;32mfor\u001b[0m \u001b[0mkey\u001b[0m \u001b[1;32min\u001b[0m \u001b[1;33m(\u001b[0m\u001b[1;34m\"storage_options\"\u001b[0m\u001b[1;33m,\u001b[0m \u001b[1;34m\"encoding\"\u001b[0m\u001b[1;33m,\u001b[0m \u001b[1;34m\"memory_map\"\u001b[0m\u001b[1;33m,\u001b[0m \u001b[1;34m\"compression\"\u001b[0m\u001b[1;33m)\u001b[0m\u001b[1;33m:\u001b[0m\u001b[1;33m\u001b[0m\u001b[1;33m\u001b[0m\u001b[0m\n",
      "\u001b[1;32m~\\anaconda3\\lib\\site-packages\\pandas\\io\\parsers.py\u001b[0m in \u001b[0;36m_open_handles\u001b[1;34m(self, src, kwds)\u001b[0m\n\u001b[0;32m   1360\u001b[0m         \u001b[0mLet\u001b[0m \u001b[0mthe\u001b[0m \u001b[0mreaders\u001b[0m \u001b[0mopen\u001b[0m \u001b[0mIOHanldes\u001b[0m \u001b[0mafter\u001b[0m \u001b[0mthey\u001b[0m \u001b[0mare\u001b[0m \u001b[0mdone\u001b[0m \u001b[1;32mwith\u001b[0m \u001b[0mtheir\u001b[0m \u001b[0mpotential\u001b[0m \u001b[0mraises\u001b[0m\u001b[1;33m.\u001b[0m\u001b[1;33m\u001b[0m\u001b[1;33m\u001b[0m\u001b[0m\n\u001b[0;32m   1361\u001b[0m         \"\"\"\n\u001b[1;32m-> 1362\u001b[1;33m         self.handles = get_handle(\n\u001b[0m\u001b[0;32m   1363\u001b[0m             \u001b[0msrc\u001b[0m\u001b[1;33m,\u001b[0m\u001b[1;33m\u001b[0m\u001b[1;33m\u001b[0m\u001b[0m\n\u001b[0;32m   1364\u001b[0m             \u001b[1;34m\"r\"\u001b[0m\u001b[1;33m,\u001b[0m\u001b[1;33m\u001b[0m\u001b[1;33m\u001b[0m\u001b[0m\n",
      "\u001b[1;32m~\\anaconda3\\lib\\site-packages\\pandas\\io\\common.py\u001b[0m in \u001b[0;36mget_handle\u001b[1;34m(path_or_buf, mode, encoding, compression, memory_map, is_text, errors, storage_options)\u001b[0m\n\u001b[0;32m    640\u001b[0m                 \u001b[0merrors\u001b[0m \u001b[1;33m=\u001b[0m \u001b[1;34m\"replace\"\u001b[0m\u001b[1;33m\u001b[0m\u001b[1;33m\u001b[0m\u001b[0m\n\u001b[0;32m    641\u001b[0m             \u001b[1;31m# Encoding\u001b[0m\u001b[1;33m\u001b[0m\u001b[1;33m\u001b[0m\u001b[1;33m\u001b[0m\u001b[0m\n\u001b[1;32m--> 642\u001b[1;33m             handle = open(\n\u001b[0m\u001b[0;32m    643\u001b[0m                 \u001b[0mhandle\u001b[0m\u001b[1;33m,\u001b[0m\u001b[1;33m\u001b[0m\u001b[1;33m\u001b[0m\u001b[0m\n\u001b[0;32m    644\u001b[0m                 \u001b[0mioargs\u001b[0m\u001b[1;33m.\u001b[0m\u001b[0mmode\u001b[0m\u001b[1;33m,\u001b[0m\u001b[1;33m\u001b[0m\u001b[1;33m\u001b[0m\u001b[0m\n",
      "\u001b[1;31mFileNotFoundError\u001b[0m: [Errno 2] No such file or directory: 'sample dataset/president_heights.csv'"
     ]
    }
   ],
   "source": [
    "data = pd.read_csv(\"sample dataset/president_heights.csv\")\n",
    "data.head(5)"
   ]
  },
  {
   "cell_type": "code",
   "execution_count": null,
   "id": "7c626bf5",
   "metadata": {
    "colab": {
     "base_uri": "https://localhost:8080/"
    },
    "id": "7c626bf5",
    "outputId": "34fa1918-9e19-4f8f-86a2-fd935cc76b8a"
   },
   "outputs": [],
   "source": [
    "heights = np.array(data['height(cm)'])\n",
    "print(heights)"
   ]
  },
  {
   "cell_type": "code",
   "execution_count": null,
   "id": "3deaf9b7",
   "metadata": {
    "colab": {
     "base_uri": "https://localhost:8080/"
    },
    "id": "3deaf9b7",
    "outputId": "7dfd895a-d905-49b1-e32b-957c1b3333a6"
   },
   "outputs": [],
   "source": [
    "order = np.array(data['order'])\n",
    "print(order)"
   ]
  },
  {
   "cell_type": "code",
   "execution_count": null,
   "id": "9aabb008",
   "metadata": {
    "colab": {
     "base_uri": "https://localhost:8080/"
    },
    "id": "9aabb008",
    "outputId": "0febad5f-0cc2-4b77-95f3-28ed2006073f"
   },
   "outputs": [],
   "source": [
    "print(np.max(heights))\n",
    "print(np.min(heights))\n",
    "print(data.ndim)\n",
    "print(data.size)\n",
    "print(data.shape)\n",
    "print(data.ndim)"
   ]
  },
  {
   "cell_type": "code",
   "execution_count": null,
   "id": "b19381f6",
   "metadata": {
    "colab": {
     "base_uri": "https://localhost:8080/"
    },
    "id": "b19381f6",
    "outputId": "ba4b781b-a6ad-4636-d5ef-946ba301bcf8"
   },
   "outputs": [],
   "source": [
    "print(\"Mean of heights : \",np.mean(heights))\n",
    "print(\"median of heights : \",np.median(heights))\n",
    "print(\"standard deviation of standard heights : \",np.std(heights))"
   ]
  },
  {
   "cell_type": "markdown",
   "id": "be87a088",
   "metadata": {
    "id": "be87a088"
   },
   "source": [
    "### percentile\n",
    "0th percentile is the minimum height\n",
    "100th percentile is the max height\n"
   ]
  },
  {
   "cell_type": "code",
   "execution_count": null,
   "id": "ac1f79bc",
   "metadata": {
    "colab": {
     "base_uri": "https://localhost:8080/"
    },
    "id": "ac1f79bc",
    "outputId": "a3a10657-6cae-4081-88fa-a19b832560ed"
   },
   "outputs": [],
   "source": [
    "print(\"0th percentile of height : \",np.percentile(heights,0))\n",
    "print(\"25th percentile of height : \",np.percentile(heights,25))\n",
    "print(\"50th percentile of height(median) : \",np.percentile(heights,50))\n",
    "print(\"100th percentile of height : \",np.percentile(heights,100))"
   ]
  },
  {
   "cell_type": "code",
   "execution_count": null,
   "id": "f3212b44",
   "metadata": {
    "colab": {
     "base_uri": "https://localhost:8080/",
     "height": 489
    },
    "id": "f3212b44",
    "outputId": "877c6f7a-ea05-4eca-d406-61ce2b9b80d7"
   },
   "outputs": [],
   "source": [
    "plt.hist(order)\n",
    "plt.title(\"US president heights\")\n",
    "plt.xlabel('heights')\n",
    "plt.ylabel('number')"
   ]
  },
  {
   "cell_type": "markdown",
   "id": "c7127318",
   "metadata": {
    "id": "c7127318"
   },
   "source": [
    "## Broadcasting\n",
    "Earlier we saw that numpies universal function(Ufunctions) could be used to vectorize and reduce the slowness in python loops. Another way to vectorize is broadcasting where in the operations are done on dimension basis. Adding a[0,0] to b[0,0]."
   ]
  },
  {
   "cell_type": "code",
   "execution_count": null,
   "id": "2a439d40",
   "metadata": {
    "colab": {
     "base_uri": "https://localhost:8080/"
    },
    "id": "2a439d40",
    "outputId": "3fd0565a-269c-4c03-b2f5-52b4f98305b2"
   },
   "outputs": [],
   "source": [
    "a=np.array([0,1,2])\n",
    "b = np.array([3,4,5])\n",
    "a+b"
   ]
  },
  {
   "cell_type": "markdown",
   "id": "c404a473",
   "metadata": {
    "id": "c404a473"
   },
   "source": [
    "It also allows binary operations to be performed on different sizes using a scalar by considering the scalar has 0 dimension."
   ]
  },
  {
   "cell_type": "code",
   "execution_count": null,
   "id": "74432d9e",
   "metadata": {
    "colab": {
     "base_uri": "https://localhost:8080/"
    },
    "id": "74432d9e",
    "outputId": "4ecb427c-98f2-45d9-907b-0e6b51c52133"
   },
   "outputs": [],
   "source": [
    "a+5"
   ]
  },
  {
   "cell_type": "code",
   "execution_count": null,
   "id": "7de37c6f",
   "metadata": {
    "colab": {
     "base_uri": "https://localhost:8080/"
    },
    "id": "7de37c6f",
    "outputId": "6538fa7e-2535-4e3e-b2bf-67ef01d0d2f1"
   },
   "outputs": [],
   "source": [
    "M = np.ones((3,3))\n",
    "print(M)\n",
    "M+a"
   ]
  },
  {
   "cell_type": "markdown",
   "id": "ed46f22d",
   "metadata": {
    "id": "ed46f22d"
   },
   "source": [
    "# Rules for broadcasting\n",
    "1. If two arrays differ in the dimensions then the lower one would be padded by 1 by the leading(left) side.\n",
    "2. If two arrays differ in dimension, the array with dimension 1 is stretched to match the other shape.\n",
    "3. If in any dimension the size does not match we get an error."
   ]
  },
  {
   "cell_type": "markdown",
   "id": "94e1f3b6",
   "metadata": {
    "id": "94e1f3b6"
   },
   "source": [
    "# Comparison operators as ufunctions\n",
    "As we have seen ufunctions for arithmetic operations, we also have ufunctions for comparison. Normally when we use comparison operators it iterates through every element and makes it slow. In order to prevent that we use the ufunctions\\\n",
    "Operator Equivalent ufunc\\\n",
    "== np.equal\\\n",
    "!= np.not_equal\\\n",
    "< np.less\\\n",
    "<= np.less_equal\\\n",
    "\\> np.greater\\\n",
    "\\>= np.greater_equal"
   ]
  },
  {
   "cell_type": "code",
   "execution_count": null,
   "id": "3f793470",
   "metadata": {
    "colab": {
     "base_uri": "https://localhost:8080/"
    },
    "id": "3f793470",
    "outputId": "a2b94d14-be58-4921-d0ee-fb243db02475"
   },
   "outputs": [],
   "source": [
    "x=np.array([1,2,3,4,5])\n",
    "print(x<3)\n",
    "print(x>3)\n",
    "print(x<=3)\n",
    "print(x>=3)\n",
    "print(x==3)\n",
    "print(x!=3)"
   ]
  },
  {
   "cell_type": "code",
   "execution_count": null,
   "id": "f694e258",
   "metadata": {
    "colab": {
     "base_uri": "https://localhost:8080/"
    },
    "id": "f694e258",
    "outputId": "05757e98-d051-4455-a7e0-0f281b317d5d"
   },
   "outputs": [],
   "source": [
    "print(np.less(x,3))\n",
    "print(np.greater(x,3))\n",
    "print(np.greater_equal(x,3))\n",
    "print(np.less_equal(x,3))\n",
    "print(np.equal(x,3))\n",
    "print(np.not_equal(x,3))"
   ]
  },
  {
   "cell_type": "markdown",
   "id": "eba1946e",
   "metadata": {
    "id": "eba1946e"
   },
   "source": [
    "RandomState is same as seed."
   ]
  },
  {
   "cell_type": "code",
   "execution_count": null,
   "id": "63158d5e",
   "metadata": {
    "colab": {
     "base_uri": "https://localhost:8080/"
    },
    "id": "63158d5e",
    "outputId": "056972cf-4a1d-4435-b4b0-2106e0d5d985"
   },
   "outputs": [],
   "source": [
    "rng = np.random.RandomState(0)\n",
    "print(rng)"
   ]
  },
  {
   "cell_type": "markdown",
   "id": "d1f35c31",
   "metadata": {
    "id": "d1f35c31"
   },
   "source": [
    "Comparision Ufunction for 2d array."
   ]
  },
  {
   "cell_type": "code",
   "execution_count": null,
   "id": "a96bd111",
   "metadata": {
    "colab": {
     "base_uri": "https://localhost:8080/"
    },
    "id": "a96bd111",
    "outputId": "5de52913-f1af-4b5a-c527-96f7ecb6189b"
   },
   "outputs": [],
   "source": [
    "x = np.random.randint(10,size=(3,4))\n",
    "print(x,end='\\n')\n",
    "np.less(x,3)"
   ]
  },
  {
   "cell_type": "markdown",
   "id": "0879b109",
   "metadata": {
    "id": "0879b109"
   },
   "source": [
    "count_nonzero() used to count"
   ]
  },
  {
   "cell_type": "code",
   "execution_count": null,
   "id": "de0b9452",
   "metadata": {
    "colab": {
     "base_uri": "https://localhost:8080/"
    },
    "id": "de0b9452",
    "outputId": "e153940a-5740-4205-85de-de41ab42c635"
   },
   "outputs": [],
   "source": [
    "np.count_nonzero(np.less(x,3))"
   ]
  },
  {
   "cell_type": "markdown",
   "id": "160dfa13",
   "metadata": {
    "id": "160dfa13"
   },
   "source": [
    "We can also do the same with sum. The advantage is it can be used along rows and columns"
   ]
  },
  {
   "cell_type": "code",
   "execution_count": null,
   "id": "a6624c1d",
   "metadata": {
    "colab": {
     "base_uri": "https://localhost:8080/"
    },
    "id": "a6624c1d",
    "outputId": "bc390fda-b22d-4d97-b665-ab7087b43533"
   },
   "outputs": [],
   "source": [
    "print(\"vertical axis : \",np.sum(np.less(x,3),axis=0),end=\"\\n\")\n",
    "print(\"horizontal axis : \",np.sum(np.less(x,3),axis=1))\n"
   ]
  },
  {
   "cell_type": "markdown",
   "id": "fec738c4",
   "metadata": {
    "id": "fec738c4"
   },
   "source": [
    "np.any() to find if any value satisfies the condition \\\n",
    "np.all() to find if all value satisfies the condition\n",
    "They can be used in particular axis aswell."
   ]
  },
  {
   "cell_type": "code",
   "execution_count": null,
   "id": "4e02bb7e",
   "metadata": {
    "colab": {
     "base_uri": "https://localhost:8080/"
    },
    "id": "4e02bb7e",
    "outputId": "9a5d2410-df4d-4ba3-c936-d5d25a603f81"
   },
   "outputs": [],
   "source": [
    "print(np.any(x>12))\n",
    "print(np.all(x<0))\n",
    "print(np.any(x<3,axis=0))\n",
    "print(np.any(x<3,axis=1))"
   ]
  },
  {
   "cell_type": "code",
   "execution_count": null,
   "id": "64b32dcb",
   "metadata": {
    "colab": {
     "base_uri": "https://localhost:8080/"
    },
    "id": "64b32dcb",
    "outputId": "b78ac127-b387-4034-b84b-972a31afb062"
   },
   "outputs": [],
   "source": [
    "rainfall = pd.read_csv(\"sample dataset/Seattle2014.csv\")['PRCP'].values\n",
    "rainfall.shape\n",
    "inches = rainfall / 254 #1/10mm -> inches\n",
    "inches.shape"
   ]
  },
  {
   "cell_type": "code",
   "execution_count": null,
   "id": "d5604ad4",
   "metadata": {
    "colab": {
     "base_uri": "https://localhost:8080/",
     "height": 673
    },
    "id": "d5604ad4",
    "outputId": "e83abf9f-1ba0-48de-b9f4-40c802057cf4"
   },
   "outputs": [],
   "source": [
    "plt.hist(inches,40)"
   ]
  },
  {
   "cell_type": "code",
   "execution_count": null,
   "id": "938e0e06",
   "metadata": {
    "colab": {
     "base_uri": "https://localhost:8080/"
    },
    "id": "938e0e06",
    "outputId": "d35132f7-b968-42fe-c70a-6b8276c87d40"
   },
   "outputs": [],
   "source": [
    "print(\"No of days without rain : \",np.sum(inches == 0))\n",
    "print(\"No of days with rain : \",np.sum(inches > 0))\n",
    "print(\"No of days with rain more than 0.5 inch : \",np.sum(inches > 0.5))\n",
    "print(\"No of days with rainfall more than 0.5 inch and less than 1 inch : \",np.sum((inches>0.5)&(inches<1.0)))"
   ]
  },
  {
   "cell_type": "code",
   "execution_count": null,
   "id": "dfd8aadd",
   "metadata": {
    "id": "dfd8aadd"
   },
   "outputs": [],
   "source": []
  }
 ],
 "metadata": {
  "colab": {
   "include_colab_link": true,
   "provenance": []
  },
  "kernelspec": {
   "display_name": "Python 3",
   "language": "python",
   "name": "python3"
  },
  "language_info": {
   "codemirror_mode": {
    "name": "ipython",
    "version": 3
   },
   "file_extension": ".py",
   "mimetype": "text/x-python",
   "name": "python",
   "nbconvert_exporter": "python",
   "pygments_lexer": "ipython3",
   "version": "3.8.8"
  }
 },
 "nbformat": 4,
 "nbformat_minor": 5
}
