{
  "cells": [
    {
      "cell_type": "markdown",
      "metadata": {
        "id": "view-in-github",
        "colab_type": "text"
      },
      "source": [
        "<a href=\"https://colab.research.google.com/github/KeerthivsasanP/Jupyter-notebook/blob/main/Basics_of_Ipython.ipynb\" target=\"_parent\"><img src=\"https://colab.research.google.com/assets/colab-badge.svg\" alt=\"Open In Colab\"/></a>"
      ]
    },
    {
      "cell_type": "markdown",
      "id": "0caa4421",
      "metadata": {
        "id": "0caa4421"
      },
      "source": [
        "# Heading 1\n",
        "## Heading 2\n",
        "### Heading 3\n",
        "#### Heading 4\n",
        "##### Heading 5\n",
        "###### Heading 6\n",
        "\n",
        "In a markdown cell use backslash to give linebreak and double backslash to print the backslash"
      ]
    },
    {
      "cell_type": "markdown",
      "id": "72b2eff4",
      "metadata": {
        "id": "72b2eff4"
      },
      "source": [
        "## Help using help()"
      ]
    },
    {
      "cell_type": "code",
      "execution_count": null,
      "id": "6aac3590",
      "metadata": {
        "id": "6aac3590",
        "outputId": "df916f50-a72b-4992-add2-3fad896d02f6"
      },
      "outputs": [
        {
          "name": "stdout",
          "output_type": "stream",
          "text": [
            "Help on built-in function len in module builtins:\n",
            "\n",
            "len(obj, /)\n",
            "    Return the number of items in a container.\n",
            "\n"
          ]
        }
      ],
      "source": [
        "help(len)"
      ]
    },
    {
      "cell_type": "markdown",
      "id": "d476923b",
      "metadata": {
        "id": "d476923b"
      },
      "source": [
        "## help using ? at the end (gives description in pop up)"
      ]
    },
    {
      "cell_type": "code",
      "execution_count": null,
      "id": "629ccd4d",
      "metadata": {
        "id": "629ccd4d"
      },
      "outputs": [],
      "source": [
        "len?"
      ]
    },
    {
      "cell_type": "markdown",
      "id": "28cded65",
      "metadata": {
        "id": "28cded65"
      },
      "source": [
        "## use ?? to get help with function definition written in python\n",
        "### if function def not printed then written and compiled in other language"
      ]
    },
    {
      "cell_type": "code",
      "execution_count": null,
      "id": "d99b8a5f",
      "metadata": {
        "id": "d99b8a5f",
        "outputId": "4613dd4c-2a69-4c2f-8a8e-d43f53a66b93"
      },
      "outputs": [
        {
          "data": {
            "text/plain": [
              "4"
            ]
          },
          "execution_count": 5,
          "metadata": {},
          "output_type": "execute_result"
        }
      ],
      "source": [
        "def square(a):\n",
        "    \"Return square of a\"\n",
        "    return a**2\n",
        "a=2\n",
        "square(a)"
      ]
    },
    {
      "cell_type": "code",
      "execution_count": null,
      "id": "26709c53",
      "metadata": {
        "id": "26709c53"
      },
      "outputs": [],
      "source": [
        "square??"
      ]
    },
    {
      "cell_type": "markdown",
      "id": "44256ef2",
      "metadata": {
        "id": "44256ef2"
      },
      "source": [
        "## use < tab > for auto completion and suggestion\n",
        "### E.g a.< tab > suggests all the possible option and function that can be used with variable a. Also dunder options are not visible"
      ]
    },
    {
      "cell_type": "markdown",
      "id": "9f078a12",
      "metadata": {
        "id": "9f078a12"
      },
      "source": [
        "# To see the output of particular line (In[n]:)"
      ]
    },
    {
      "cell_type": "code",
      "execution_count": null,
      "id": "d1ddeeaf",
      "metadata": {
        "id": "d1ddeeaf",
        "outputId": "f263c31d-7905-4dd3-fb8a-8debba0027b8"
      },
      "outputs": [
        {
          "data": {
            "text/plain": [
              "4"
            ]
          },
          "execution_count": 9,
          "metadata": {},
          "output_type": "execute_result"
        }
      ],
      "source": [
        "_5"
      ]
    },
    {
      "cell_type": "code",
      "execution_count": null,
      "id": "6932abf3",
      "metadata": {
        "id": "6932abf3",
        "outputId": "ecde0df5-5281-4405-9ccf-581f06b976b7"
      },
      "outputs": [
        {
          "data": {
            "text/plain": [
              "4"
            ]
          },
          "execution_count": 11,
          "metadata": {},
          "output_type": "execute_result"
        }
      ],
      "source": [
        "Out[5]"
      ]
    },
    {
      "cell_type": "markdown",
      "id": "ec0e0083",
      "metadata": {
        "id": "ec0e0083"
      },
      "source": [
        "# Using shell commands\n",
        "use ! as prefix to inbuilt commands of the OS"
      ]
    },
    {
      "cell_type": "code",
      "execution_count": null,
      "id": "7dc58deb",
      "metadata": {
        "id": "7dc58deb",
        "outputId": "aed7ee1f-bc33-440f-abca-78c46ee11034"
      },
      "outputs": [
        {
          "name": "stdout",
          "output_type": "stream",
          "text": [
            "\"hello\"\n"
          ]
        }
      ],
      "source": [
        "!echo \"hello\""
      ]
    },
    {
      "cell_type": "code",
      "execution_count": null,
      "id": "cdf6d33c",
      "metadata": {
        "id": "cdf6d33c",
        "outputId": "4d3da541-f34a-4394-e5c7-e051682a2ca6"
      },
      "outputs": [
        {
          "data": {
            "text/plain": [
              "'C:\\\\Users\\\\Admin\\\\AI and ML practice'"
            ]
          },
          "execution_count": 13,
          "metadata": {},
          "output_type": "execute_result"
        }
      ],
      "source": [
        "pwd"
      ]
    },
    {
      "cell_type": "code",
      "execution_count": null,
      "id": "b1a5a879",
      "metadata": {
        "id": "b1a5a879",
        "outputId": "fd246839-4d04-44ee-e90b-5082ee793b5e"
      },
      "outputs": [
        {
          "name": "stdout",
          "output_type": "stream",
          "text": [
            " Volume in drive C is SSD\n",
            " Volume Serial Number is EA18-75AB\n",
            "\n",
            " Directory of C:\\Users\\Admin\\AI and ML practice\n",
            "\n",
            "06-05-2023  23:01    <DIR>          .\n",
            "06-05-2023  23:01    <DIR>          ..\n",
            "05-05-2023  19:17    <DIR>          .ipynb_checkpoints\n",
            "06-05-2023  23:01             5,682 First note.ipynb\n",
            "               1 File(s)          5,682 bytes\n",
            "               3 Dir(s)  138,278,219,776 bytes free\n"
          ]
        }
      ],
      "source": [
        "ls"
      ]
    },
    {
      "cell_type": "code",
      "execution_count": null,
      "id": "dec540ac",
      "metadata": {
        "scrolled": false,
        "id": "dec540ac",
        "outputId": "af0a3637-1296-4574-ae07-8099315d3bb0"
      },
      "outputs": [
        {
          "name": "stdout",
          "output_type": "stream",
          "text": [
            "hello python\n"
          ]
        }
      ],
      "source": [
        "message = \"hello python\"\n",
        "!echo {message}"
      ]
    },
    {
      "cell_type": "markdown",
      "id": "f0c449bd",
      "metadata": {
        "id": "f0c449bd"
      },
      "source": [
        "# To lauch a debugger in Ipython\n",
        "Any command that starts with % are called as magic commands.\n",
        "type %debug in the line. we can use print() to see values of a variable and type quit to exit it."
      ]
    },
    {
      "cell_type": "code",
      "execution_count": null,
      "id": "0b8f8f59",
      "metadata": {
        "scrolled": false,
        "id": "0b8f8f59",
        "outputId": "69b77f72-4162-4189-b8c6-5a328783f121"
      },
      "outputs": [
        {
          "name": "stdout",
          "output_type": "stream",
          "text": [
            "> \u001b[1;32m<ipython-input-10-68e2595f74e2>\u001b[0m(1)\u001b[0;36m<module>\u001b[1;34m()\u001b[0m\n",
            "\u001b[1;32m----> 1 \u001b[1;33m\u001b[0mOut\u001b[0m\u001b[1;33m[\u001b[0m\u001b[1;36m13\u001b[0m\u001b[1;33m]\u001b[0m\u001b[1;33m\u001b[0m\u001b[1;33m\u001b[0m\u001b[0m\n",
            "\u001b[0m\n",
            "ipdb> \n",
            "ipdb> print(a)\n",
            "2\n",
            "ipdb> print(message)\n",
            "hello python\n",
            "ipdb> quit\n"
          ]
        }
      ],
      "source": [
        "%debug"
      ]
    },
    {
      "cell_type": "markdown",
      "id": "660326ac",
      "metadata": {
        "id": "660326ac"
      },
      "source": [
        "Magic command to see the time taken %time to see the time taken to execute once.\n",
        "Use %timeit to see the average after running several times for a line. And %%timeit for a cell"
      ]
    },
    {
      "cell_type": "code",
      "execution_count": null,
      "id": "ff3c04b4",
      "metadata": {
        "id": "ff3c04b4",
        "outputId": "745f623f-0ab6-4b8b-a7e2-c4d51075e38b"
      },
      "outputs": [
        {
          "name": "stdout",
          "output_type": "stream",
          "text": [
            "308 ns ± 13.2 ns per loop (mean ± std. dev. of 7 runs, 1000000 loops each)\n"
          ]
        }
      ],
      "source": [
        "L=[1,3,5,7,2,4]\n",
        "%timeit L.sort()"
      ]
    },
    {
      "cell_type": "code",
      "execution_count": null,
      "id": "873b6b55",
      "metadata": {
        "id": "873b6b55",
        "outputId": "ca248e50-9f2c-4196-adb6-936b363ae43f"
      },
      "outputs": [
        {
          "name": "stdout",
          "output_type": "stream",
          "text": [
            "Wall time: 0 ns\n"
          ]
        }
      ],
      "source": [
        "L=[1,3,5,7,2,4]\n",
        "%time L.sort()"
      ]
    },
    {
      "cell_type": "code",
      "execution_count": null,
      "id": "3a33a274",
      "metadata": {
        "id": "3a33a274",
        "outputId": "f954b1fc-40dd-47f7-81a5-88a0909db93c"
      },
      "outputs": [
        {
          "name": "stdout",
          "output_type": "stream",
          "text": [
            "1.7 µs ± 63.1 ns per loop (mean ± std. dev. of 7 runs, 1000000 loops each)\n"
          ]
        }
      ],
      "source": [
        "%%timeit sum=0\n",
        "for i in range(5):\n",
        "    sum+=i"
      ]
    },
    {
      "cell_type": "code",
      "execution_count": null,
      "id": "79467bba",
      "metadata": {
        "id": "79467bba"
      },
      "outputs": [],
      "source": []
    }
  ],
  "metadata": {
    "kernelspec": {
      "display_name": "Python 3",
      "language": "python",
      "name": "python3"
    },
    "language_info": {
      "codemirror_mode": {
        "name": "ipython",
        "version": 3
      },
      "file_extension": ".py",
      "mimetype": "text/x-python",
      "name": "python",
      "nbconvert_exporter": "python",
      "pygments_lexer": "ipython3",
      "version": "3.8.8"
    },
    "colab": {
      "provenance": [],
      "include_colab_link": true
    }
  },
  "nbformat": 4,
  "nbformat_minor": 5
}