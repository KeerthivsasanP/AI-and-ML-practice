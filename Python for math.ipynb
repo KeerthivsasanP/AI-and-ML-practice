{
 "cells": [
  {
   "cell_type": "code",
   "execution_count": 40,
   "id": "b874a564",
   "metadata": {},
   "outputs": [],
   "source": [
    "from IPython.display import display,Math\n",
    "import sympy as sym\n",
    "import numpy as np"
   ]
  },
  {
   "cell_type": "markdown",
   "id": "6bfb4744",
   "metadata": {},
   "source": [
    "# Latex coding\n",
    "Displaying the output in the presentable form."
   ]
  },
  {
   "cell_type": "code",
   "execution_count": 2,
   "id": "eb00b7d8",
   "metadata": {},
   "outputs": [
    {
     "data": {
      "text/plain": [
       "'3 + 4 = 7'"
      ]
     },
     "metadata": {},
     "output_type": "display_data"
    }
   ],
   "source": [
    "display('3 + 4 = 7')"
   ]
  },
  {
   "cell_type": "code",
   "execution_count": 3,
   "id": "a2b4e764",
   "metadata": {},
   "outputs": [
    {
     "data": {
      "text/latex": [
       "$\\displaystyle 3 + 4 = 7$"
      ],
      "text/plain": [
       "<IPython.core.display.Math object>"
      ]
     },
     "metadata": {},
     "output_type": "display_data"
    }
   ],
   "source": [
    "display(Math('%g + %g = %g'%(3,4,3+4)))"
   ]
  },
  {
   "cell_type": "markdown",
   "id": "4fc209e9",
   "metadata": {},
   "source": [
    "## frac"
   ]
  },
  {
   "cell_type": "code",
   "execution_count": 4,
   "id": "160dc4ad",
   "metadata": {},
   "outputs": [
    {
     "data": {
      "text/latex": [
       "$\\displaystyle \\frac{3}{4} = 0.75$"
      ],
      "text/plain": [
       "<IPython.core.display.Math object>"
      ]
     },
     "metadata": {},
     "output_type": "display_data"
    }
   ],
   "source": [
    "x=3\n",
    "y=4\n",
    "display(Math(\"\\\\frac{%g}{%g} = %g\"%(x,y,x/y)))"
   ]
  },
  {
   "cell_type": "markdown",
   "id": "703ff356",
   "metadata": {},
   "source": [
    "## times"
   ]
  },
  {
   "cell_type": "code",
   "execution_count": 5,
   "id": "f81e34d2",
   "metadata": {},
   "outputs": [
    {
     "data": {
      "text/latex": [
       "$\\displaystyle 3 \\times 4$"
      ],
      "text/plain": [
       "<IPython.core.display.Math object>"
      ]
     },
     "metadata": {},
     "output_type": "display_data"
    }
   ],
   "source": [
    "display(Math('%g \\\\times %g'%(x,y)))"
   ]
  },
  {
   "cell_type": "code",
   "execution_count": 6,
   "id": "8ecc5bc8",
   "metadata": {},
   "outputs": [
    {
     "data": {
      "text/latex": [
       "$\\displaystyle 3x(4+y)= 42$"
      ],
      "text/plain": [
       "<IPython.core.display.Math object>"
      ]
     },
     "metadata": {},
     "output_type": "display_data"
    },
    {
     "data": {
      "text/latex": [
       "$\\displaystyle 3 \\times 7 (4 + -2) = 42$"
      ],
      "text/plain": [
       "<IPython.core.display.Math object>"
      ]
     },
     "metadata": {},
     "output_type": "display_data"
    }
   ],
   "source": [
    "x = 7\n",
    "y = -2\n",
    "z = 5\n",
    "answer = (3*x)*(4+y)\n",
    "display(Math('3x(4+y)= %g'%(answer)))\n",
    "display(Math('3 \\\\times %g (4 + %g) = %g'%(x,y,answer)))"
   ]
  },
  {
   "cell_type": "code",
   "execution_count": 7,
   "id": "03c109dd",
   "metadata": {},
   "outputs": [
    {
     "data": {
      "text/latex": [
       "$\\displaystyle -y-\\frac{x+3}{z} = 0$"
      ],
      "text/plain": [
       "<IPython.core.display.Math object>"
      ]
     },
     "metadata": {},
     "output_type": "display_data"
    },
    {
     "data": {
      "text/latex": [
       "$\\displaystyle --2-\\frac{7+3}{5} = 0$"
      ],
      "text/plain": [
       "<IPython.core.display.Math object>"
      ]
     },
     "metadata": {},
     "output_type": "display_data"
    }
   ],
   "source": [
    "answer = (-y-((x+3)/z))\n",
    "display(Math('-y-\\\\frac{x+3}{z} = %g'%(answer)))\n",
    "display(Math('-%g-\\\\frac{%g+3}{%g} = %g'%(y,x,z,answer)))"
   ]
  },
  {
   "cell_type": "markdown",
   "id": "65305eb9",
   "metadata": {},
   "source": [
    "## Exponents"
   ]
  },
  {
   "cell_type": "code",
   "execution_count": 8,
   "id": "ace907ae",
   "metadata": {},
   "outputs": [
    {
     "name": "stdout",
     "output_type": "stream",
     "text": [
      "81\n"
     ]
    }
   ],
   "source": [
    "print(3**4)"
   ]
  },
  {
   "cell_type": "code",
   "execution_count": 9,
   "id": "9ab375c5",
   "metadata": {},
   "outputs": [
    {
     "data": {
      "text/latex": [
       "$\\displaystyle 3^4 = 81$"
      ],
      "text/plain": [
       "<IPython.core.display.Math object>"
      ]
     },
     "metadata": {},
     "output_type": "display_data"
    }
   ],
   "source": [
    "display(Math('3^4 = %g'%(3**4)))"
   ]
  },
  {
   "cell_type": "code",
   "execution_count": 10,
   "id": "09286135",
   "metadata": {},
   "outputs": [
    {
     "data": {
      "text/latex": [
       "$\\displaystyle x^\\frac{3}{4}\\times 4^y = 3933.09$"
      ],
      "text/plain": [
       "<IPython.core.display.Math object>"
      ]
     },
     "metadata": {},
     "output_type": "display_data"
    }
   ],
   "source": [
    "x=5\n",
    "y=5.1\n",
    "ans = x**(3/4) * 4**y\n",
    "display(Math('x^\\\\frac{3}{4}\\\\times 4^y = %g'%(ans)))"
   ]
  },
  {
   "cell_type": "code",
   "execution_count": 11,
   "id": "08f55d5a",
   "metadata": {},
   "outputs": [
    {
     "data": {
      "text/latex": [
       "$\\displaystyle \\frac {3^3}{x^y} = 0.00735558$"
      ],
      "text/plain": [
       "<IPython.core.display.Math object>"
      ]
     },
     "metadata": {},
     "output_type": "display_data"
    }
   ],
   "source": [
    "ans = 3**3 / x**y\n",
    "display(Math('\\\\frac {3^3}{x^y} = %g'%ans))"
   ]
  },
  {
   "cell_type": "code",
   "execution_count": 12,
   "id": "d4ac2f4d",
   "metadata": {},
   "outputs": [
    {
     "data": {
      "text/latex": [
       "$\\displaystyle 10^{x-4} = 10$"
      ],
      "text/plain": [
       "<IPython.core.display.Math object>"
      ]
     },
     "metadata": {},
     "output_type": "display_data"
    }
   ],
   "source": [
    "ans = 10**(x-4)\n",
    "display(Math('10^{x-4} = %g'%ans))"
   ]
  },
  {
   "cell_type": "code",
   "execution_count": 13,
   "id": "0a7bdeda",
   "metadata": {},
   "outputs": [
    {
     "name": "stdout",
     "output_type": "stream",
     "text": [
      "2 to the power 0 is 1\n",
      "2 to the power 1 is 2\n",
      "2 to the power 2 is 4\n",
      "2 to the power 3 is 8\n",
      "2 to the power 4 is 16\n",
      "2 to the power 5 is 32\n"
     ]
    }
   ],
   "source": [
    "for i in range(6):\n",
    "    num = 2**i\n",
    "    print(f\"2 to the power {i} is {num}\")"
   ]
  },
  {
   "cell_type": "code",
   "execution_count": 14,
   "id": "392cf879",
   "metadata": {},
   "outputs": [
    {
     "data": {
      "text/latex": [
       "$\\displaystyle (4\\times5)/(7+3)=2$"
      ],
      "text/plain": [
       "<IPython.core.display.Math object>"
      ]
     },
     "metadata": {},
     "output_type": "display_data"
    }
   ],
   "source": [
    "ans=int((4*5)/(7+3))\n",
    "display(Math(f\"(4\\\\times5)/(7+3)={ans}\"))"
   ]
  },
  {
   "cell_type": "markdown",
   "id": "db3b1d2d",
   "metadata": {},
   "source": []
  },
  {
   "cell_type": "markdown",
   "id": "9b0998b3",
   "metadata": {},
   "source": [
    "# Absolute value\n",
    "Absolute value is the the distance of a value from origin"
   ]
  },
  {
   "cell_type": "code",
   "execution_count": 15,
   "id": "3e860042",
   "metadata": {},
   "outputs": [
    {
     "name": "stdout",
     "output_type": "stream",
     "text": [
      "35\n"
     ]
    }
   ],
   "source": [
    "abs(-4)\n",
    "a = -35\n",
    "print(abs(a))"
   ]
  },
  {
   "cell_type": "markdown",
   "id": "9395b7c5",
   "metadata": {},
   "source": [
    "# Interger division and Modulus operator "
   ]
  },
  {
   "cell_type": "code",
   "execution_count": 16,
   "id": "b623c0b3",
   "metadata": {},
   "outputs": [
    {
     "name": "stdout",
     "output_type": "stream",
     "text": [
      "3.3333333333333335\n",
      "3\n"
     ]
    }
   ],
   "source": [
    "a = 10/3\n",
    "print(a)\n",
    "print(int(a))"
   ]
  },
  {
   "cell_type": "code",
   "execution_count": 17,
   "id": "4bc31fbf",
   "metadata": {},
   "outputs": [
    {
     "name": "stdout",
     "output_type": "stream",
     "text": [
      "1\n"
     ]
    }
   ],
   "source": [
    "a = 10 % 3\n",
    "print(a)"
   ]
  },
  {
   "cell_type": "code",
   "execution_count": 18,
   "id": "22cc1145",
   "metadata": {},
   "outputs": [
    {
     "name": "stdout",
     "output_type": "stream",
     "text": [
      "-5 is an odd  number\n",
      "-4 is an even number\n",
      "-3 is an odd  number\n",
      "-2 is an even number\n",
      "-1 is an odd  number\n",
      " 0 is an even number\n",
      " 1 is an odd  number\n",
      " 2 is an even number\n",
      " 3 is an odd  number\n",
      " 4 is an even number\n",
      " 5 is an odd  number\n"
     ]
    }
   ],
   "source": [
    "for i in range(-5,6):\n",
    "    if i>=0:\n",
    "        firstchar = \" \"\n",
    "    else:\n",
    "        firstchar = \"\"\n",
    "    if i%2 == 0:\n",
    "        print(f\"{firstchar}{i} is an even number\")\n",
    "    else:\n",
    "        print(f\"{firstchar}{i} is an odd  number\")"
   ]
  },
  {
   "cell_type": "code",
   "execution_count": 25,
   "id": "6a6487ef",
   "metadata": {},
   "outputs": [
    {
     "data": {
      "text/latex": [
       "$\\displaystyle \\text{The value of } 5^{2} = 25$"
      ],
      "text/plain": [
       "<IPython.core.display.Math object>"
      ]
     },
     "metadata": {},
     "output_type": "display_data"
    },
    {
     "data": {
      "text/latex": [
       "$\\displaystyle \\text{The value of } \\frac{5}{2} = 2.5$"
      ],
      "text/plain": [
       "<IPython.core.display.Math object>"
      ]
     },
     "metadata": {},
     "output_type": "display_data"
    }
   ],
   "source": [
    "def power(x,y):\n",
    "    return x**y\n",
    "def div(x,y):\n",
    "    return x/y\n",
    "\n",
    "x = 5\n",
    "y = 2\n",
    "\n",
    "display(Math(\"\\\\text{The value of } %g^{%g} = %g\"%(x,y,power(x,y))))\n",
    "display(Math(\"\\\\text{The value of } \\\\frac{%g}{%g} = %g\"%(x,y,div(x,y))))"
   ]
  },
  {
   "cell_type": "markdown",
   "id": "d1c7fd03",
   "metadata": {},
   "source": [
    "# Sympy\n",
    "\n",
    "Representing the symbols as it is. For example writing sqrt(2) with squareroot symbol"
   ]
  },
  {
   "cell_type": "code",
   "execution_count": 36,
   "id": "47d1bc61",
   "metadata": {},
   "outputs": [],
   "source": [
    "x = sym.symbols('x')\n",
    "x\n",
    "a,b = sym.symbols('a,b')"
   ]
  },
  {
   "cell_type": "markdown",
   "id": "ac92e963",
   "metadata": {},
   "source": [
    "Now x is a symbol"
   ]
  },
  {
   "cell_type": "code",
   "execution_count": 34,
   "id": "ca4c4970",
   "metadata": {},
   "outputs": [
    {
     "data": {
      "text/latex": [
       "$\\displaystyle x + 4$"
      ],
      "text/plain": [
       "x + 4"
      ]
     },
     "metadata": {},
     "output_type": "display_data"
    }
   ],
   "source": [
    "display(x+4)"
   ]
  },
  {
   "cell_type": "code",
   "execution_count": 39,
   "id": "5a9f62b3",
   "metadata": {},
   "outputs": [
    {
     "data": {
      "text/latex": [
       "$\\displaystyle x^{4}$"
      ],
      "text/plain": [
       "x**4"
      ]
     },
     "metadata": {},
     "output_type": "display_data"
    },
    {
     "data": {
      "text/latex": [
       "$\\displaystyle \\frac{x}{b}$"
      ],
      "text/plain": [
       "x/b"
      ]
     },
     "metadata": {},
     "output_type": "display_data"
    }
   ],
   "source": [
    "display(x**4)\n",
    "display(x/b)"
   ]
  },
  {
   "cell_type": "code",
   "execution_count": 47,
   "id": "58d527a6",
   "metadata": {},
   "outputs": [
    {
     "data": {
      "text/plain": [
       "1.4142135623730951"
      ]
     },
     "metadata": {},
     "output_type": "display_data"
    },
    {
     "data": {
      "text/latex": [
       "$\\displaystyle \\sqrt{2}$"
      ],
      "text/plain": [
       "sqrt(2)"
      ]
     },
     "metadata": {},
     "output_type": "display_data"
    }
   ],
   "source": [
    "display(np.sqrt(2)) # numerical\n",
    "display(sym.sqrt(2)) # symbolic"
   ]
  },
  {
   "cell_type": "code",
   "execution_count": 51,
   "id": "53f8fb59",
   "metadata": {},
   "outputs": [
    {
     "data": {
      "text/latex": [
       "$\\displaystyle y\\times{x^2}$"
      ],
      "text/plain": [
       "<IPython.core.display.Math object>"
      ]
     },
     "metadata": {},
     "output_type": "display_data"
    }
   ],
   "source": [
    "x,y = sym.symbols('x,y')\n",
    "display(Math(\"y\\\\times{x^2}\"))"
   ]
  },
  {
   "cell_type": "code",
   "execution_count": 66,
   "id": "8bbf1167",
   "metadata": {},
   "outputs": [
    {
     "data": {
      "text/latex": [
       "$\\displaystyle \\sqrt{4x}$"
      ],
      "text/plain": [
       "<IPython.core.display.Math object>"
      ]
     },
     "metadata": {},
     "output_type": "display_data"
    },
    {
     "data": {
      "text/latex": [
       "$\\displaystyle \\sqrt4x$"
      ],
      "text/plain": [
       "<IPython.core.display.Math object>"
      ]
     },
     "metadata": {},
     "output_type": "display_data"
    }
   ],
   "source": [
    "display(Math(\"\\\\sqrt{4x}\"))\n",
    "display(Math(\"\\\\sqrt4x\"))"
   ]
  },
  {
   "cell_type": "code",
   "execution_count": 89,
   "id": "e105c951",
   "metadata": {},
   "outputs": [
    {
     "data": {
      "text/latex": [
       "$\\displaystyle \\sqrt{x}\\sqrt{x}$"
      ],
      "text/plain": [
       "<IPython.core.display.Math object>"
      ]
     },
     "metadata": {},
     "output_type": "display_data"
    },
    {
     "data": {
      "text/latex": [
       "$\\displaystyle x$"
      ],
      "text/plain": [
       "x"
      ]
     },
     "metadata": {},
     "output_type": "display_data"
    }
   ],
   "source": [
    "display(Math(\"\\\\sqrt{x}\\\\sqrt{x}\")) # Latex to display as it is\n",
    "display(sym.sqrt(x)*sym.sqrt(x)) # Sympy computes the values"
   ]
  },
  {
   "cell_type": "markdown",
   "id": "c3865a19",
   "metadata": {},
   "source": [
    "### Greek symbols"
   ]
  },
  {
   "cell_type": "code",
   "execution_count": 71,
   "id": "f5b42dc4",
   "metadata": {},
   "outputs": [
    {
     "data": {
      "text/latex": [
       "$\\displaystyle \\sigma = \\mu \\times \\sqrt{5}$"
      ],
      "text/plain": [
       "<IPython.core.display.Math object>"
      ]
     },
     "metadata": {},
     "output_type": "display_data"
    }
   ],
   "source": [
    "display(Math(\"\\\\sigma = \\\\mu \\\\times \\\\sqrt{5}\"))"
   ]
  },
  {
   "cell_type": "code",
   "execution_count": 77,
   "id": "6ec4165f",
   "metadata": {},
   "outputs": [
    {
     "data": {
      "text/latex": [
       "$\\displaystyle x_m + y^{zt}$"
      ],
      "text/plain": [
       "<IPython.core.display.Math object>"
      ]
     },
     "metadata": {},
     "output_type": "display_data"
    }
   ],
   "source": [
    "display(Math(\"x_m + y^{zt}\"))"
   ]
  },
  {
   "cell_type": "markdown",
   "id": "a8192d59",
   "metadata": {},
   "source": [
    "# Latex coding in markdown cell\n",
    "We use the following rules to print latex code in markdown cell\\\n",
    "\n",
    "1.Use $<expression>$ to print the latex code\\\n",
    "2.Use $$<expression>$$ to print the latex code in new line in centre\\\n",
    "3.Use a single (\\) and not double(\\\\)\n",
    "\n",
    "Go throught the example below"
   ]
  },
  {
   "cell_type": "markdown",
   "id": "45264ce2",
   "metadata": {},
   "source": [
    "This is a expression : $\\frac{1}{x-y}$\n",
    "$$\\frac{1}{x-y}$$"
   ]
  },
  {
   "cell_type": "code",
   "execution_count": 85,
   "id": "dbd18122",
   "metadata": {},
   "outputs": [
    {
     "data": {
      "text/latex": [
       "$\\displaystyle 4x+5y-8z = 17$"
      ],
      "text/plain": [
       "<IPython.core.display.Math object>"
      ]
     },
     "metadata": {},
     "output_type": "display_data"
    },
    {
     "data": {
      "text/latex": [
       "$\\displaystyle 2\\pi ft+\\theta$"
      ],
      "text/plain": [
       "<IPython.core.display.Math object>"
      ]
     },
     "metadata": {},
     "output_type": "display_data"
    },
    {
     "data": {
      "text/latex": [
       "$\\displaystyle e=mc^2$"
      ],
      "text/plain": [
       "<IPython.core.display.Math object>"
      ]
     },
     "metadata": {},
     "output_type": "display_data"
    },
    {
     "data": {
      "text/latex": [
       "$\\displaystyle \\frac{4+5x^2}{(1+x)(1-x)}$"
      ],
      "text/plain": [
       "<IPython.core.display.Math object>"
      ]
     },
     "metadata": {},
     "output_type": "display_data"
    }
   ],
   "source": [
    "display(Math(\"4x+5y-8z = 17\"))\n",
    "display(Math(\"2\\\\pi ft+\\\\theta\"))\n",
    "display(Math(\"e=mc^2\"))\n",
    "display(Math(\"\\\\frac{4+5x^2}{(1+x)(1-x)}\"))"
   ]
  },
  {
   "cell_type": "code",
   "execution_count": null,
   "id": "d9165838",
   "metadata": {},
   "outputs": [],
   "source": []
  }
 ],
 "metadata": {
  "kernelspec": {
   "display_name": "Python 3",
   "language": "python",
   "name": "python3"
  },
  "language_info": {
   "codemirror_mode": {
    "name": "ipython",
    "version": 3
   },
   "file_extension": ".py",
   "mimetype": "text/x-python",
   "name": "python",
   "nbconvert_exporter": "python",
   "pygments_lexer": "ipython3",
   "version": "3.8.8"
  }
 },
 "nbformat": 4,
 "nbformat_minor": 5
}
