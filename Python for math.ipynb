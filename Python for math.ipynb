{
 "cells": [
  {
   "cell_type": "code",
   "execution_count": 1,
   "id": "b874a564",
   "metadata": {},
   "outputs": [],
   "source": [
    "from IPython.display import display,Math"
   ]
  },
  {
   "cell_type": "markdown",
   "id": "6bfb4744",
   "metadata": {},
   "source": [
    "# Latex coding\n",
    "Displaying the output in the presentable form."
   ]
  },
  {
   "cell_type": "code",
   "execution_count": 2,
   "id": "eb00b7d8",
   "metadata": {},
   "outputs": [
    {
     "data": {
      "text/plain": [
       "'3 + 4 = 7'"
      ]
     },
     "metadata": {},
     "output_type": "display_data"
    }
   ],
   "source": [
    "display('3 + 4 = 7')"
   ]
  },
  {
   "cell_type": "code",
   "execution_count": 3,
   "id": "a2b4e764",
   "metadata": {},
   "outputs": [
    {
     "data": {
      "text/latex": [
       "$\\displaystyle 3 + 4 = 7$"
      ],
      "text/plain": [
       "<IPython.core.display.Math object>"
      ]
     },
     "metadata": {},
     "output_type": "display_data"
    }
   ],
   "source": [
    "display(Math('%g + %g = %g'%(3,4,3+4)))"
   ]
  },
  {
   "cell_type": "markdown",
   "id": "e1f180a4",
   "metadata": {},
   "source": [
    "## frac"
   ]
  },
  {
   "cell_type": "code",
   "execution_count": 4,
   "id": "160dc4ad",
   "metadata": {},
   "outputs": [
    {
     "data": {
      "text/latex": [
       "$\\displaystyle \\frac{3}{4} = 0.75$"
      ],
      "text/plain": [
       "<IPython.core.display.Math object>"
      ]
     },
     "metadata": {},
     "output_type": "display_data"
    }
   ],
   "source": [
    "x=3\n",
    "y=4\n",
    "display(Math(\"\\\\frac{%g}{%g} = %g\"%(x,y,x/y)))"
   ]
  },
  {
   "cell_type": "markdown",
   "id": "621df9c7",
   "metadata": {},
   "source": [
    "## times"
   ]
  },
  {
   "cell_type": "code",
   "execution_count": 5,
   "id": "f81e34d2",
   "metadata": {},
   "outputs": [
    {
     "data": {
      "text/latex": [
       "$\\displaystyle 3 \\times 4$"
      ],
      "text/plain": [
       "<IPython.core.display.Math object>"
      ]
     },
     "metadata": {},
     "output_type": "display_data"
    }
   ],
   "source": [
    "display(Math('%g \\\\times %g'%(x,y)))"
   ]
  },
  {
   "cell_type": "code",
   "execution_count": 6,
   "id": "8ecc5bc8",
   "metadata": {},
   "outputs": [
    {
     "data": {
      "text/latex": [
       "$\\displaystyle 3x(4+y)= 42$"
      ],
      "text/plain": [
       "<IPython.core.display.Math object>"
      ]
     },
     "metadata": {},
     "output_type": "display_data"
    },
    {
     "data": {
      "text/latex": [
       "$\\displaystyle 3 \\times 7 (4 + -2) = 42$"
      ],
      "text/plain": [
       "<IPython.core.display.Math object>"
      ]
     },
     "metadata": {},
     "output_type": "display_data"
    }
   ],
   "source": [
    "x = 7\n",
    "y = -2\n",
    "z = 5\n",
    "answer = (3*x)*(4+y)\n",
    "display(Math('3x(4+y)= %g'%(answer)))\n",
    "display(Math('3 \\\\times %g (4 + %g) = %g'%(x,y,answer)))"
   ]
  },
  {
   "cell_type": "code",
   "execution_count": 7,
   "id": "03c109dd",
   "metadata": {},
   "outputs": [
    {
     "data": {
      "text/latex": [
       "$\\displaystyle -y-\\frac{x+3}{z} = 0$"
      ],
      "text/plain": [
       "<IPython.core.display.Math object>"
      ]
     },
     "metadata": {},
     "output_type": "display_data"
    },
    {
     "data": {
      "text/latex": [
       "$\\displaystyle --2-\\frac{7+3}{5} = 0$"
      ],
      "text/plain": [
       "<IPython.core.display.Math object>"
      ]
     },
     "metadata": {},
     "output_type": "display_data"
    }
   ],
   "source": [
    "answer = (-y-((x+3)/z))\n",
    "display(Math('-y-\\\\frac{x+3}{z} = %g'%(answer)))\n",
    "display(Math('-%g-\\\\frac{%g+3}{%g} = %g'%(y,x,z,answer)))"
   ]
  },
  {
   "cell_type": "markdown",
   "id": "c375306c",
   "metadata": {},
   "source": [
    "## Exponents"
   ]
  },
  {
   "cell_type": "code",
   "execution_count": 8,
   "id": "db37c0c6",
   "metadata": {},
   "outputs": [
    {
     "name": "stdout",
     "output_type": "stream",
     "text": [
      "81\n"
     ]
    }
   ],
   "source": [
    "print(3**4)"
   ]
  },
  {
   "cell_type": "code",
   "execution_count": 10,
   "id": "6b7644c4",
   "metadata": {},
   "outputs": [
    {
     "data": {
      "text/latex": [
       "$\\displaystyle 3^4 = 81$"
      ],
      "text/plain": [
       "<IPython.core.display.Math object>"
      ]
     },
     "metadata": {},
     "output_type": "display_data"
    }
   ],
   "source": [
    "display(Math('3^4 = %g'%(3**4)))"
   ]
  },
  {
   "cell_type": "code",
   "execution_count": 12,
   "id": "04878ca9",
   "metadata": {},
   "outputs": [
    {
     "data": {
      "text/latex": [
       "$\\displaystyle x^\\frac{3}{4}\\times 4^y = 3933.09$"
      ],
      "text/plain": [
       "<IPython.core.display.Math object>"
      ]
     },
     "metadata": {},
     "output_type": "display_data"
    }
   ],
   "source": [
    "x=5\n",
    "y=5.1\n",
    "ans = x**(3/4) * 4**y\n",
    "display(Math('x^\\\\frac{3}{4}\\\\times 4^y = %g'%(ans)))"
   ]
  },
  {
   "cell_type": "code",
   "execution_count": 13,
   "id": "d86c0e81",
   "metadata": {},
   "outputs": [
    {
     "data": {
      "text/latex": [
       "$\\displaystyle \\frac {3^3}{x^y} = 0.00735558$"
      ],
      "text/plain": [
       "<IPython.core.display.Math object>"
      ]
     },
     "metadata": {},
     "output_type": "display_data"
    }
   ],
   "source": [
    "ans = 3**3 / x**y\n",
    "display(Math('\\\\frac {3^3}{x^y} = %g'%ans))"
   ]
  },
  {
   "cell_type": "code",
   "execution_count": 15,
   "id": "838d2a39",
   "metadata": {},
   "outputs": [
    {
     "data": {
      "text/latex": [
       "$\\displaystyle 10^{x-4} = 10$"
      ],
      "text/plain": [
       "<IPython.core.display.Math object>"
      ]
     },
     "metadata": {},
     "output_type": "display_data"
    }
   ],
   "source": [
    "ans = 10**(x-4)\n",
    "display(Math('10^{x-4} = %g'%ans))"
   ]
  },
  {
   "cell_type": "code",
   "execution_count": null,
   "id": "530107e0",
   "metadata": {},
   "outputs": [],
   "source": []
  }
 ],
 "metadata": {
  "kernelspec": {
   "display_name": "Python 3",
   "language": "python",
   "name": "python3"
  },
  "language_info": {
   "codemirror_mode": {
    "name": "ipython",
    "version": 3
   },
   "file_extension": ".py",
   "mimetype": "text/x-python",
   "name": "python",
   "nbconvert_exporter": "python",
   "pygments_lexer": "ipython3",
   "version": "3.8.8"
  }
 },
 "nbformat": 4,
 "nbformat_minor": 5
}
